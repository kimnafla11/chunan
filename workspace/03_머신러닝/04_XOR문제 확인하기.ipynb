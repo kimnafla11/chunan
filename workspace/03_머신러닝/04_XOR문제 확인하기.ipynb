{
 "cells": [
  {
   "cell_type": "code",
   "execution_count": 1,
   "id": "a4cdf459",
   "metadata": {},
   "outputs": [],
   "source": [
    "# 기본\n",
    "import pandas as pd\n",
    "import numpy as np\n",
    "import matplotlib.pyplot as plt\n",
    "import seaborn as sns\n",
    "\n",
    "# 불필요한 경고 안뜨게\n",
    "import warnings\n",
    "warnings.filterwarnings('ignore')\n",
    "\n",
    "# 데이터 전처리 알고리즘(비지도학습)\n",
    "# 문자열 데이터를 숫자로 변환한다.\n",
    "from sklearn.preprocessing import LabelEncoder\n",
    "# 표준편차 기반으로 표준화(컬럼 당 숫자 편차가 다르니까.)\n",
    "# 잘못된 학습을 정상화 시키는 목적으로 사용함\n",
    "from sklearn.preprocessing import StandardScaler # 젤 유명 표준화\n",
    "\n",
    "# train data랑 test data 나눔\n",
    "from sklearn.model_selection import train_test_split\n",
    "\n",
    "#교차검증\n",
    "from sklearn.model_selection import cross_val_score\n",
    "\n",
    "# 평가 함수\n",
    "# 정확도 평가 함수\n",
    "from sklearn.metrics import accuracy_score\n",
    "\n",
    "# mse 평가 함수\n",
    "from sklearn.metrics import mean_squared_error\n",
    "\n",
    "# 학습 알고리즘 - 분류\n",
    "# 최 근접 이웃\n",
    "# 학습시 : 주어진 데이터를 저장만 한다\n",
    "# 예측시 : 주변의 데이터를 보고 가장 많은 결과로 결정한다\n",
    "from sklearn.neighbors import KNeighborsClassifier\n",
    "\n",
    "# 선형\n",
    "from sklearn.linear_model import LogisticRegression\n",
    "from sklearn.svm import SVC\n",
    "\n",
    "# 트리\n",
    "# 학습시 : 주어진 데이터를 갖고 질문을 생성한다\n",
    "# 예측시 : 질문을 통해 최종 결과 예측\n",
    "from sklearn.tree import DecisionTreeClassifier\n",
    "\n",
    "# 앙상블 - 다수의 알고리즘이 던지는 결과를 취합하여 최종 결과를 결정함\n",
    "# 트리들을 사용한다\n",
    "# 학습시 : 데이터를 랜덤하게 섞어서 80%를 추출한다.\n",
    "# 추출된 데이터를 트리의 개수만큼 생성해 각 트리들에게 주고 학습 수행\n",
    "# 예측시 : 각 트리가 던지는 결과를 취합하여 다수결의 원칙으로 최종결과 결정\n",
    "from sklearn.ensemble import RandomForestClassifier\n",
    "\n",
    "# 부스팅 - 앙상블 알고리즘이 잘못 예측한 데이터를 다시 학습하는 방식\n",
    "# 학습과 예측 원리는 앙상블과 동일함\n",
    "from sklearn.ensemble import AdaBoostClassifier\n",
    "from sklearn.ensemble import GradientBoostingClassifier\n",
    "\n",
    "# 학습 알고리즘 - 회귀\n",
    "# 최근접이웃\n",
    "from sklearn.neighbors import KNeighborsRegressor\n",
    "\n",
    "# 선형\n",
    "from sklearn.linear_model import LinearRegression\n",
    "from sklearn.linear_model import Ridge\n",
    "from sklearn.linear_model import Lasso\n",
    "from sklearn.linear_model import ElasticNet\n",
    "from sklearn.svm import SVR\n",
    "\n",
    "# 트리\n",
    "from sklearn.tree import DecisionTreeRegressor\n",
    "# 앙상블\n",
    "from sklearn.ensemble import RandomForestRegressor\n",
    "# 부스팅\n",
    "from sklearn.ensemble import AdaBoostRegressor\n",
    "from sklearn.ensemble import GradientBoostingRegressor"
   ]
  },
  {
   "cell_type": "code",
   "execution_count": 5,
   "id": "5adcbaff",
   "metadata": {},
   "outputs": [],
   "source": [
    "# 데이터\n",
    "X = [\n",
    "    [0, 0],\n",
    "    [0, 1],\n",
    "    [1, 0],\n",
    "    [1, 1]\n",
    "]\n",
    "\n",
    "and_y = [0, 0, 0, 1] # 둘다 1이어야 1임\n",
    "nand_y = [1, 1, 1, 0] # and_y를 뒤집은거\n",
    "or_y = [0, 1, 1, 1] # 둘중 하나가 1이어야 1임\n",
    "xor_y = [0, 1, 1, 0] # 같으면 1 다르면 0"
   ]
  },
  {
   "cell_type": "code",
   "execution_count": 3,
   "id": "d55756f7",
   "metadata": {},
   "outputs": [],
   "source": [
    "model1 = KNeighborsClassifier()\n",
    "model2 = LogisticRegression()\n",
    "model3 = SVC()\n",
    "model4 = DecisionTreeClassifier()\n",
    "model5 = RandomForestClassifier()\n",
    "model6 = AdaBoostClassifier()\n",
    "model7 = GradientBoostingClassifier()"
   ]
  },
  {
   "cell_type": "code",
   "execution_count": 6,
   "id": "556fbfc4",
   "metadata": {},
   "outputs": [
    {
     "data": {
      "text/plain": [
       "GradientBoostingClassifier()"
      ]
     },
     "execution_count": 6,
     "metadata": {},
     "output_type": "execute_result"
    }
   ],
   "source": [
    "model1.fit(X, and_y)\n",
    "model2.fit(X, and_y)\n",
    "model3.fit(X, and_y)\n",
    "model4.fit(X, and_y)\n",
    "model5.fit(X, and_y)\n",
    "model6.fit(X, and_y)\n",
    "model7.fit(X, and_y)"
   ]
  },
  {
   "cell_type": "code",
   "execution_count": 15,
   "id": "77307bec",
   "metadata": {},
   "outputs": [],
   "source": [
    "#pred1 = model1.predict(X) #데이터 수가 너무 적어서 에러남 파라미터 조정하면 되긴함\n",
    "pred2 = model2.predict(X)\n",
    "pred3 = model3.predict(X)\n",
    "pred4 = model4.predict(X)\n",
    "pred5 = model5.predict(X)\n",
    "pred6 = model6.predict(X)\n",
    "pred7 = model7.predict(X)"
   ]
  },
  {
   "cell_type": "code",
   "execution_count": 17,
   "id": "aaabff2c",
   "metadata": {},
   "outputs": [
    {
     "name": "stdout",
     "output_type": "stream",
     "text": [
      "[0 0 0 0]\n",
      "[0 0 0 1]\n",
      "[0 0 0 1]\n",
      "[0 0 0 1]\n",
      "[0 0 0 1]\n",
      "[0 0 0 1]\n"
     ]
    }
   ],
   "source": [
    "print(pred2) # 선형모델은 안됨\n",
    "print(pred3)\n",
    "print(pred4)\n",
    "print(pred5)\n",
    "print(pred6)\n",
    "print(pred7)"
   ]
  },
  {
   "cell_type": "code",
   "execution_count": 19,
   "id": "124349c8",
   "metadata": {},
   "outputs": [],
   "source": [
    "# 사용할 학습 모델들을 생성한다.\n",
    "model1 = KNeighborsClassifier()\n",
    "model2 = LogisticRegression()\n",
    "model3 = SVC()\n",
    "model4 = DecisionTreeClassifier()\n",
    "model5 = RandomForestClassifier()\n",
    "model6 = AdaBoostClassifier()\n",
    "model7 = GradientBoostingClassifier()"
   ]
  },
  {
   "cell_type": "code",
   "execution_count": 20,
   "id": "42cea4c3",
   "metadata": {},
   "outputs": [
    {
     "data": {
      "text/plain": [
       "GradientBoostingClassifier()"
      ]
     },
     "execution_count": 20,
     "metadata": {},
     "output_type": "execute_result"
    }
   ],
   "source": [
    "model1.fit(X, or_y)\n",
    "model2.fit(X, or_y)\n",
    "model3.fit(X, or_y)\n",
    "model4.fit(X, or_y)\n",
    "model5.fit(X, or_y)\n",
    "model6.fit(X, or_y)\n",
    "model7.fit(X, or_y)"
   ]
  },
  {
   "cell_type": "code",
   "execution_count": 21,
   "id": "ad2ad639",
   "metadata": {},
   "outputs": [],
   "source": [
    "# pred1 = model1.predict(X) #데이터 수가 너무 적어서 에러남 파라미터 조정하면 되긴함\n",
    "# k-NN은 선형 모델이 아니기 때매 파라미터 조정하면 될수도/안될수도\n",
    "pred2 = model2.predict(X)\n",
    "pred3 = model3.predict(X)\n",
    "pred4 = model4.predict(X)\n",
    "pred5 = model5.predict(X)\n",
    "pred6 = model6.predict(X)\n",
    "pred7 = model7.predict(X)"
   ]
  },
  {
   "cell_type": "code",
   "execution_count": 22,
   "id": "1193aebe",
   "metadata": {},
   "outputs": [
    {
     "name": "stdout",
     "output_type": "stream",
     "text": [
      "[1 1 1 1]\n",
      "[0 1 1 1]\n",
      "[0 1 1 1]\n",
      "[0 1 1 1]\n",
      "[0 1 1 1]\n",
      "[0 1 1 1]\n"
     ]
    }
   ],
   "source": [
    "print(pred2) # 선형모델은 안됨\n",
    "print(pred3)\n",
    "print(pred4)\n",
    "print(pred5)\n",
    "print(pred6)\n",
    "print(pred7)"
   ]
  },
  {
   "cell_type": "code",
   "execution_count": 23,
   "id": "17181e58",
   "metadata": {},
   "outputs": [],
   "source": [
    "# 사용할 학습 모델들을 생성한다.\n",
    "model1 = KNeighborsClassifier()\n",
    "model2 = LogisticRegression()\n",
    "model3 = SVC()\n",
    "model4 = DecisionTreeClassifier()\n",
    "model5 = RandomForestClassifier()\n",
    "model6 = AdaBoostClassifier()\n",
    "model7 = GradientBoostingClassifier()"
   ]
  },
  {
   "cell_type": "code",
   "execution_count": 24,
   "id": "14785eff",
   "metadata": {},
   "outputs": [
    {
     "data": {
      "text/plain": [
       "GradientBoostingClassifier()"
      ]
     },
     "execution_count": 24,
     "metadata": {},
     "output_type": "execute_result"
    }
   ],
   "source": [
    "model1.fit(X, xor_y)\n",
    "model2.fit(X, xor_y)\n",
    "model3.fit(X, xor_y)\n",
    "model4.fit(X, xor_y)\n",
    "model5.fit(X, xor_y)\n",
    "model6.fit(X, xor_y)\n",
    "model7.fit(X, xor_y)"
   ]
  },
  {
   "cell_type": "code",
   "execution_count": 25,
   "id": "0576ebaf",
   "metadata": {},
   "outputs": [],
   "source": [
    "# pred1 = model1.predict(X)\n",
    "pred2 = model2.predict(X)\n",
    "pred3 = model3.predict(X)\n",
    "pred4 = model4.predict(X)\n",
    "pred5 = model5.predict(X)\n",
    "pred6 = model6.predict(X)\n",
    "pred7 = model7.predict(X)"
   ]
  },
  {
   "cell_type": "code",
   "execution_count": 26,
   "id": "b6fe82e3",
   "metadata": {},
   "outputs": [
    {
     "name": "stdout",
     "output_type": "stream",
     "text": [
      "[0 0 0 0]\n",
      "[0 1 1 0]\n",
      "[0 1 1 0]\n",
      "[0 1 1 0]\n",
      "[0 0 0 0]\n",
      "[0 1 1 0]\n"
     ]
    }
   ],
   "source": [
    "print(pred2) # 선형회귀는 안됨\n",
    "print(pred3) # SVM이 선 두개 긋는거라 또 됨\n",
    "print(pred4)\n",
    "print(pred5)\n",
    "print(pred6) # Adaboost 안됨 이것도 되기도 안되기도\n",
    "print(pred7)"
   ]
  },
  {
   "cell_type": "code",
   "execution_count": null,
   "id": "3d5bb7b4",
   "metadata": {},
   "outputs": [],
   "source": []
  }
 ],
 "metadata": {
  "kernelspec": {
   "display_name": "Python 3 (ipykernel)",
   "language": "python",
   "name": "python3"
  },
  "language_info": {
   "codemirror_mode": {
    "name": "ipython",
    "version": 3
   },
   "file_extension": ".py",
   "mimetype": "text/x-python",
   "name": "python",
   "nbconvert_exporter": "python",
   "pygments_lexer": "ipython3",
   "version": "3.9.13"
  }
 },
 "nbformat": 4,
 "nbformat_minor": 5
}
