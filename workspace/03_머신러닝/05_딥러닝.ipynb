{
 "cells": [
  {
   "cell_type": "markdown",
   "id": "a11d6f20",
   "metadata": {},
   "source": [
    "- 선형회귀 하나로는 해결하지 못하는 문제를 해결하기 위해 만든 머신러닝 분야\n",
    "- 선형회귀를 한번만 수행하는 것이 아닌 다수의 횟수로 수행하여 문제를 해결하는 방법\n",
    "- 입력층, 은닉층, 출력층으로 구성된다.\n",
    "- 입력층 : 데이터를 읽어오는 부분. 노드의 개수는 입력 데이터의 개수와 일치해야 한다. 노드는 데이터를 읽어오는 역할을 수행한다.\n",
    "- 은닉층 : 선형회귀를 수행하는 부분. 현재 은닉층 전에 있는 층에서 전달하는 데이터가 입력 데이터가 된다. 은닉층의 노드는 선형회귀를 수행하는 역할을 한다. 은닉층의 노드의 개수는 자유롭게 설정한다. 노드의 개수가 너무 적으면 학습이 되지 않고 노드의 개수가 너무 많으면 시간이 매우 오래 걸린다. 노드의 개수는 학습이 가능한 최소의 숫자로 설정해주는것이 좋다.\n",
    "- 은닉층의 개수는 다수 일 수도 있다. 인닉층의 개수가 부족하면 학습이 되지 않고 은닉층의 개수로 많으면 시간이 매우 오래 걸린다. 학습이 가능한 최소한의 숫자로 두는 것이 좋다.\n",
    "- 출력층 : 마지막 은닉층이 전달하는 데이터를 가지고 선형회귀를 수행한다. 출력층이 던지는 결과가 최종 결과로 사용하면 된다.\n"
   ]
  },
  {
   "cell_type": "markdown",
   "id": "0b3d493b",
   "metadata": {},
   "source": [
    "### 학습\n",
    "- 순전파 : 입력된 데이터를 은닉층을 거쳐 출력층까지 전달하여 결과를 예측하는 과정\n",
    "- 역전파 : 예측된 결과와 실제 값의 오차를 구해 출력층에서 은닉층으로 전달하여 오차 정도를 가지고 각 가중치를 보정하는 과정\n",
    "- 순전파를 통해 결과를 예측하고 오차를 구한다음 오차값을 역으로 전달하여 가중치와 바이어스를 수정하는 과정 까지가 학습의 한번이 된다.\n",
    "- 이 과정을 무수히 반복하여 최적의 가중치와 바이어스를 계산하는 것이 딥러닝 학습이다\n"
   ]
  },
  {
   "cell_type": "markdown",
   "id": "3bdae057",
   "metadata": {},
   "source": [
    "### 활성화 함수\n",
    "- 선형 회귀를 통해 계산된 결과를 다시 계산하여 목적을 달성할 수 있도록 하는 함수\n",
    "- ReLU : 역전파시 발생되는 기울기 소실 문제를 해결하는 함수. 모든 은닉층에 두어야 한다.;\n",
    "- Sigmoid : 회귀를 통해 계산된 결과를 0 ~ 1사이로 보정해주는 함수. 2진 분류의 문제에서 사용한다.\n",
    "- Softmax : Sigmoid 함수를 가지고는 다중 분류의 문제를 해결할 수 없어서 만든 함수\n"
   ]
  },
  {
   "cell_type": "markdown",
   "id": "49cc4dc7",
   "metadata": {},
   "source": [
    "### 딥러닝 알고리즘\n",
    "- tensorflow + keras \n",
    "- tensorflow : 딥러닝을 수행할 수 있는 라이브러리\n",
    "- keras : tensorflow 프로그래밍을 쉽게 할 수 있도록 만든 라이브러리.\n",
    "- pytorch + pytorch lightning\n",
    "- pytorch : 딥러닝을 수행할 수 있는 라이브러리\n",
    "- pytorch lightning : pytorch 프로그래밍을 쉽게 할 수 있도록 만든 라이브러리\n"
   ]
  },
  {
   "cell_type": "markdown",
   "id": "64fc93e8",
   "metadata": {},
   "source": [
    "### tensorflow 설치\n",
    "- anaconda prompt 에서 pip install tensorflow\n",
    "(아나콘다가 업뎃되면서 아주 이지해짐)"
   ]
  }
 ],
 "metadata": {
  "kernelspec": {
   "display_name": "Python 3 (ipykernel)",
   "language": "python",
   "name": "python3"
  },
  "language_info": {
   "codemirror_mode": {
    "name": "ipython",
    "version": 3
   },
   "file_extension": ".py",
   "mimetype": "text/x-python",
   "name": "python",
   "nbconvert_exporter": "python",
   "pygments_lexer": "ipython3",
   "version": "3.9.13"
  }
 },
 "nbformat": 4,
 "nbformat_minor": 5
}
