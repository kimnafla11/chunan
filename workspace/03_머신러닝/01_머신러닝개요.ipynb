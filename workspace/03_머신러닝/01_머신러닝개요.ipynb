{
 "cells": [
  {
   "cell_type": "markdown",
   "id": "41cbc5b0",
   "metadata": {},
   "source": [
    "### 머신러닝\n",
    "- 결과를 예측할 수 있도록 상수를 찾아 공식을 완성하는 과정\n",
    "- 머신러닝은 쓸만한 답을 계산하는 모델을 찾는 과정이다.\n",
    "\n",
    "#### 지도학습\n",
    "- 결과를 예측하는 과제를 수행한다. (classification/regression)\n",
    "- 지도학습 알고리즘의 목표는 결과를 예측하는 공통의 목표를 갖고 있다.\n",
    "- 지도학습을 공부할 때는 각 학습 알고리즘의 학습 방식과 예측 방식을 이해하는 것이 중요하다.\n",
    "\n",
    "#### 비지도학습\n",
    "- 결과 데이터 없이 학습하는 알고리즘 (클러스터링, 데이터 차원축소 PCA)\n",
    "- 결과를 생성해야 하는 경우, 데이터 변환 등의 작업을 할 때 사용\n",
    "- 비지도학습 알고리즘은 모두 다른 목적으로 사용하기 때문에 알고리즘이 어떠한 기능 가지고 있는지 학습하는 것이 중요하다.\n",
    "\n",
    "#### 강화학습\n",
    "- 임의의 행동을 취해서 상과 벌을 준다. 상을 받는 쪽으로 행동을 계속 하려고 노력하는 학습방법(리워드/패널티)"
   ]
  },
  {
   "cell_type": "markdown",
   "id": "7c0e9582",
   "metadata": {},
   "source": [
    "### 머신러닝 알고리즘 종류\n",
    "- 선형모델 : 선형회귀를 수행하는 알고리즘 (나이브 베이지안, 서포트벡터머신)\n",
    "- 최근접이웃 : 주변에 데이터를 보고 평균 또는 다수결의 원칙에 의해 결과 예측(k-NN)\n",
    "- 트리 : 주어진 데이터를 기반으로 질문을 생성하여 질문을 통해 예측/like 스무고개\n",
    "- 앙상블 : 여러 알고리즘이 던지는 결과를 취합하여 최종 결과를 결정하는 방식(랜포)\n",
    "- 부스팅 : 앙상블 방식에서 틀린 답을 다시 학습해서 예측함(Ada boosting)"
   ]
  },
  {
   "cell_type": "code",
   "execution_count": null,
   "id": "939d3ae4",
   "metadata": {},
   "outputs": [],
   "source": []
  }
 ],
 "metadata": {
  "kernelspec": {
   "display_name": "Python 3 (ipykernel)",
   "language": "python",
   "name": "python3"
  },
  "language_info": {
   "codemirror_mode": {
    "name": "ipython",
    "version": 3
   },
   "file_extension": ".py",
   "mimetype": "text/x-python",
   "name": "python",
   "nbconvert_exporter": "python",
   "pygments_lexer": "ipython3",
   "version": "3.9.13"
  }
 },
 "nbformat": 4,
 "nbformat_minor": 5
}
