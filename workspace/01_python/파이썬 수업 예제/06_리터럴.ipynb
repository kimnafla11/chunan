{
 "cells": [
  {
   "cell_type": "markdown",
   "id": "de8a9838",
   "metadata": {},
   "source": [
    "### 리터럴\n",
    "- 프로그래밍 언어에서 값을 작성하는 문법"
   ]
  },
  {
   "cell_type": "code",
   "execution_count": 1,
   "id": "45c183fc",
   "metadata": {},
   "outputs": [
    {
     "name": "stdout",
     "output_type": "stream",
     "text": [
      "100\n",
      "11.11\n"
     ]
    }
   ],
   "source": [
    "# 정수\n",
    "print(100)\n",
    "\n",
    "# 실수\n",
    "print(11.11)"
   ]
  },
  {
   "cell_type": "code",
   "execution_count": 2,
   "id": "6b2de146",
   "metadata": {},
   "outputs": [
    {
     "name": "stdout",
     "output_type": "stream",
     "text": [
      "True\n",
      "False\n"
     ]
    }
   ],
   "source": [
    "# 참\n",
    "print(True)\n",
    "\n",
    "# 거짓\n",
    "print(False)"
   ]
  },
  {
   "cell_type": "code",
   "execution_count": 3,
   "id": "4e994ff7",
   "metadata": {},
   "outputs": [
    {
     "name": "stdout",
     "output_type": "stream",
     "text": [
      "문자열\n",
      "문자열\n"
     ]
    }
   ],
   "source": [
    "# 문자열\n",
    "print('문자열')\n",
    "print(\"문자열\")"
   ]
  },
  {
   "cell_type": "code",
   "execution_count": 4,
   "id": "5b59a842",
   "metadata": {},
   "outputs": [
    {
     "name": "stdout",
     "output_type": "stream",
     "text": [
      "(10+3j)\n",
      "31400000000.0\n"
     ]
    }
   ],
   "source": [
    "# 복소수\n",
    "print(10 + 3j)\n",
    "\n",
    "# 지수\n",
    "print(3.14e10)"
   ]
  },
  {
   "cell_type": "code",
   "execution_count": 5,
   "id": "343152b4",
   "metadata": {},
   "outputs": [
    {
     "name": "stdout",
     "output_type": "stream",
     "text": [
      "239812029382\n"
     ]
    }
   ],
   "source": [
    "# 정수 표현 방법 중 하나..\n",
    "print(239_812_029_382)"
   ]
  },
  {
   "cell_type": "code",
   "execution_count": 6,
   "id": "6a75b376",
   "metadata": {},
   "outputs": [
    {
     "name": "stdout",
     "output_type": "stream",
     "text": [
      "None\n"
     ]
    }
   ],
   "source": [
    "# 아무것도 없다는 의미의 값\n",
    "print(None)"
   ]
  },
  {
   "cell_type": "markdown",
   "id": "7ba198c7",
   "metadata": {},
   "source": [
    "### type\n",
    "- 값의 타입을 파악할 수 있다."
   ]
  },
  {
   "cell_type": "code",
   "execution_count": 7,
   "id": "69a4c2dc",
   "metadata": {},
   "outputs": [
    {
     "name": "stdout",
     "output_type": "stream",
     "text": [
      "<class 'int'>\n",
      "<class 'float'>\n",
      "<class 'bool'>\n",
      "<class 'bool'>\n",
      "<class 'str'>\n",
      "<class 'str'>\n",
      "<class 'complex'>\n",
      "<class 'float'>\n",
      "<class 'int'>\n",
      "<class 'NoneType'>\n"
     ]
    }
   ],
   "source": [
    "print(type(100))\n",
    "print(type(11.11))\n",
    "print(type(True))\n",
    "print(type(False))\n",
    "print(type('문자열'))\n",
    "print(type(\"문자열\"))\n",
    "print(type(10 + 3j))\n",
    "print(type(3.14e10))\n",
    "print(type(239_812_029_382))\n",
    "print(type(None))"
   ]
  },
  {
   "cell_type": "code",
   "execution_count": null,
   "id": "1f6b4c41",
   "metadata": {},
   "outputs": [],
   "source": []
  }
 ],
 "metadata": {
  "kernelspec": {
   "display_name": "Python 3",
   "language": "python",
   "name": "python3"
  },
  "language_info": {
   "codemirror_mode": {
    "name": "ipython",
    "version": 3
   },
   "file_extension": ".py",
   "mimetype": "text/x-python",
   "name": "python",
   "nbconvert_exporter": "python",
   "pygments_lexer": "ipython3",
   "version": "3.8.8"
  }
 },
 "nbformat": 4,
 "nbformat_minor": 5
}
