{
 "cells": [
  {
   "cell_type": "markdown",
   "id": "270e526a",
   "metadata": {},
   "source": [
    "### 파이썬에서의 문자열\n",
    "- ''(작은 따옴표), \"\"(큰 따옴표)로 묶어준다.\n",
    "- ''', \"\"\" 로 묶어준 문자열이 존재한다.\n",
    "- 문자열 포멧팅을 지원한다.\n",
    "- 문자열 관리는 튜플과 비슷하게 관리한다."
   ]
  },
  {
   "cell_type": "markdown",
   "id": "7ec601ee",
   "metadata": {},
   "source": [
    "### 문자열 생성"
   ]
  },
  {
   "cell_type": "code",
   "execution_count": 2,
   "id": "b519d921",
   "metadata": {},
   "outputs": [
    {
     "name": "stdout",
     "output_type": "stream",
     "text": [
      "<class 'str'>\n",
      "<class 'str'>\n",
      "문자열1\n",
      "문자열2\n"
     ]
    }
   ],
   "source": [
    "str1 = '문자열1'\n",
    "str2 = \"문자열2\"\n",
    "\n",
    "print(type(str1))\n",
    "print(type(str2))\n",
    "\n",
    "print(str1)\n",
    "print(str2)"
   ]
  },
  {
   "cell_type": "code",
   "execution_count": 3,
   "id": "14e00bd1",
   "metadata": {},
   "outputs": [
    {
     "name": "stdout",
     "output_type": "stream",
     "text": [
      "이름은 '홍길동' 입니다\n",
      "이름은 \"홍길동\" 입니다\n"
     ]
    }
   ],
   "source": [
    "# 문자열안에 작은 따옴표가 포함되어 있다면...\n",
    "str3 = \"이름은 '홍길동' 입니다\"\n",
    "# 문자열안에 큰 따옴표가 포함되어 있다면...\n",
    "str4 = '이름은 \"홍길동\" 입니다'\n",
    "\n",
    "print(str3)\n",
    "print(str4)"
   ]
  },
  {
   "cell_type": "markdown",
   "id": "72866454",
   "metadata": {},
   "source": [
    "### 이스케이프 문자\n",
    "- 특별한 기능을 가지고 있는 문자\n",
    "- \\n : 아래로 내린다.\n",
    "- \\t : 탭 만큼 띄운다\n",
    "- \\a : 비프음\n",
    "- \\000 : 널 문자\n",
    "- \\\\\\\\ : \\ 글자\n",
    "- \\\\\" : 큰 따옴표\n",
    "- \\\\' : 작은 따옴표"
   ]
  },
  {
   "cell_type": "code",
   "execution_count": 4,
   "id": "ec1beae7",
   "metadata": {},
   "outputs": [
    {
     "name": "stdout",
     "output_type": "stream",
     "text": [
      "동해물과\n",
      "백두산이\n"
     ]
    }
   ],
   "source": [
    "str1 = '동해물과\\n백두산이'\n",
    "print(str1)"
   ]
  },
  {
   "cell_type": "code",
   "execution_count": 5,
   "id": "0461b09d",
   "metadata": {},
   "outputs": [
    {
     "name": "stdout",
     "output_type": "stream",
     "text": [
      "동해물과\t백두산이\n"
     ]
    }
   ],
   "source": [
    "str2 = '동해물과\\t백두산이'\n",
    "print(str2)"
   ]
  },
  {
   "cell_type": "code",
   "execution_count": 6,
   "id": "39bbfe28",
   "metadata": {},
   "outputs": [
    {
     "name": "stdout",
     "output_type": "stream",
     "text": [
      "동해물과\u0007백두산이\n"
     ]
    }
   ],
   "source": [
    "str3 = '동해물과\\a백두산이'\n",
    "print(str3)"
   ]
  },
  {
   "cell_type": "code",
   "execution_count": 1,
   "id": "426360d4",
   "metadata": {},
   "outputs": [
    {
     "name": "stdout",
     "output_type": "stream",
     "text": [
      "c:\\windows\\system32\\name\n"
     ]
    }
   ],
   "source": [
    "str4 = \"c:\\\\windows\\\\system32\\\\name\" # 경로는 \\\\ 두개 붙여서 적기 아니면 /한개만 붙이기\n",
    "print(str4)"
   ]
  },
  {
   "cell_type": "code",
   "execution_count": 3,
   "id": "23c521c7",
   "metadata": {},
   "outputs": [
    {
     "name": "stdout",
     "output_type": "stream",
     "text": [
      "이름은 \"홍길동\"이고 나이는 '23살' 입니다\n",
      "이름은 '홍길동'이고 나이는 \"23살\" 입니다\n"
     ]
    }
   ],
   "source": [
    "# 이거 쓰지말라면서 왜 만들었노 따옴표 세 개 짜리 쓰기\n",
    "str5 = '이름은 \"홍길동\"이고 나이는 \\'23살\\' 입니다'\n",
    "str6 = \"이름은 '홍길동'이고 나이는 \\\"23살\\\" 입니다\"\n",
    "print(str5)\n",
    "print(str6)"
   ]
  },
  {
   "cell_type": "markdown",
   "id": "77651945",
   "metadata": {},
   "source": [
    "### 따옴표 세개 짜리\n",
    "- 작은 따옴표, 큰 따옴표가 포함되는 문자열\n",
    "- 여러 줄 작성하는 문자열\n",
    "- doc string"
   ]
  },
  {
   "cell_type": "code",
   "execution_count": 14,
   "id": "b305e0ea",
   "metadata": {},
   "outputs": [
    {
     "name": "stdout",
     "output_type": "stream",
     "text": [
      "나이는 \"30살\" 이고 이름은 '홍길동' 입니다\n"
     ]
    }
   ],
   "source": [
    "str1 = '''나이는 \"30살\" 이고 이름은 '홍길동' 입니다'''\n",
    "print(str1)"
   ]
  },
  {
   "cell_type": "code",
   "execution_count": 4,
   "id": "d3e04174",
   "metadata": {},
   "outputs": [
    {
     "name": "stdout",
     "output_type": "stream",
     "text": [
      "\n",
      "    동해물과 백두산이\n",
      "    마르고 닳도록\n",
      "    하느님이 보우하사\n",
      "    우리나라 만세\n",
      "\n"
     ]
    }
   ],
   "source": [
    "str2 = '''\n",
    "    동해물과 백두산이\n",
    "    마르고 닳도록\n",
    "    하느님이 보우하사\n",
    "    우리나라 만세\n",
    "'''\n",
    "# 들여쓰기 한 것도 문자열로 포함된다\n",
    "print(str2)"
   ]
  },
  {
   "cell_type": "markdown",
   "id": "b8218aae",
   "metadata": {},
   "source": [
    "## doc string\n",
    "- 코드를 문서화할 때 설명을 작성하는 문자열\n",
    "- 주피터에서 shift + tab을 눌렀을 때 나오는 말풍선에 표시된다.\n",
    "- 존나 신기하다"
   ]
  },
  {
   "cell_type": "code",
   "execution_count": 5,
   "id": "d823540d",
   "metadata": {},
   "outputs": [],
   "source": [
    "def test1(a1, a2) :\n",
    "    '''\n",
    "        doc string 테스트 입니다\n",
    "        \n",
    "        Args :\n",
    "            a1 (정수) : 첫 번째 매개변수\n",
    "            a2 (정수) : 두 번째 매개변수\n",
    "            \n",
    "        Return :\n",
    "            두 값을 합한 결과\n",
    "    '''\n",
    "    r1 = a1 + a2\n",
    "    return r1"
   ]
  },
  {
   "cell_type": "code",
   "execution_count": 6,
   "id": "97474c99",
   "metadata": {},
   "outputs": [
    {
     "name": "stdout",
     "output_type": "stream",
     "text": [
      "30\n"
     ]
    }
   ],
   "source": [
    "k1 = test1(10, 20)\n",
    "print(k1)"
   ]
  },
  {
   "cell_type": "code",
   "execution_count": 8,
   "id": "c39fff57",
   "metadata": {},
   "outputs": [
    {
     "name": "stdout",
     "output_type": "stream",
     "text": [
      "Help on function test1 in module __main__:\n",
      "\n",
      "test1(a1, a2)\n",
      "    doc string 테스트 입니다\n",
      "    \n",
      "    Args :\n",
      "        a1 (정수) : 첫 번째 매개변수\n",
      "        a2 (정수) : 두 번째 매개변수\n",
      "        \n",
      "    Return :\n",
      "        두 값을 합한 결과\n",
      "\n"
     ]
    }
   ],
   "source": [
    "help(test1) # help()함수를 써서 doc string내용을 볼 수 있음"
   ]
  },
  {
   "cell_type": "markdown",
   "id": "81b36d36",
   "metadata": {},
   "source": [
    "### 문자열 포멧팅"
   ]
  },
  {
   "cell_type": "code",
   "execution_count": 9,
   "id": "19869de2",
   "metadata": {},
   "outputs": [],
   "source": [
    "a1 = '홍길동'\n",
    "a2 = 20"
   ]
  },
  {
   "cell_type": "code",
   "execution_count": 10,
   "id": "70eb74ff",
   "metadata": {},
   "outputs": [
    {
     "name": "stdout",
     "output_type": "stream",
     "text": [
      "이름은 홍길동이고 나이는 20살 입니다\n"
     ]
    }
   ],
   "source": [
    "# + 연산자를 이용해 합치기\n",
    "str1 = '이름은 ' + a1 + '이고 나이는 ' + str(a2) + '살 입니다'\n",
    "print(str1)"
   ]
  },
  {
   "cell_type": "code",
   "execution_count": 11,
   "id": "dd4d0a2f",
   "metadata": {},
   "outputs": [
    {
     "name": "stdout",
     "output_type": "stream",
     "text": [
      "이름은 홍길동이고 나이는 20살 입니다\n"
     ]
    }
   ],
   "source": [
    "# 모든 버전에서 사용 가능한 문자열 포멧팅\n",
    "# %d : 정수, %f : 실수, 그 외에는 %s\n",
    "str2 = '이름은 %s이고 나이는 %d살 입니다' % (a1, a2)\n",
    "print(str2)"
   ]
  },
  {
   "cell_type": "code",
   "execution_count": 12,
   "id": "04ee82c1",
   "metadata": {},
   "outputs": [
    {
     "name": "stdout",
     "output_type": "stream",
     "text": [
      "이름은 홍길동이고 나이는 20살 입니다. 홍길동 님은 정회원 입니다\n"
     ]
    }
   ],
   "source": [
    "str3 = '이름은 %s이고 나이는 %d살 입니다. %s 님은 정회원 입니다' % (a1, a2, a1)\n",
    "print(str3)"
   ]
  },
  {
   "cell_type": "markdown",
   "id": "ad5e7d33",
   "metadata": {},
   "source": [
    "#### 중복되는 문자 포맷팅 할 때"
   ]
  },
  {
   "cell_type": "code",
   "execution_count": 13,
   "id": "0bca9260",
   "metadata": {},
   "outputs": [
    {
     "name": "stdout",
     "output_type": "stream",
     "text": [
      "이름은 홍길동이고 나이는 20살 입니다. 홍길동 님은 정회원 입니다.\n"
     ]
    }
   ],
   "source": [
    "# 파이썬 2.6 부터 지원...\n",
    "# fotmat 함수에 작성한 값의 순서 값을 지정한다.\n",
    "str4 = '이름은 {0}이고 나이는 {1}살 입니다. {0} 님은 정회원 입니다.'.format(a1, a2)\n",
    "print(str4)"
   ]
  },
  {
   "cell_type": "code",
   "execution_count": null,
   "id": "655708a6",
   "metadata": {},
   "outputs": [],
   "source": [
    "# 파이썬 3.1 부터..."
   ]
  },
  {
   "cell_type": "markdown",
   "id": "c3dac015",
   "metadata": {},
   "source": [
    "### 문자열 앞에 f붙여주고 {} 중괄호 넣어서.. 와 ㅅㅂ 존나 좋노 이거 왜 학교에서 안알려주노 씨바거"
   ]
  },
  {
   "cell_type": "code",
   "execution_count": 15,
   "id": "506c66a1",
   "metadata": {},
   "outputs": [
    {
     "name": "stdout",
     "output_type": "stream",
     "text": [
      "이름은 홍길동이고 나이는 20살 입니다. 홍길동 님은 정회원 입니다\n"
     ]
    }
   ],
   "source": [
    "str5 = f'이름은 {a1}이고 나이는 {a2}살 입니다. {a1} 님은 정회원 입니다'\n",
    "print(str5)"
   ]
  },
  {
   "cell_type": "markdown",
   "id": "85be09b1",
   "metadata": {},
   "source": [
    "### 인덱싱과 슬라이싱\n",
    "- tuple과 동일하다"
   ]
  },
  {
   "cell_type": "code",
   "execution_count": 16,
   "id": "ad9d95eb",
   "metadata": {},
   "outputs": [],
   "source": [
    "str1 = '동해물과 백두산이'"
   ]
  },
  {
   "cell_type": "code",
   "execution_count": 17,
   "id": "398eea25",
   "metadata": {},
   "outputs": [
    {
     "name": "stdout",
     "output_type": "stream",
     "text": [
      "동\n",
      "해\n",
      "이\n",
      "산\n"
     ]
    }
   ],
   "source": [
    "# 순서값을 통한 접근(인덱싱)\n",
    "print(str1[0])\n",
    "print(str1[1])\n",
    "print(str1[-1])\n",
    "print(str1[-2])"
   ]
  },
  {
   "cell_type": "code",
   "execution_count": 18,
   "id": "6ddba4b1",
   "metadata": {},
   "outputs": [
    {
     "name": "stdout",
     "output_type": "stream",
     "text": [
      "물과 백두\n",
      "동해물과 백두\n",
      "물과 백두산이\n"
     ]
    }
   ],
   "source": [
    "# 특정 범위의 글자들을 가져온다.\n",
    "# 2 ~ 7 - 1\n",
    "print(str1[2:7])\n",
    "# 처음 부터 7 - 1 까지\n",
    "print(str1[:7])\n",
    "# 2 ~ 마지막까지\n",
    "print(str1[2:])"
   ]
  },
  {
   "cell_type": "code",
   "execution_count": 19,
   "id": "f39564ce",
   "metadata": {},
   "outputs": [
    {
     "name": "stdout",
     "output_type": "stream",
     "text": [
      "9\n"
     ]
    }
   ],
   "source": [
    "# 글자수 \n",
    "print(len(str1))"
   ]
  },
  {
   "cell_type": "markdown",
   "id": "b0c41623",
   "metadata": {},
   "source": [
    "### 문자열 함수들"
   ]
  },
  {
   "cell_type": "code",
   "execution_count": 20,
   "id": "5b021faa",
   "metadata": {},
   "outputs": [],
   "source": [
    "a1 = [10, 20, 30, 40, 50]\n",
    "a3 = '동해물과 백두산이'"
   ]
  },
  {
   "cell_type": "code",
   "execution_count": 21,
   "id": "0fbf4c92",
   "metadata": {},
   "outputs": [
    {
     "name": "stdout",
     "output_type": "stream",
     "text": [
      "2\n",
      "2\n"
     ]
    }
   ],
   "source": [
    "# 찾기\n",
    "# 30이 어디에 있는가...\n",
    "r1 = a1.index(30)\n",
    "# '물과'라는 글자가 어디서 시작하는가..\n",
    "r2 = a3.index('물과')\n",
    "\n",
    "print(r1)\n",
    "print(r2)"
   ]
  },
  {
   "cell_type": "code",
   "execution_count": 22,
   "id": "05cd0e7d",
   "metadata": {},
   "outputs": [
    {
     "ename": "ValueError",
     "evalue": "100 is not in list",
     "output_type": "error",
     "traceback": [
      "\u001b[1;31m---------------------------------------------------------------------------\u001b[0m",
      "\u001b[1;31mValueError\u001b[0m                                Traceback (most recent call last)",
      "\u001b[1;32m<ipython-input-22-8fd2c38d5c49>\u001b[0m in \u001b[0;36m<module>\u001b[1;34m\u001b[0m\n\u001b[0;32m      1\u001b[0m \u001b[1;31m# 없는 값\u001b[0m\u001b[1;33m\u001b[0m\u001b[1;33m\u001b[0m\u001b[1;33m\u001b[0m\u001b[0m\n\u001b[1;32m----> 2\u001b[1;33m \u001b[0mr3\u001b[0m \u001b[1;33m=\u001b[0m \u001b[0ma1\u001b[0m\u001b[1;33m.\u001b[0m\u001b[0mindex\u001b[0m\u001b[1;33m(\u001b[0m\u001b[1;36m100\u001b[0m\u001b[1;33m)\u001b[0m\u001b[1;33m\u001b[0m\u001b[1;33m\u001b[0m\u001b[0m\n\u001b[0m\u001b[0;32m      3\u001b[0m \u001b[0mprint\u001b[0m\u001b[1;33m(\u001b[0m\u001b[0mr3\u001b[0m\u001b[1;33m)\u001b[0m\u001b[1;33m\u001b[0m\u001b[1;33m\u001b[0m\u001b[0m\n",
      "\u001b[1;31mValueError\u001b[0m: 100 is not in list"
     ]
    }
   ],
   "source": [
    "# 없는 값\n",
    "r3 = a1.index(100)\n",
    "print(r3)"
   ]
  },
  {
   "cell_type": "code",
   "execution_count": null,
   "id": "44731f66",
   "metadata": {},
   "outputs": [],
   "source": [
    "# 없는 글자\n",
    "r4 = a3.index('서해')\n",
    "print(r4)"
   ]
  },
  {
   "cell_type": "code",
   "execution_count": 23,
   "id": "aacee142",
   "metadata": {},
   "outputs": [],
   "source": [
    "str1 = '동해물과 백두산이 동해물과 지리산이 서해물과 백두산이'"
   ]
  },
  {
   "cell_type": "code",
   "execution_count": 24,
   "id": "43a7656d",
   "metadata": {},
   "outputs": [
    {
     "name": "stdout",
     "output_type": "stream",
     "text": [
      "15\n"
     ]
    }
   ],
   "source": [
    "r1 = str1.find('지리산')\n",
    "print(r1)"
   ]
  },
  {
   "cell_type": "code",
   "execution_count": 25,
   "id": "7ea2e161",
   "metadata": {},
   "outputs": [
    {
     "name": "stdout",
     "output_type": "stream",
     "text": [
      "-1\n"
     ]
    }
   ],
   "source": [
    "# 없는 문자열\n",
    "r2 = str1.find('한라산')\n",
    "print(r2)"
   ]
  },
  {
   "cell_type": "code",
   "execution_count": 26,
   "id": "ece813e9",
   "metadata": {},
   "outputs": [
    {
     "name": "stdout",
     "output_type": "stream",
     "text": [
      "0\n"
     ]
    }
   ],
   "source": [
    "# 중복된 문자열\n",
    "# 제일 왼쪽에 있는 문자를 찾는다.\n",
    "r3 = str1.find('동해')\n",
    "print(r3)"
   ]
  },
  {
   "cell_type": "code",
   "execution_count": 27,
   "id": "59026c69",
   "metadata": {},
   "outputs": [
    {
     "name": "stdout",
     "output_type": "stream",
     "text": [
      "25\n"
     ]
    }
   ],
   "source": [
    "# 우측에서 부터 찾는다.\n",
    "r4 = str1.rfind('백두')\n",
    "print(r4)"
   ]
  },
  {
   "cell_type": "code",
   "execution_count": 28,
   "id": "83f847fb",
   "metadata": {},
   "outputs": [
    {
     "name": "stdout",
     "output_type": "stream",
     "text": [
      "10\n"
     ]
    }
   ],
   "source": [
    "# 좌측에서 몇글자 때고 찾는다.\n",
    "r5 = str1.find('동해', 5)\n",
    "print(r5)"
   ]
  },
  {
   "cell_type": "code",
   "execution_count": 29,
   "id": "05573163",
   "metadata": {},
   "outputs": [
    {
     "name": "stdout",
     "output_type": "stream",
     "text": [
      "['동해_물과', '백두_산이']\n"
     ]
    }
   ],
   "source": [
    "# 문자열 나누기\n",
    "# 띄어 쓰기를 기준으로 나눈다.\n",
    "str1 = '동해_물과 백두_산이'\n",
    "a1 = str1.split()\n",
    "print(a1)"
   ]
  },
  {
   "cell_type": "code",
   "execution_count": 30,
   "id": "b1ee2e2b",
   "metadata": {},
   "outputs": [
    {
     "name": "stdout",
     "output_type": "stream",
     "text": [
      "['동해', '물과 백두', '산이']\n"
     ]
    }
   ],
   "source": [
    "# 기준을 정해 나눈다.\n",
    "a2 = str1.split('_')\n",
    "print(a2)"
   ]
  },
  {
   "cell_type": "code",
   "execution_count": 31,
   "id": "4872cc0d",
   "metadata": {},
   "outputs": [
    {
     "name": "stdout",
     "output_type": "stream",
     "text": [
      "[      동해물과       ]\n",
      "[동해물과]\n",
      "[동해물과       ]\n",
      "[      동해물과]\n"
     ]
    }
   ],
   "source": [
    "# 좌우 공백 제거\n",
    "str1 = '      동해물과       '\n",
    "\n",
    "a1 = str1.strip()\n",
    "a2 = str1.lstrip()\n",
    "a3 = str1.rstrip()\n",
    "\n",
    "print(f'[{str1}]')\n",
    "print(f'[{a1}]')\n",
    "print(f'[{a2}]')\n",
    "print(f'[{a3}]')"
   ]
  },
  {
   "cell_type": "code",
   "execution_count": 32,
   "id": "a168d852",
   "metadata": {},
   "outputs": [
    {
     "name": "stdout",
     "output_type": "stream",
     "text": [
      "동해물과 백두산이\n",
      "동해물과 지리산이\n"
     ]
    }
   ],
   "source": [
    "# 문자열 일부분을 변경한다.\n",
    "str1 = '동해물과 백두산이'\n",
    "str2 = str1.replace('백두', '지리')\n",
    "\n",
    "print(str1)\n",
    "print(str2)"
   ]
  }
 ],
 "metadata": {
  "kernelspec": {
   "display_name": "Python 3",
   "language": "python",
   "name": "python3"
  },
  "language_info": {
   "codemirror_mode": {
    "name": "ipython",
    "version": 3
   },
   "file_extension": ".py",
   "mimetype": "text/x-python",
   "name": "python",
   "nbconvert_exporter": "python",
   "pygments_lexer": "ipython3",
   "version": "3.8.8"
  }
 },
 "nbformat": 4,
 "nbformat_minor": 5
}
