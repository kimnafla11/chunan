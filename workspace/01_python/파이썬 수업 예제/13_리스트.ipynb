{
 "cells": [
  {
   "cell_type": "markdown",
   "id": "8c4691b0",
   "metadata": {},
   "source": [
    "### List\n",
    "- tuple 과 동일하고 내부의 데이터를 수정, 삭제, 추가 등이 가능한 요소\n",
    "- 데이터를 가져오는 부분은 tuple과 동일하다.\n",
    "- 원본을 유지하고 특정 작업이 반영된 요소를 새롭게 만드는 작업은 tuple도 제공된다.\n",
    "- 원본 자체를 변경하는 작업은 list만 지원된다."
   ]
  },
  {
   "cell_type": "markdown",
   "id": "8e3ba447",
   "metadata": {},
   "source": [
    "### List 생성"
   ]
  },
  {
   "cell_type": "code",
   "execution_count": 64,
   "id": "9141888b",
   "metadata": {},
   "outputs": [
    {
     "name": "stdout",
     "output_type": "stream",
     "text": [
      "<class 'list'>\n",
      "[]\n"
     ]
    }
   ],
   "source": [
    "# 비어 있는 리스트를 생성\n",
    "# 나중에 값을 추가할 수 있으므로 의미가 있다.\n",
    "a1 = list()\n",
    "print(type(a1))\n",
    "print(a1)"
   ]
  },
  {
   "cell_type": "code",
   "execution_count": 65,
   "id": "a720cbc9",
   "metadata": {},
   "outputs": [
    {
     "name": "stdout",
     "output_type": "stream",
     "text": [
      "<class 'list'>\n",
      "[]\n"
     ]
    }
   ],
   "source": [
    "# 기호를 통한 생성\n",
    "a2 = []\n",
    "print(type(a2))\n",
    "print(a2)"
   ]
  },
  {
   "cell_type": "code",
   "execution_count": 66,
   "id": "97aa9424",
   "metadata": {},
   "outputs": [
    {
     "name": "stdout",
     "output_type": "stream",
     "text": [
      "<class 'list'>\n",
      "[10, 20, 30, 40, 50]\n"
     ]
    }
   ],
   "source": [
    "# 값을 지정하여 생성\n",
    "a3 = [10, 20, 30, 40, 50]\n",
    "print(type(a3))\n",
    "print(a3)"
   ]
  },
  {
   "cell_type": "markdown",
   "id": "6df23022",
   "metadata": {},
   "source": [
    "### 인덱싱과 슬라이싱\n",
    "- tuple과 동일하다"
   ]
  },
  {
   "cell_type": "code",
   "execution_count": 67,
   "id": "c4646c24",
   "metadata": {},
   "outputs": [
    {
     "data": {
      "text/plain": [
       "[10, 20, 30, 40, 50, 60, 70, 80, 90, 100]"
      ]
     },
     "execution_count": 67,
     "metadata": {},
     "output_type": "execute_result"
    }
   ],
   "source": [
    "a1 = [10, 20, 30, 40, 50, 60, 70, 80, 90, 100]\n",
    "a1"
   ]
  },
  {
   "cell_type": "code",
   "execution_count": 68,
   "id": "44b679cd",
   "metadata": {},
   "outputs": [
    {
     "name": "stdout",
     "output_type": "stream",
     "text": [
      "10\n",
      "100\n",
      "[30, 40, 50, 60, 70]\n",
      "[10, 20, 30, 40, 50, 60, 70]\n",
      "[30, 40, 50, 60, 70, 80, 90, 100]\n"
     ]
    }
   ],
   "source": [
    "k1 = a1[0]\n",
    "k2 = a1[-1]\n",
    "k3 = a1[2:7]\n",
    "k4 = a1[:7]\n",
    "k5 = a1[2:]\n",
    "\n",
    "print(k1)\n",
    "print(k2)\n",
    "print(k3)\n",
    "print(k4)\n",
    "print(k5)"
   ]
  },
  {
   "cell_type": "code",
   "execution_count": 69,
   "id": "ba4a7c8f",
   "metadata": {},
   "outputs": [
    {
     "name": "stdout",
     "output_type": "stream",
     "text": [
      "10\n",
      "20\n",
      "30\n",
      "40\n",
      "50\n"
     ]
    }
   ],
   "source": [
    "# unpack\n",
    "a2 = [10, 20, 30, 40, 50]\n",
    "\n",
    "k1, k2, k3, k4, k5 = a2\n",
    "\n",
    "print(k1)\n",
    "print(k2)\n",
    "print(k3)\n",
    "print(k4)\n",
    "print(k5)"
   ]
  },
  {
   "cell_type": "markdown",
   "id": "785d1268",
   "metadata": {},
   "source": [
    "### 기타 기능들"
   ]
  },
  {
   "cell_type": "code",
   "execution_count": 70,
   "id": "445ae8f5",
   "metadata": {},
   "outputs": [],
   "source": [
    "t1 = 10, 20, 30, 40, 50, 60, 70, 80, 90, 100\n",
    "a1 = [10, 20, 30, 40, 50, 60, 70, 90, 90, 100]"
   ]
  },
  {
   "cell_type": "code",
   "execution_count": 71,
   "id": "e5b77916",
   "metadata": {},
   "outputs": [
    {
     "name": "stdout",
     "output_type": "stream",
     "text": [
      "10\n",
      "10\n"
     ]
    }
   ],
   "source": [
    "# 관리하는 데이터의 개수를 파악한다.\n",
    "k1 = len(a1)\n",
    "print(k1)\n",
    "\n",
    "k2 = len(t1)\n",
    "print(k2)"
   ]
  },
  {
   "cell_type": "code",
   "execution_count": 72,
   "id": "8eb5db3c",
   "metadata": {},
   "outputs": [
    {
     "name": "stdout",
     "output_type": "stream",
     "text": [
      "[10, 20, 30, 40, 50, 60, 70, 90, 90, 100]\n",
      "[10, 20, 30, 40, 50, 60, 70, 90, 90, 100, 110, 120]\n"
     ]
    }
   ],
   "source": [
    "# 값 하나를 추가한다.\n",
    "print(a1)\n",
    "\n",
    "a1.append(110)\n",
    "a1.append(120)\n",
    "\n",
    "print(a1)"
   ]
  },
  {
   "cell_type": "code",
   "execution_count": 73,
   "id": "f4227c20",
   "metadata": {},
   "outputs": [
    {
     "name": "stdout",
     "output_type": "stream",
     "text": [
      "[10, 20, 30, 40, 50, 60, 70, 90, 90, 100, 110, 120]\n",
      "[10, 20, 30, 40, 50, 60, 70, 90, 90, 100, 110, 120, 200, 300, 400]\n"
     ]
    }
   ],
   "source": [
    "# 더하기 연산\n",
    "a2 = a1 + [200, 300, 400]\n",
    "print(a1)\n",
    "print(a2)"
   ]
  },
  {
   "cell_type": "code",
   "execution_count": 74,
   "id": "4d2cb266",
   "metadata": {},
   "outputs": [
    {
     "name": "stdout",
     "output_type": "stream",
     "text": [
      "(10, 20, 30, 40, 50, 60, 70, 80, 90, 100)\n",
      "(10, 20, 30, 40, 50, 60, 70, 80, 90, 100, 200, 300, 400)\n"
     ]
    }
   ],
   "source": [
    "t2 = t1 + (200, 300, 400)\n",
    "print(t1)\n",
    "print(t2)"
   ]
  },
  {
   "cell_type": "code",
   "execution_count": 75,
   "id": "da0001b9",
   "metadata": {},
   "outputs": [
    {
     "name": "stdout",
     "output_type": "stream",
     "text": [
      "[10, 20, 30, 40, 50, 60, 70, 90, 90, 100, 110, 120]\n",
      "[10, 20, 30, 40, 50, 60, 70, 90, 90, 100, 110, 120, 130, 140, 150]\n"
     ]
    }
   ],
   "source": [
    "# 리스트에 동시에 여러개의 값을 추가한다.\n",
    "print(a1)\n",
    "\n",
    "a1.extend([130, 140, 150])\n",
    "\n",
    "print(a1)"
   ]
  },
  {
   "cell_type": "code",
   "execution_count": 76,
   "id": "53f7c0d9",
   "metadata": {},
   "outputs": [
    {
     "name": "stdout",
     "output_type": "stream",
     "text": [
      "[10, 20, 30, 40, 50, 60, 70, 90, 90, 100, 110, 120, 130, 140, 150]\n",
      "[10, 20, 30, 40, 50, 60, 70, 90, 90, 100, 110, 120, 130, 140, 150, 10, 20, 30, 40, 50, 60, 70, 90, 90, 100, 110, 120, 130, 140, 150, 10, 20, 30, 40, 50, 60, 70, 90, 90, 100, 110, 120, 130, 140, 150]\n"
     ]
    }
   ],
   "source": [
    "# 곱하기 연산\n",
    "# 곱하는 수 만큼 반복된 요소를 생성한다.\n",
    "a3 = a1 * 3\n",
    "print(a1)\n",
    "print(a3)"
   ]
  },
  {
   "cell_type": "code",
   "execution_count": 77,
   "id": "b61dec80",
   "metadata": {},
   "outputs": [
    {
     "name": "stdout",
     "output_type": "stream",
     "text": [
      "(10, 20, 30, 40, 50, 60, 70, 80, 90, 100)\n",
      "(10, 20, 30, 40, 50, 60, 70, 80, 90, 100, 10, 20, 30, 40, 50, 60, 70, 80, 90, 100, 10, 20, 30, 40, 50, 60, 70, 80, 90, 100)\n"
     ]
    }
   ],
   "source": [
    "t3 = t1 * 3\n",
    "print(t1)\n",
    "print(t3)"
   ]
  },
  {
   "cell_type": "code",
   "execution_count": 78,
   "id": "c26bf7d0",
   "metadata": {},
   "outputs": [
    {
     "name": "stdout",
     "output_type": "stream",
     "text": [
      "100\n"
     ]
    },
    {
     "ename": "NameError",
     "evalue": "name 'a100' is not defined",
     "output_type": "error",
     "traceback": [
      "\u001b[1;31m---------------------------------------------------------------------------\u001b[0m",
      "\u001b[1;31mNameError\u001b[0m                                 Traceback (most recent call last)",
      "\u001b[1;32m<ipython-input-78-59067d7047ec>\u001b[0m in \u001b[0;36m<module>\u001b[1;34m\u001b[0m\n\u001b[0;32m      5\u001b[0m \u001b[1;33m\u001b[0m\u001b[0m\n\u001b[0;32m      6\u001b[0m \u001b[1;32mdel\u001b[0m \u001b[0ma100\u001b[0m\u001b[1;33m\u001b[0m\u001b[1;33m\u001b[0m\u001b[0m\n\u001b[1;32m----> 7\u001b[1;33m \u001b[0mprint\u001b[0m\u001b[1;33m(\u001b[0m\u001b[0ma100\u001b[0m\u001b[1;33m)\u001b[0m\u001b[1;33m\u001b[0m\u001b[1;33m\u001b[0m\u001b[0m\n\u001b[0m",
      "\u001b[1;31mNameError\u001b[0m: name 'a100' is not defined"
     ]
    }
   ],
   "source": [
    "# 삭제 : 순서 값을 사용한다.\n",
    "# 삭제하고자 하는 기억장소를 지칭하는 원리\n",
    "a100 = 100\n",
    "print(a100)\n",
    "\n",
    "del a100\n",
    "print(a100)"
   ]
  },
  {
   "cell_type": "code",
   "execution_count": 79,
   "id": "66d6c186",
   "metadata": {},
   "outputs": [
    {
     "name": "stdout",
     "output_type": "stream",
     "text": [
      "[10, 20, 30, 40, 50, 60, 70, 90, 90, 100, 110, 120, 130, 140, 150]\n",
      "[10, 20, 30, 40, 50, 70, 90, 90, 100, 110, 120, 130, 140, 150]\n",
      "70\n"
     ]
    }
   ],
   "source": [
    "print(a1)\n",
    "\n",
    "del a1[5]\n",
    "print(a1)\n",
    "\n",
    "print(a1[5])"
   ]
  },
  {
   "cell_type": "code",
   "execution_count": 80,
   "id": "e12c5235",
   "metadata": {},
   "outputs": [
    {
     "ename": "TypeError",
     "evalue": "'tuple' object doesn't support item deletion",
     "output_type": "error",
     "traceback": [
      "\u001b[1;31m---------------------------------------------------------------------------\u001b[0m",
      "\u001b[1;31mTypeError\u001b[0m                                 Traceback (most recent call last)",
      "\u001b[1;32m<ipython-input-80-db0964a5aeea>\u001b[0m in \u001b[0;36m<module>\u001b[1;34m\u001b[0m\n\u001b[1;32m----> 1\u001b[1;33m \u001b[1;32mdel\u001b[0m \u001b[0mt1\u001b[0m\u001b[1;33m[\u001b[0m\u001b[1;36m5\u001b[0m\u001b[1;33m]\u001b[0m\u001b[1;33m\u001b[0m\u001b[1;33m\u001b[0m\u001b[0m\n\u001b[0m",
      "\u001b[1;31mTypeError\u001b[0m: 'tuple' object doesn't support item deletion"
     ]
    }
   ],
   "source": [
    "del t1[5]"
   ]
  },
  {
   "cell_type": "code",
   "execution_count": 81,
   "id": "ef1950d2",
   "metadata": {},
   "outputs": [
    {
     "name": "stdout",
     "output_type": "stream",
     "text": [
      "[10, 20, 30, 40, 50, 70, 90, 90, 100, 110, 120, 130, 140, 150]\n",
      "[10, 20, 10000, 30, 40, 50, 70, 90, 90, 100, 110, 120, 130, 140, 150]\n"
     ]
    }
   ],
   "source": [
    "# 삽입\n",
    "print(a1)\n",
    "\n",
    "# 위치, 값\n",
    "a1.insert(2, 10000)\n",
    "\n",
    "print(a1)"
   ]
  },
  {
   "cell_type": "code",
   "execution_count": 82,
   "id": "2ab482eb",
   "metadata": {},
   "outputs": [
    {
     "name": "stdout",
     "output_type": "stream",
     "text": [
      "[10, 20, 10000, 30, 40, 50, 70, 90, 90, 100, 110, 120, 130, 140, 150]\n",
      "150\n",
      "140\n",
      "[10, 20, 10000, 30, 40, 50, 70, 90, 90, 100, 110, 120, 130]\n"
     ]
    }
   ],
   "source": [
    "# pop\n",
    "# 제일 마지막 위치의 값을 추출하여 반환하고 리스트에서는 삭제한다.\n",
    "print(a1)\n",
    "\n",
    "k1 = a1.pop()\n",
    "k2 = a1.pop()\n",
    "\n",
    "print(k1)\n",
    "print(k2)\n",
    "print(a1)"
   ]
  },
  {
   "cell_type": "code",
   "execution_count": 84,
   "id": "c21a6d28",
   "metadata": {},
   "outputs": [
    {
     "name": "stdout",
     "output_type": "stream",
     "text": [
      "[10, 20, 10000, 30, 40, 50, 70, 90, 90, 100, 110, 120, 130]\n",
      "30\n",
      "40\n",
      "[10, 20, 10000, 50, 70, 90, 90, 100, 110, 120, 130]\n"
     ]
    }
   ],
   "source": [
    "print(a1)\n",
    "\n",
    "k1 = a1.pop(3)\n",
    "k2 = a1.pop(3)\n",
    "\n",
    "print(k1)\n",
    "print(k2)\n",
    "print(a1)"
   ]
  },
  {
   "cell_type": "code",
   "execution_count": 85,
   "id": "d956eaa5",
   "metadata": {},
   "outputs": [
    {
     "name": "stdout",
     "output_type": "stream",
     "text": [
      "[10, 20, 10000, 50, 70, 90, 90, 100, 110, 120, 130]\n",
      "[130, 120, 110, 100, 90, 90, 70, 50, 10000, 20, 10]\n"
     ]
    }
   ],
   "source": [
    "# 순서 뒤집기\n",
    "print(a1)\n",
    "\n",
    "a1.reverse()\n",
    "\n",
    "print(a1)"
   ]
  },
  {
   "cell_type": "code",
   "execution_count": 86,
   "id": "02566c8c",
   "metadata": {},
   "outputs": [
    {
     "name": "stdout",
     "output_type": "stream",
     "text": [
      "[130, 120, 110, 100, 90, 90, 70, 50, 10000, 20, 10]\n",
      "[130, 120, 110, 100, 90, 90, 70, 50, 20, 10]\n"
     ]
    }
   ],
   "source": [
    "# 값을 지정하여 삭제한다.\n",
    "# 만약 같은 값이 있으면 제일 좌측의 값을 삭제한다.\n",
    "print(a1)\n",
    "\n",
    "a1.remove(10000)\n",
    "\n",
    "print(a1)"
   ]
  },
  {
   "cell_type": "code",
   "execution_count": 87,
   "id": "669c0413",
   "metadata": {},
   "outputs": [
    {
     "name": "stdout",
     "output_type": "stream",
     "text": [
      "[130, 120, 110, 100, 90, 70, 50, 20, 10]\n"
     ]
    }
   ],
   "source": [
    "a1.remove(90)\n",
    "print(a1)"
   ]
  },
  {
   "cell_type": "code",
   "execution_count": 88,
   "id": "c7567861",
   "metadata": {},
   "outputs": [
    {
     "name": "stdout",
     "output_type": "stream",
     "text": [
      "3\n"
     ]
    }
   ],
   "source": [
    "# 지정된 값 위치 찾기\n",
    "# 없으면 오류가 발생한다.\n",
    "k1 = a1.index(100)\n",
    "print(k1)"
   ]
  },
  {
   "cell_type": "code",
   "execution_count": 90,
   "id": "8af2a98d",
   "metadata": {},
   "outputs": [
    {
     "name": "stdout",
     "output_type": "stream",
     "text": [
      "[130, 120, 110, 100, 90, 70, 50, 20, 10, 1000]\n",
      "[130, 120, 110, 100, 90, 70, 50, 20, 10, 2000]\n",
      "[130, 120, 110, 100, 90, 70, 50, 20, 10]\n"
     ]
    }
   ],
   "source": [
    "# 리스트를 복제해 새로운 리스트를 만든다.\n",
    "a2 = a1[:]\n",
    "a3 = a1.copy()\n",
    "\n",
    "a2.append(1000)\n",
    "a3.append(2000)\n",
    "\n",
    "print(a2)\n",
    "print(a3)\n",
    "print(a1)"
   ]
  },
  {
   "cell_type": "code",
   "execution_count": 91,
   "id": "e2f66304",
   "metadata": {},
   "outputs": [
    {
     "name": "stdout",
     "output_type": "stream",
     "text": [
      "[130, 120, 110, 100, 90, 70, 50, 20, 10]\n",
      "[10, 20, 50, 70, 90, 100, 110, 120, 130]\n"
     ]
    }
   ],
   "source": [
    "# 정렬\n",
    "print(a1)\n",
    "\n",
    "a1.sort()\n",
    "\n",
    "print(a1)"
   ]
  },
  {
   "cell_type": "code",
   "execution_count": 92,
   "id": "0d8ba0c5",
   "metadata": {},
   "outputs": [
    {
     "name": "stdout",
     "output_type": "stream",
     "text": [
      "[130, 120, 110, 100, 90, 70, 50, 20, 10]\n"
     ]
    }
   ],
   "source": [
    "# 내림차순 정렬\n",
    "a1.sort(reverse=True)\n",
    "print(a1)"
   ]
  },
  {
   "cell_type": "code",
   "execution_count": 93,
   "id": "2d4288f7",
   "metadata": {},
   "outputs": [
    {
     "name": "stdout",
     "output_type": "stream",
     "text": [
      "[130, 120, 110, 100, 90, 70, 50, 20, 10]\n",
      "[]\n"
     ]
    }
   ],
   "source": [
    "# 몽땅 지우기\n",
    "print(a1)\n",
    "\n",
    "a1.clear()\n",
    "\n",
    "print(a1)"
   ]
  },
  {
   "cell_type": "code",
   "execution_count": null,
   "id": "ad3bfe32",
   "metadata": {},
   "outputs": [],
   "source": []
  }
 ],
 "metadata": {
  "kernelspec": {
   "display_name": "Python 3",
   "language": "python",
   "name": "python3"
  },
  "language_info": {
   "codemirror_mode": {
    "name": "ipython",
    "version": 3
   },
   "file_extension": ".py",
   "mimetype": "text/x-python",
   "name": "python",
   "nbconvert_exporter": "python",
   "pygments_lexer": "ipython3",
   "version": "3.8.8"
  }
 },
 "nbformat": 4,
 "nbformat_minor": 5
}
