{
 "cells": [
  {
   "cell_type": "markdown",
   "id": "8f3cdeb7",
   "metadata": {},
   "source": [
    "### 제어문 (if문, while문, for문)\n",
    "- 개발자가 작성한 코드는 위에서 아래 방향으로 흘러간다.\n",
    "- 이 흐름을 변경하고 싶을 때 사용하는 것이 제어문이다."
   ]
  },
  {
   "cell_type": "markdown",
   "id": "23afba55",
   "metadata": {},
   "source": [
    "### 들여쓰기 (주의해야함/파이썬 언어의 특징)\n",
    "- 파이썬은 어떠한 요소가 관리하는 코드를 들여쓰기로 구분한다.\n",
    "- 들여쓰기가 잘못되면 오류가 발생한다."
   ]
  },
  {
   "cell_type": "code",
   "execution_count": 3,
   "id": "42d72097",
   "metadata": {},
   "outputs": [
    {
     "ename": "IndentationError",
     "evalue": "unexpected indent (912531359.py, line 4)",
     "output_type": "error",
     "traceback": [
      "\u001b[1;36m  Input \u001b[1;32mIn [3]\u001b[1;36m\u001b[0m\n\u001b[1;33m    print('반갑습니다.')\u001b[0m\n\u001b[1;37m    ^\u001b[0m\n\u001b[1;31mIndentationError\u001b[0m\u001b[1;31m:\u001b[0m unexpected indent\n"
     ]
    }
   ],
   "source": [
    "# print는 코드를 관리하는 요소가 아니기 때문에 들여쓰기가 맞지 않으면\n",
    "# 오류가 발생한다.\n",
    "print('안녕하세요')\n",
    "    print('반갑습니다.')"
   ]
  },
  {
   "cell_type": "markdown",
   "id": "81554710",
   "metadata": {},
   "source": [
    "### if 문\n",
    "- 주어진 식의 결과가 True면 관리하는 코드가 수행된다."
   ]
  },
  {
   "cell_type": "code",
   "execution_count": 4,
   "id": "29b8f53b",
   "metadata": {},
   "outputs": [
    {
     "name": "stdout",
     "output_type": "stream",
     "text": [
      "애들은가라~\n",
      "잘가~~\n"
     ]
    }
   ],
   "source": [
    "age = 10\n",
    "\n",
    "if age < 19 :\n",
    "    print('애들은가라~')\n",
    "    print('잘가~~')"
   ]
  },
  {
   "cell_type": "code",
   "execution_count": 5,
   "id": "58e7592c",
   "metadata": {},
   "outputs": [],
   "source": [
    "age = 30\n",
    "\n",
    "if age < 19 :\n",
    "    print('애들은가라~')\n",
    "    print('잘가~~')"
   ]
  },
  {
   "cell_type": "code",
   "execution_count": 6,
   "id": "58b2b0a6",
   "metadata": {},
   "outputs": [
    {
     "name": "stdout",
     "output_type": "stream",
     "text": [
      "이 부분이 수행될까요??\n"
     ]
    }
   ],
   "source": [
    "a1 = 10\n",
    "\n",
    "if a1 > 10 :\n",
    "    print('a1은 10보다 큽니다')\n",
    "print('이 부분이 수행될까요??')"
   ]
  },
  {
   "cell_type": "code",
   "execution_count": 7,
   "id": "770d8bd1",
   "metadata": {},
   "outputs": [
    {
     "name": "stdout",
     "output_type": "stream",
     "text": [
      "a1은 10보다 작지 않습니다\n"
     ]
    }
   ],
   "source": [
    "# else \n",
    "# if 문의 수식이 거짓일 경우 수행될 부분\n",
    "a1 = 10\n",
    "\n",
    "if a1 < 10 :\n",
    "    print('a1은 10보다 작습니다')\n",
    "else :\n",
    "    print('a1은 10보다 작지 않습니다')"
   ]
  },
  {
   "cell_type": "code",
   "execution_count": 8,
   "id": "94238e3f",
   "metadata": {},
   "outputs": [
    {
     "name": "stdout",
     "output_type": "stream",
     "text": [
      "a1은 5입니다\n"
     ]
    }
   ],
   "source": [
    "# elif : 조건이 다양할 경우\n",
    "a1 = 5\n",
    "\n",
    "if a1 == 1 :\n",
    "    print('a1은 1입니다')\n",
    "elif a1 == 3 :\n",
    "    prnit('a1은 3입니다')\n",
    "elif a1 == 5 :\n",
    "    print('a1은 5입니다')\n",
    "else :\n",
    "    print('a1은 1, 3, 5가 아닙니다')"
   ]
  },
  {
   "cell_type": "code",
   "execution_count": 9,
   "id": "743664ce",
   "metadata": {},
   "outputs": [
    {
     "name": "stdout",
     "output_type": "stream",
     "text": [
      "0\n",
      "1\n",
      "2\n",
      "3\n",
      "4\n",
      "5\n",
      "6\n",
      "7\n",
      "8\n",
      "9\n"
     ]
    }
   ],
   "source": [
    "# while \n",
    "# 조건에 있는 수식의 결과가 True인 경우 반복하는 제어문\n",
    "a1 = 0\n",
    "\n",
    "while a1 < 10 :\n",
    "    print(a1)\n",
    "    a1 = a1 + 1"
   ]
  },
  {
   "cell_type": "code",
   "execution_count": null,
   "id": "64201ff4",
   "metadata": {},
   "outputs": [],
   "source": [
    "# for 문\n",
    "# 파이썬에서 for문은 list, tuple 과 같은 데이터를 관리하는 요소와\n",
    "# 같이 사용한다.\n",
    "# 따라서 뒤에서 살펴보도록 하겠습니다"
   ]
  }
 ],
 "metadata": {
  "kernelspec": {
   "display_name": "Python 3 (ipykernel)",
   "language": "python",
   "name": "python3"
  },
  "language_info": {
   "codemirror_mode": {
    "name": "ipython",
    "version": 3
   },
   "file_extension": ".py",
   "mimetype": "text/x-python",
   "name": "python",
   "nbconvert_exporter": "python",
   "pygments_lexer": "ipython3",
   "version": "3.9.12"
  }
 },
 "nbformat": 4,
 "nbformat_minor": 5
}
