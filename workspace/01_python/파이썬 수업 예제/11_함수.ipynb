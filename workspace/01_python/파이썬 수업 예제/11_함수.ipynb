{
 "cells": [
  {
   "cell_type": "markdown",
   "id": "aef62a49",
   "metadata": {},
   "source": [
    "### 함수\n",
    "- 자주 반복되는 코드나 어떠한 기능의 코드를 미리 만들어 놓고 필요할 때 사용하는 개념\n",
    "- 유지 보수의 용이성이나 코드 관리의 용이성을 위해 사용한다"
   ]
  },
  {
   "cell_type": "markdown",
   "id": "edd544ee",
   "metadata": {},
   "source": [
    "### 기본 함수\n",
    "- 함수를 생성할 때는 def 함수이름() : 을 사용한다.\n",
    "- 함수를 호출(사용)할 때는 함수이름() 를 사용한다."
   ]
  },
  {
   "cell_type": "code",
   "execution_count": 1,
   "id": "ff719422",
   "metadata": {},
   "outputs": [
    {
     "ename": "NameError",
     "evalue": "name 'test1' is not defined",
     "output_type": "error",
     "traceback": [
      "\u001b[1;31m---------------------------------------------------------------------------\u001b[0m",
      "\u001b[1;31mNameError\u001b[0m                                 Traceback (most recent call last)",
      "Input \u001b[1;32mIn [1]\u001b[0m, in \u001b[0;36m<cell line: 2>\u001b[1;34m()\u001b[0m\n\u001b[0;32m      1\u001b[0m \u001b[38;5;66;03m# 없는 함수 호출\u001b[39;00m\n\u001b[1;32m----> 2\u001b[0m \u001b[43mtest1\u001b[49m()\n",
      "\u001b[1;31mNameError\u001b[0m: name 'test1' is not defined"
     ]
    }
   ],
   "source": [
    "# 없는 함수 호출\n",
    "test1()"
   ]
  },
  {
   "cell_type": "code",
   "execution_count": 2,
   "id": "e3d39a51",
   "metadata": {},
   "outputs": [],
   "source": [
    "# 함수를 정의한다.\n",
    "def test1() :\n",
    "    print('test1 함수')\n",
    "    print('안녕하세요')"
   ]
  },
  {
   "cell_type": "code",
   "execution_count": 5,
   "id": "56ddc2d5",
   "metadata": {},
   "outputs": [
    {
     "name": "stdout",
     "output_type": "stream",
     "text": [
      "함수 호출 전\n",
      "test1 함수\n",
      "안녕하세요\n",
      "함수 호출 후\n"
     ]
    }
   ],
   "source": [
    "# 함수를 호출한다.\n",
    "print('함수 호출 전')\n",
    "test1()\n",
    "print('함수 호출 후')"
   ]
  },
  {
   "cell_type": "code",
   "execution_count": 4,
   "id": "a5419317",
   "metadata": {},
   "outputs": [
    {
     "name": "stdout",
     "output_type": "stream",
     "text": [
      "<function test1 at 0x000001C2CA8B4700>\n"
     ]
    }
   ],
   "source": [
    "# 함수를 정의할 때 사용한 이름은 함수의 주소값을 가지고 있는\n",
    "# 변수에 해당한다.\n",
    "print(test1)"
   ]
  },
  {
   "cell_type": "code",
   "execution_count": 6,
   "id": "5584ee08",
   "metadata": {},
   "outputs": [
    {
     "name": "stdout",
     "output_type": "stream",
     "text": [
      "test1 함수\n",
      "안녕하세요\n"
     ]
    }
   ],
   "source": [
    "# 함수의 이름은 함수의 주소값을 가지고 있는 변수에 해당하므로\n",
    "# 다른 변수에 담을 수 있고 이를 통해 호출하는 것도 가능하다.\n",
    "test2 = test1\n",
    "test2()"
   ]
  },
  {
   "cell_type": "code",
   "execution_count": 7,
   "id": "fddc3583",
   "metadata": {},
   "outputs": [
    {
     "ename": "TypeError",
     "evalue": "'int' object is not callable",
     "output_type": "error",
     "traceback": [
      "\u001b[1;31m---------------------------------------------------------------------------\u001b[0m",
      "\u001b[1;31mTypeError\u001b[0m                                 Traceback (most recent call last)",
      "Input \u001b[1;32mIn [7]\u001b[0m, in \u001b[0;36m<cell line: 4>\u001b[1;34m()\u001b[0m\n\u001b[0;32m      1\u001b[0m \u001b[38;5;66;03m# 함수의 이름은 함수를 가지고 있는 변수에 해당하므로 다른 값을 담을 수도 있다.\u001b[39;00m\n\u001b[0;32m      2\u001b[0m \u001b[38;5;66;03m# 만약 그렇게 작업을 하면 그 함수는 호출할 수 없다.\u001b[39;00m\n\u001b[0;32m      3\u001b[0m test1 \u001b[38;5;241m=\u001b[39m \u001b[38;5;241m100\u001b[39m\n\u001b[1;32m----> 4\u001b[0m \u001b[43mtest1\u001b[49m\u001b[43m(\u001b[49m\u001b[43m)\u001b[49m\n",
      "\u001b[1;31mTypeError\u001b[0m: 'int' object is not callable"
     ]
    }
   ],
   "source": [
    "# 함수의 이름은 함수를 가지고 있는 변수에 해당하므로 다른 값을 담을 수도 있다.\n",
    "# 만약 그렇게 작업을 하면 그 함수는 호출할 수 없다.\n",
    "test1 = 100 # 대입연산자로 인해서 test1이 함수에서 변수로 바뀐거임\n",
    "test1() # 따라서 함수 호출이 안덴다.."
   ]
  },
  {
   "cell_type": "markdown",
   "id": "4f56c130",
   "metadata": {},
   "source": [
    "### 함수의 매개변수\n",
    "- 함수를 호출 할 때 넘겨주는 값을 받는 변수\n",
    "- 함수를 정의할 때 설정한 매개 변수의 개수 만큼 값을 결정해 줘야 한다."
   ]
  },
  {
   "cell_type": "code",
   "execution_count": 8,
   "id": "8e09afb1",
   "metadata": {},
   "outputs": [],
   "source": [
    "def test2(a1, a2, a3) :\n",
    "    print(a1)\n",
    "    print(a2)\n",
    "    print(a3)"
   ]
  },
  {
   "cell_type": "code",
   "execution_count": 9,
   "id": "160b3774",
   "metadata": {},
   "outputs": [
    {
     "name": "stdout",
     "output_type": "stream",
     "text": [
      "10\n",
      "20\n",
      "30\n",
      "100\n",
      "200\n",
      "300\n"
     ]
    }
   ],
   "source": [
    "# 함수 호출\n",
    "# 함수를 호출 때 넘겨주는 값의 순서대로\n",
    "# 매개변수에 담기게 된다.\n",
    "test2(10, 20, 30)\n",
    "test2(100, 200, 300)"
   ]
  },
  {
   "cell_type": "code",
   "execution_count": 10,
   "id": "06091db9",
   "metadata": {},
   "outputs": [
    {
     "ename": "TypeError",
     "evalue": "test2() missing 1 required positional argument: 'a3'",
     "output_type": "error",
     "traceback": [
      "\u001b[1;31m---------------------------------------------------------------------------\u001b[0m",
      "\u001b[1;31mTypeError\u001b[0m                                 Traceback (most recent call last)",
      "Input \u001b[1;32mIn [10]\u001b[0m, in \u001b[0;36m<cell line: 2>\u001b[1;34m()\u001b[0m\n\u001b[0;32m      1\u001b[0m \u001b[38;5;66;03m# 부족하게....\u001b[39;00m\n\u001b[1;32m----> 2\u001b[0m \u001b[43mtest2\u001b[49m\u001b[43m(\u001b[49m\u001b[38;5;241;43m10\u001b[39;49m\u001b[43m,\u001b[49m\u001b[43m \u001b[49m\u001b[38;5;241;43m20\u001b[39;49m\u001b[43m)\u001b[49m\n",
      "\u001b[1;31mTypeError\u001b[0m: test2() missing 1 required positional argument: 'a3'"
     ]
    }
   ],
   "source": [
    "# 부족하게....\n",
    "test2(10, 20)"
   ]
  },
  {
   "cell_type": "code",
   "execution_count": 11,
   "id": "c58cc559",
   "metadata": {},
   "outputs": [
    {
     "ename": "TypeError",
     "evalue": "test2() takes 3 positional arguments but 4 were given",
     "output_type": "error",
     "traceback": [
      "\u001b[1;31m---------------------------------------------------------------------------\u001b[0m",
      "\u001b[1;31mTypeError\u001b[0m                                 Traceback (most recent call last)",
      "Input \u001b[1;32mIn [11]\u001b[0m, in \u001b[0;36m<cell line: 2>\u001b[1;34m()\u001b[0m\n\u001b[0;32m      1\u001b[0m \u001b[38;5;66;03m# 넘치게...\u001b[39;00m\n\u001b[1;32m----> 2\u001b[0m \u001b[43mtest2\u001b[49m\u001b[43m(\u001b[49m\u001b[38;5;241;43m10\u001b[39;49m\u001b[43m,\u001b[49m\u001b[43m \u001b[49m\u001b[38;5;241;43m20\u001b[39;49m\u001b[43m,\u001b[49m\u001b[43m \u001b[49m\u001b[38;5;241;43m30\u001b[39;49m\u001b[43m,\u001b[49m\u001b[43m \u001b[49m\u001b[38;5;241;43m40\u001b[39;49m\u001b[43m)\u001b[49m\n",
      "\u001b[1;31mTypeError\u001b[0m: test2() takes 3 positional arguments but 4 were given"
     ]
    }
   ],
   "source": [
    "# 넘치게...\n",
    "test2(10, 20, 30, 40)"
   ]
  },
  {
   "cell_type": "code",
   "execution_count": 12,
   "id": "bd8a385c",
   "metadata": {},
   "outputs": [
    {
     "name": "stdout",
     "output_type": "stream",
     "text": [
      "100\n",
      "200\n",
      "300\n",
      "100\n",
      "200\n",
      "300\n"
     ]
    }
   ],
   "source": [
    "# 함수 호출 시 전달하는 값이 저장될 매개변수를 지정할 수 있다.\n",
    "test2(100, 200, 300)\n",
    "test2(a3=300, a1=100, a2=200)"
   ]
  },
  {
   "cell_type": "markdown",
   "id": "37d9b6b7",
   "metadata": {},
   "source": [
    "### 매개변수의 기본값\n",
    "- 매개변수에 기본값이 설정되어 있다면 값을 넘겨주지 않는 경우 기본값이 지정된다.\n",
    "- 함수를 정의할 때 기본값이 설정되어 있지 않은 변수들은 앞쪽으로 몰아서 작성해야 한다."
   ]
  },
  {
   "cell_type": "code",
   "execution_count": 14,
   "id": "858aa73b",
   "metadata": {},
   "outputs": [],
   "source": [
    "def test3(a1, a2=2, a3=4) :\n",
    "    print(a1)\n",
    "    print(a2)\n",
    "    print(a3)"
   ]
  },
  {
   "cell_type": "code",
   "execution_count": 15,
   "id": "d1bed5de",
   "metadata": {},
   "outputs": [
    {
     "name": "stdout",
     "output_type": "stream",
     "text": [
      "100\n",
      "200\n",
      "300\n",
      "--------------------\n",
      "100\n",
      "200\n",
      "4\n",
      "--------------------\n",
      "100\n",
      "2\n",
      "4\n"
     ]
    }
   ],
   "source": [
    "test3(100, 200, 300)\n",
    "print('--------------------')\n",
    "test3(100, 200)\n",
    "print('--------------------')\n",
    "test3(100)"
   ]
  },
  {
   "cell_type": "code",
   "execution_count": 16,
   "id": "45c6a7e6",
   "metadata": {},
   "outputs": [
    {
     "ename": "TypeError",
     "evalue": "test3() missing 1 required positional argument: 'a1'",
     "output_type": "error",
     "traceback": [
      "\u001b[1;31m---------------------------------------------------------------------------\u001b[0m",
      "\u001b[1;31mTypeError\u001b[0m                                 Traceback (most recent call last)",
      "Input \u001b[1;32mIn [16]\u001b[0m, in \u001b[0;36m<cell line: 2>\u001b[1;34m()\u001b[0m\n\u001b[0;32m      1\u001b[0m \u001b[38;5;66;03m# a1 변수에는 기본값이 없으므로 넘겨주지 않으면 오류가 발생한다.\u001b[39;00m\n\u001b[1;32m----> 2\u001b[0m \u001b[43mtest3\u001b[49m\u001b[43m(\u001b[49m\u001b[43m)\u001b[49m\n",
      "\u001b[1;31mTypeError\u001b[0m: test3() missing 1 required positional argument: 'a1'"
     ]
    }
   ],
   "source": [
    "# a1 변수에는 기본값이 없으므로 넘겨주지 않으면 오류가 발생한다.\n",
    "test3()"
   ]
  },
  {
   "cell_type": "code",
   "execution_count": 17,
   "id": "1059ace6",
   "metadata": {},
   "outputs": [
    {
     "name": "stdout",
     "output_type": "stream",
     "text": [
      "100\n",
      "2\n",
      "300\n"
     ]
    }
   ],
   "source": [
    "test3(100, a3=300)"
   ]
  },
  {
   "cell_type": "markdown",
   "id": "4850531d",
   "metadata": {},
   "source": [
    "### 반환값\n",
    "- 함수의 수행이 완료되면 호출 한 쪽으로 되돌아간다.\n",
    "- 이 때, 값 하나를 전달할 수 있다.\n",
    "- return은 원래 함수 끝에 붙어있어야 하는건디 값 하나를 가지고 함수 빠져나가고 싶을 때 사용함"
   ]
  },
  {
   "cell_type": "code",
   "execution_count": 18,
   "id": "584cec5f",
   "metadata": {},
   "outputs": [],
   "source": [
    "def test4(a1, a2) :\n",
    "    r1 = a1 + a2\n",
    "    # 변수 r1에 저장되어 있는 값을 반환한다.\n",
    "    return r1"
   ]
  },
  {
   "cell_type": "code",
   "execution_count": 19,
   "id": "9c0aef97",
   "metadata": {},
   "outputs": [
    {
     "name": "stdout",
     "output_type": "stream",
     "text": [
      "300\n"
     ]
    }
   ],
   "source": [
    "k1 = test4(100, 200)\n",
    "print(k1)"
   ]
  },
  {
   "cell_type": "code",
   "execution_count": 20,
   "id": "1e10c827",
   "metadata": {},
   "outputs": [],
   "source": [
    "def test5(a1, a2) :\n",
    "    r1 = a1 + a2\n",
    "    r2 = a1 - a2\n",
    "    r3 = a1 * a2\n",
    "    r4 = a1// a2\n",
    "    # 마치 값 4개를 반환 하는 것 처럼 보이지만\n",
    "    # 사실 여기는 비밀이 숨어있다..\n",
    "    # 궁금하시죠??? ㅋㅋㅋㅋ \n",
    "    return r1, r2, r3, r4"
   ]
  },
  {
   "cell_type": "code",
   "execution_count": 21,
   "id": "a8e35ce7",
   "metadata": {},
   "outputs": [
    {
     "name": "stdout",
     "output_type": "stream",
     "text": [
      "13\n",
      "7\n",
      "30\n",
      "3\n"
     ]
    }
   ],
   "source": [
    "k1, k2, k3, k4 = test5(10, 3)\n",
    "print(k1)\n",
    "print(k2)\n",
    "print(k3)\n",
    "print(k4)"
   ]
  },
  {
   "cell_type": "code",
   "execution_count": 22,
   "id": "fed8bd47",
   "metadata": {},
   "outputs": [
    {
     "name": "stdout",
     "output_type": "stream",
     "text": [
      "(13, 7, 30, 3)\n"
     ]
    }
   ],
   "source": [
    "# 비밀 공개\n",
    "k5 = test5(10,3)\n",
    "print(k5) # 알고보니 튜플 타입 한개에서 값을 반환한 거였음ㄷㄷㄷ"
   ]
  }
 ],
 "metadata": {
  "kernelspec": {
   "display_name": "Python 3 (ipykernel)",
   "language": "python",
   "name": "python3"
  },
  "language_info": {
   "codemirror_mode": {
    "name": "ipython",
    "version": 3
   },
   "file_extension": ".py",
   "mimetype": "text/x-python",
   "name": "python",
   "nbconvert_exporter": "python",
   "pygments_lexer": "ipython3",
   "version": "3.9.12"
  }
 },
 "nbformat": 4,
 "nbformat_minor": 5
}
