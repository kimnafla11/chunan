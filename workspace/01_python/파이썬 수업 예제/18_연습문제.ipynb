{
 "cells": [
  {
   "cell_type": "markdown",
   "id": "01044b58",
   "metadata": {},
   "source": [
    "### 학생 5명의 데이터를 받아 출력한다.\n",
    "- 학생의 데이터는 이름, 국어점수, 영어점수, 수학점수로 한다.\n",
    "- 입력이 완료되면 모든 학생의 정보를 출력한다.\n",
    "- 각 점수별 총점과 평균을 출력한다."
   ]
  },
  {
   "cell_type": "code",
   "execution_count": 1,
   "id": "c850121d",
   "metadata": {},
   "outputs": [
    {
     "name": "stdout",
     "output_type": "stream",
     "text": [
      "이름 : 홍길동\n",
      "국어 : 1\n",
      "영어 : 2\n",
      "수학 : 3\n",
      "이름 : 고길동\n",
      "국어 : 2\n",
      "영어 : 3\n",
      "수학 : 4\n",
      "이름 : 최길동\n",
      "국어 : 5\n",
      "영어 : 6\n",
      "수학 : 7\n",
      "이름 : 황길동\n",
      "국어 : 6\n",
      "영어 : 7\n",
      "수학 : 8\n",
      "이름 : 김길동\n",
      "국어 : 7\n",
      "영어 : 6\n",
      "수학 : 5\n"
     ]
    }
   ],
   "source": [
    "# 학생의 정보를 입력 받는다.\n",
    "\n",
    "# 학생 전체의 데이터를 담을 리스트\n",
    "student_list = []\n",
    "\n",
    "# 5번 반복한다.\n",
    "for _ in range(5) :\n",
    "    # 이름을 입력받는다.\n",
    "    name1 = input('이름 : ')\n",
    "    # 국어 점수를 입력받는다.\n",
    "    a1 = input('국어 : ')\n",
    "    kor1 = int(a1)\n",
    "    # 영어 점수를 입력받는다.\n",
    "    a2 = input('영어 : ')\n",
    "    eng1 = int(a2)\n",
    "    # 수학 점수를 입력받는다.\n",
    "    a3 = input('수학 : ')\n",
    "    math1 = int(a3)\n",
    "    \n",
    "    # print(name1)\n",
    "    # print(kor1)\n",
    "    # print(eng1)\n",
    "    # print(math1)\n",
    "    \n",
    "    # 딕셔너리에 담는다.\n",
    "    d1 = {\n",
    "        '이름' : name1,\n",
    "        '국어점수' : kor1,\n",
    "        '영어점수' : eng1,\n",
    "        '수학점수' : math1\n",
    "    }\n",
    "    \n",
    "    # 리스트에 담는다.\n",
    "    student_list.append(d1)"
   ]
  },
  {
   "cell_type": "code",
   "execution_count": 2,
   "id": "2a75145e",
   "metadata": {},
   "outputs": [
    {
     "data": {
      "text/plain": [
       "[{'이름': '홍길동', '국어점수': 1, '영어점수': 2, '수학점수': 3},\n",
       " {'이름': '고길동', '국어점수': 2, '영어점수': 3, '수학점수': 4},\n",
       " {'이름': '최길동', '국어점수': 5, '영어점수': 6, '수학점수': 7},\n",
       " {'이름': '황길동', '국어점수': 6, '영어점수': 7, '수학점수': 8},\n",
       " {'이름': '김길동', '국어점수': 7, '영어점수': 6, '수학점수': 5}]"
      ]
     },
     "execution_count": 2,
     "metadata": {},
     "output_type": "execute_result"
    }
   ],
   "source": [
    "student_list"
   ]
  },
  {
   "cell_type": "code",
   "execution_count": 4,
   "id": "629d60e6",
   "metadata": {},
   "outputs": [
    {
     "name": "stdout",
     "output_type": "stream",
     "text": [
      "홍길동\n",
      "1\n",
      "2\n",
      "3\n",
      "------------------------------\n",
      "고길동\n",
      "2\n",
      "3\n",
      "4\n",
      "------------------------------\n",
      "최길동\n",
      "5\n",
      "6\n",
      "7\n",
      "------------------------------\n",
      "황길동\n",
      "6\n",
      "7\n",
      "8\n",
      "------------------------------\n",
      "김길동\n",
      "7\n",
      "6\n",
      "5\n",
      "------------------------------\n"
     ]
    }
   ],
   "source": [
    "# 모든 학생의 정보를 출력한다.\n",
    "for stu in student_list :\n",
    "    print(stu['이름'])\n",
    "    print(stu['국어점수'])\n",
    "    print(stu['영어점수'])\n",
    "    print(stu['수학점수'])\n",
    "    print('------------------------------')"
   ]
  },
  {
   "cell_type": "code",
   "execution_count": 5,
   "id": "498e6090",
   "metadata": {},
   "outputs": [
    {
     "name": "stdout",
     "output_type": "stream",
     "text": [
      "21\n",
      "24\n",
      "27\n",
      "4\n",
      "4\n",
      "5\n"
     ]
    }
   ],
   "source": [
    "# 점수별 총점\n",
    "kor_total = 0\n",
    "eng_total = 0\n",
    "math_total = 0\n",
    "# 점수별 평균\n",
    "kor_avg = 0\n",
    "eng_avg = 0\n",
    "math_avg = 0\n",
    "\n",
    "# 총점을 구한다.\n",
    "for stu in student_list :\n",
    "    kor_total = kor_total + stu['국어점수']\n",
    "    eng_total = eng_total + stu['영어점수']\n",
    "    math_total = math_total + stu['수학점수']\n",
    "    \n",
    "# 평균을 구한다.\n",
    "kor_avg = kor_total // len(student_list)\n",
    "eng_avg = eng_total // len(student_list)\n",
    "math_avg = math_total // len(student_list)\n",
    "\n",
    "print(kor_total)\n",
    "print(eng_total)\n",
    "print(math_total)\n",
    "\n",
    "print(kor_avg)\n",
    "print(eng_avg)\n",
    "print(math_avg)"
   ]
  },
  {
   "cell_type": "code",
   "execution_count": null,
   "id": "71a481c3",
   "metadata": {},
   "outputs": [],
   "source": []
  },
  {
   "cell_type": "code",
   "execution_count": null,
   "id": "eaf23053",
   "metadata": {},
   "outputs": [],
   "source": []
  },
  {
   "cell_type": "code",
   "execution_count": null,
   "id": "1c5174a1",
   "metadata": {},
   "outputs": [],
   "source": []
  }
 ],
 "metadata": {
  "kernelspec": {
   "display_name": "Python 3",
   "language": "python",
   "name": "python3"
  },
  "language_info": {
   "codemirror_mode": {
    "name": "ipython",
    "version": 3
   },
   "file_extension": ".py",
   "mimetype": "text/x-python",
   "name": "python",
   "nbconvert_exporter": "python",
   "pygments_lexer": "ipython3",
   "version": "3.8.8"
  }
 },
 "nbformat": 4,
 "nbformat_minor": 5
}
