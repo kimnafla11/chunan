{
 "cells": [
  {
   "cell_type": "markdown",
   "id": "9af087bc",
   "metadata": {},
   "source": [
    "### 모듈\n",
    "- 파이썬은 py 파일 하나를 하나의 모듈이라고 부른다.\n",
    "- 모듈은 다른 모듈의 내용을 불러다 사용할 수 있다."
   ]
  },
  {
   "cell_type": "code",
   "execution_count": 1,
   "id": "89d0d87c",
   "metadata": {},
   "outputs": [
    {
     "name": "stdout",
     "output_type": "stream",
     "text": [
      "Hello World\n",
      "안녕하세요\n"
     ]
    }
   ],
   "source": [
    "# 같은 폴더에 있는 module1을 불러온다.\n",
    "import module1"
   ]
  },
  {
   "cell_type": "code",
   "execution_count": 2,
   "id": "ade595d9",
   "metadata": {},
   "outputs": [],
   "source": [
    "# 같은 모듈을 import 한다.\n",
    "# 한번 import 된 모듈은 다시 import 하지 않는다.\n",
    "import module1"
   ]
  },
  {
   "cell_type": "code",
   "execution_count": 3,
   "id": "07f9cfbf",
   "metadata": {},
   "outputs": [
    {
     "name": "stdout",
     "output_type": "stream",
     "text": [
      "100\n",
      "module2_f2\n",
      "<module2.Module2Class object at 0x0000020C7A95C880>\n"
     ]
    }
   ],
   "source": [
    "# 모듈에 정의되어 있는 요소들을 사용한다.\n",
    "import module2\n",
    "\n",
    "print(module2.module2_a1)\n",
    "module2.module2_f2()\n",
    "m2 = module2.Module2Class()\n",
    "print(m2)"
   ]
  },
  {
   "cell_type": "code",
   "execution_count": 6,
   "id": "4eab9588",
   "metadata": {},
   "outputs": [
    {
     "name": "stdout",
     "output_type": "stream",
     "text": [
      "100\n",
      "module3_f2\n",
      "<module3.Module3Class object at 0x0000020C7A949A60>\n"
     ]
    }
   ],
   "source": [
    "# 별칭\n",
    "import module3 as k3\n",
    "\n",
    "print(k3.module3_a1)\n",
    "k3.module3_f2()\n",
    "m3 = k3.Module3Class()\n",
    "print(m3)"
   ]
  },
  {
   "cell_type": "code",
   "execution_count": 7,
   "id": "a50096d5",
   "metadata": {},
   "outputs": [
    {
     "name": "stdout",
     "output_type": "stream",
     "text": [
      "100\n",
      "module4_f2\n",
      "<module4.Module4Class object at 0x0000020C7A4FA730>\n"
     ]
    }
   ],
   "source": [
    "# 모듈명 생략\n",
    "# 변수, 메서드, 클래스 등은 어떠한 모듈에 있는 것이라고 미리\n",
    "# 정의하는 것이다.\n",
    "# 따라서 같은 모듈에 동일명의 요소가 있으면 안된다.\n",
    "from module4 import module4_a1\n",
    "from module4 import module4_f2, Module4Class\n",
    "\n",
    "print(module4_a1)\n",
    "module4_f2()\n",
    "m4 = Module4Class()\n",
    "print(m4)"
   ]
  },
  {
   "cell_type": "code",
   "execution_count": null,
   "id": "daf35abe",
   "metadata": {},
   "outputs": [],
   "source": []
  }
 ],
 "metadata": {
  "kernelspec": {
   "display_name": "Python 3",
   "language": "python",
   "name": "python3"
  },
  "language_info": {
   "codemirror_mode": {
    "name": "ipython",
    "version": 3
   },
   "file_extension": ".py",
   "mimetype": "text/x-python",
   "name": "python",
   "nbconvert_exporter": "python",
   "pygments_lexer": "ipython3",
   "version": "3.8.8"
  }
 },
 "nbformat": 4,
 "nbformat_minor": 5
}
