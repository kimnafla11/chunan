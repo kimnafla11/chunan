{
 "cells": [
  {
   "cell_type": "markdown",
   "id": "2e89338d",
   "metadata": {},
   "source": [
    "### for 문\n",
    "- list, tuple 등과 같이 데이터를 관리하는 요소를 통해 코드를 반복한다.\n",
    "- 관리하는 데이터의 개수만큼 반복한다."
   ]
  },
  {
   "cell_type": "code",
   "execution_count": 1,
   "id": "e4175ef4",
   "metadata": {},
   "outputs": [
    {
     "data": {
      "text/plain": [
       "[10, 20, 30, 40, 50]"
      ]
     },
     "execution_count": 1,
     "metadata": {},
     "output_type": "execute_result"
    }
   ],
   "source": [
    "a1 = [10, 20, 30, 40, 50] # list안에 값 5개 들어있음\n",
    "a1"
   ]
  },
  {
   "cell_type": "code",
   "execution_count": 2,
   "id": "5e1f28c7",
   "metadata": {},
   "outputs": [
    {
     "name": "stdout",
     "output_type": "stream",
     "text": [
      "10\n",
      "20\n",
      "30\n",
      "40\n",
      "50\n"
     ]
    }
   ],
   "source": [
    "for value in a1 : # a1(리스트)에 값 5개가 들어있어서 5번이 반복되는거임\n",
    "    print(value)"
   ]
  },
  {
   "cell_type": "markdown",
   "id": "fc6b52b5",
   "metadata": {},
   "source": [
    "### 변환함수 : 형변환"
   ]
  },
  {
   "cell_type": "code",
   "execution_count": 4,
   "id": "45541308",
   "metadata": {},
   "outputs": [
    {
     "name": "stdout",
     "output_type": "stream",
     "text": [
      "<class 'str'>\n",
      "<class 'bool'>\n"
     ]
    },
    {
     "data": {
      "text/plain": [
       "'100 '"
      ]
     },
     "metadata": {},
     "output_type": "display_data"
    },
    {
     "data": {
      "text/plain": [
       "True"
      ]
     },
     "metadata": {},
     "output_type": "display_data"
    }
   ],
   "source": [
    "# 다른 형태의 값으로 변환하는 함수들\n",
    "# 정수 : int(), 실수 : float(), 문자열 : str(), True/False : bool()\n",
    "\n",
    "a1 = '100 '\n",
    "a2 = bool(a1)\n",
    "\n",
    "print(type(a1))\n",
    "print(type(a2))\n",
    "\n",
    "display(a1)\n",
    "display(a2)"
   ]
  },
  {
   "cell_type": "code",
   "execution_count": 5,
   "id": "c27f5450",
   "metadata": {},
   "outputs": [
    {
     "name": "stdout",
     "output_type": "stream",
     "text": [
      "(10, 20, 30, 40, 50)\n"
     ]
    }
   ],
   "source": [
    "# list를 통한 tuple 생성\n",
    "a1 = [10, 20, 30, 40, 50]\n",
    "a2 = tuple(a1)\n",
    "\n",
    "print(a2)"
   ]
  },
  {
   "cell_type": "code",
   "execution_count": 7,
   "id": "887bf6d8",
   "metadata": {},
   "outputs": [
    {
     "name": "stdout",
     "output_type": "stream",
     "text": [
      "[10, 20, 30, 40, 50]\n"
     ]
    }
   ],
   "source": [
    "# tuple을 통한 list 생성\n",
    "# tuple을 수정하고 싶을 때 list로 형 변환해서 수정하고 다시 tuple로 바꿀 수 있음\n",
    "a3 = list(a2)\n",
    "print(a3)"
   ]
  },
  {
   "cell_type": "markdown",
   "id": "0e454e99",
   "metadata": {},
   "source": [
    "### range\n",
    "- 지정된 범위의 값을 가지는 데이터 관리 요소\n",
    "- range(시작 값, 끝 값 - 1, 증가값)"
   ]
  },
  {
   "cell_type": "code",
   "execution_count": 11,
   "id": "ab998e61",
   "metadata": {},
   "outputs": [
    {
     "data": {
      "text/plain": [
       "[0, 1, 2, 3, 4, 5, 6, 7, 8, 9]"
      ]
     },
     "execution_count": 11,
     "metadata": {},
     "output_type": "execute_result"
    }
   ],
   "source": [
    "# 0 ~ 10 - 1 까지\n",
    "r1 = range(10)\n",
    "list(r1)"
   ]
  },
  {
   "cell_type": "code",
   "execution_count": 12,
   "id": "6990de25",
   "metadata": {},
   "outputs": [
    {
     "data": {
      "text/plain": [
       "[3, 4, 5, 6, 7, 8, 9, 10, 11, 12, 13]"
      ]
     },
     "execution_count": 12,
     "metadata": {},
     "output_type": "execute_result"
    }
   ],
   "source": [
    "# 3 ~ 14 - 1 까지\n",
    "r2 = range(3, 14)\n",
    "list(r2)"
   ]
  },
  {
   "cell_type": "code",
   "execution_count": 13,
   "id": "378e3a56",
   "metadata": {},
   "outputs": [
    {
     "data": {
      "text/plain": [
       "[3, 5, 7, 9, 11, 13]"
      ]
     },
     "execution_count": 13,
     "metadata": {},
     "output_type": "execute_result"
    }
   ],
   "source": [
    "# 3 ~ 14 - 1 까지, 2씩 증가\n",
    "r3 = range(3, 14, 2)\n",
    "list(r3)"
   ]
  },
  {
   "cell_type": "code",
   "execution_count": 17,
   "id": "66157073",
   "metadata": {},
   "outputs": [
    {
     "name": "stdout",
     "output_type": "stream",
     "text": [
      "안녕하세요 0\n",
      "안녕하세요 1\n",
      "안녕하세요 2\n",
      "안녕하세요 3\n",
      "안녕하세요 4\n",
      "안녕하세요 5\n",
      "안녕하세요 6\n",
      "안녕하세요 7\n",
      "안녕하세요 8\n",
      "안녕하세요 9\n",
      "안녕하세요 10\n",
      "안녕하세요 11\n",
      "안녕하세요 12\n",
      "안녕하세요 13\n",
      "안녕하세요 14\n",
      "안녕하세요 15\n",
      "안녕하세요 16\n",
      "안녕하세요 17\n",
      "안녕하세요 18\n",
      "안녕하세요 19\n"
     ]
    }
   ],
   "source": [
    "# 원하는 횟수 만큼 반복하고 싶을 때 사용하기도 한다.\n",
    "for value in range(20) :\n",
    "    print('안녕하세요' , value) # 안녕하세요 20번 출력됨"
   ]
  },
  {
   "cell_type": "markdown",
   "id": "9ed0a0ad",
   "metadata": {},
   "source": [
    "### enumerate\n",
    "- list, tuple, range 등 순서를 통해 데이터를 관리하는 요소들에 사용할 수 있다.\n",
    "- 결과는 (순서번호, 값) 형태의 tuple들이 들어있는 형태가 된다.\n",
    "- 반복문을 수행할 때 현재가 몇 번째 반복 회차인지 파악할 때 사용한다.신기하노"
   ]
  },
  {
   "cell_type": "code",
   "execution_count": 18,
   "id": "730fb5ef",
   "metadata": {},
   "outputs": [
    {
     "data": {
      "text/plain": [
       "[10, 20, 30, 40, 50, 60, 70, 80, 90, 100]"
      ]
     },
     "execution_count": 18,
     "metadata": {},
     "output_type": "execute_result"
    }
   ],
   "source": [
    "a1 = [10, 20, 30, 40, 50, 60, 70, 80, 90, 100]\n",
    "a1"
   ]
  },
  {
   "cell_type": "code",
   "execution_count": 19,
   "id": "2d0b6f6a",
   "metadata": {},
   "outputs": [
    {
     "name": "stdout",
     "output_type": "stream",
     "text": [
      "[(0, 10), (1, 20), (2, 30), (3, 40), (4, 50), (5, 60), (6, 70), (7, 80), (8, 90), (9, 100)]\n"
     ]
    }
   ],
   "source": [
    "# enumerate\n",
    "e1 = enumerate(a1)\n",
    "print(list(e1))"
   ]
  },
  {
   "cell_type": "code",
   "execution_count": 20,
   "id": "be5804c5",
   "metadata": {},
   "outputs": [
    {
     "name": "stdout",
     "output_type": "stream",
     "text": [
      "0\n",
      "10\n",
      "--------------------------------\n",
      "1\n",
      "20\n",
      "--------------------------------\n",
      "2\n",
      "30\n",
      "--------------------------------\n",
      "3\n",
      "40\n",
      "--------------------------------\n",
      "4\n",
      "50\n",
      "--------------------------------\n",
      "5\n",
      "60\n",
      "--------------------------------\n",
      "6\n",
      "70\n",
      "--------------------------------\n",
      "7\n",
      "80\n",
      "--------------------------------\n",
      "8\n",
      "90\n",
      "--------------------------------\n",
      "9\n",
      "100\n",
      "--------------------------------\n"
     ]
    }
   ],
   "source": [
    "for idx, value in enumerate(a1) : # 튜플의 unpack를 사용해서 몇 번째 회차인지 알 수 있게함\n",
    "    print(idx)\n",
    "    print(value)\n",
    "    print('--------------------------------')"
   ]
  }
 ],
 "metadata": {
  "kernelspec": {
   "display_name": "Python 3",
   "language": "python",
   "name": "python3"
  },
  "language_info": {
   "codemirror_mode": {
    "name": "ipython",
    "version": 3
   },
   "file_extension": ".py",
   "mimetype": "text/x-python",
   "name": "python",
   "nbconvert_exporter": "python",
   "pygments_lexer": "ipython3",
   "version": "3.8.8"
  }
 },
 "nbformat": 4,
 "nbformat_minor": 5
}
