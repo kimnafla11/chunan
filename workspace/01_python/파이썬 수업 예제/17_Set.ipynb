{
 "cells": [
  {
   "cell_type": "markdown",
   "id": "3fd5fdd9",
   "metadata": {},
   "source": [
    "### Set\n",
    "- 수학에서 집합에 해당한다.\n",
    "- 중복된 데이터를 가질 수 없다.\n",
    "- 집합 연산이 가능하다."
   ]
  },
  {
   "cell_type": "code",
   "execution_count": 3,
   "id": "e6c9a5da",
   "metadata": {},
   "outputs": [
    {
     "name": "stdout",
     "output_type": "stream",
     "text": [
      "{40, 10, 50, 20, 30}\n"
     ]
    }
   ],
   "source": [
    "a1 = [10, 20, 10, 30, 10, 40, 10, 50]\n",
    "a2 = set(a1)\n",
    "print(a2)"
   ]
  },
  {
   "cell_type": "code",
   "execution_count": null,
   "id": "a85b6d61",
   "metadata": {},
   "outputs": [],
   "source": []
  },
  {
   "cell_type": "code",
   "execution_count": null,
   "id": "f842cea5",
   "metadata": {},
   "outputs": [],
   "source": []
  }
 ],
 "metadata": {
  "kernelspec": {
   "display_name": "Python 3",
   "language": "python",
   "name": "python3"
  },
  "language_info": {
   "codemirror_mode": {
    "name": "ipython",
    "version": 3
   },
   "file_extension": ".py",
   "mimetype": "text/x-python",
   "name": "python",
   "nbconvert_exporter": "python",
   "pygments_lexer": "ipython3",
   "version": "3.8.8"
  }
 },
 "nbformat": 4,
 "nbformat_minor": 5
}
