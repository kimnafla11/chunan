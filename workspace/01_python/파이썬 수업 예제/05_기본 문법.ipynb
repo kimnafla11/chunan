{
 "cells": [
  {
   "cell_type": "markdown",
   "id": "ca667f19",
   "metadata": {},
   "source": [
    "### 세미콜론\n",
    "- 일반적으로 프로그래밍 언어들은 문장을 구분하기 위해 마지막에 세미콜론을 찍게한다.\n",
    "- python, javascript, go, kotlin 등등의 언어에서는 세미콜론은 선택사항이다."
   ]
  },
  {
   "cell_type": "code",
   "execution_count": 1,
   "id": "46361734",
   "metadata": {},
   "outputs": [
    {
     "name": "stdout",
     "output_type": "stream",
     "text": [
      "세미콜론 안찍음\n",
      "세미콜론 찍음\n"
     ]
    }
   ],
   "source": [
    "print('세미콜론 안찍음')\n",
    "print('세미콜론 찍음');"
   ]
  },
  {
   "cell_type": "code",
   "execution_count": 3,
   "id": "a3886783",
   "metadata": {},
   "outputs": [
    {
     "name": "stdout",
     "output_type": "stream",
     "text": [
      "문자열1\n",
      "문자열2\n"
     ]
    }
   ],
   "source": [
    "print('문자열1'); print('문자열2')"
   ]
  },
  {
   "cell_type": "markdown",
   "id": "4c179cf5",
   "metadata": {},
   "source": [
    "### 주석\n",
    "- 실행시 무시되는 부분\n",
    "- 설명을 작성하거나 코드의 일부분을 수행하고 싶지 않을 때"
   ]
  },
  {
   "cell_type": "code",
   "execution_count": 5,
   "id": "b097e247",
   "metadata": {},
   "outputs": [],
   "source": [
    "# print('문자열1')\n",
    "# print('문자열2')"
   ]
  },
  {
   "cell_type": "markdown",
   "id": "9cb61a4f",
   "metadata": {},
   "source": [
    "### 문자열\n",
    "- 파이썬은 작은 따옴표(' '), 큰 따옴표(\" \") 모두 문자열이다."
   ]
  },
  {
   "cell_type": "code",
   "execution_count": 6,
   "id": "15131604",
   "metadata": {},
   "outputs": [
    {
     "name": "stdout",
     "output_type": "stream",
     "text": [
      "문자열\n",
      "문자열\n"
     ]
    }
   ],
   "source": [
    "print('문자열')\n",
    "print(\"문자열\")"
   ]
  },
  {
   "cell_type": "code",
   "execution_count": 7,
   "id": "e62d0206",
   "metadata": {},
   "outputs": [
    {
     "name": "stdout",
     "output_type": "stream",
     "text": [
      "이름은 \"홍길동\" 입니다\n",
      "이름은 '홍길동' 입니다\n"
     ]
    }
   ],
   "source": [
    "# 문자열 안에 큰 따옴표가 있다면 작은 따옴표로 묶어준다.\n",
    "# 문자열 안에 작은 따옴표가 있다면 큰 따옴표로 묶어준다.\n",
    "print('이름은 \"홍길동\" 입니다')\n",
    "print(\"이름은 '홍길동' 입니다\")"
   ]
  },
  {
   "cell_type": "markdown",
   "id": "e7b60482",
   "metadata": {},
   "source": [
    "### 출력\n",
    "- print를 사용하면 출력하고 밑으로 내린다.\n",
    "- 셀 마지막에 값을 작성하면 출력한다."
   ]
  },
  {
   "cell_type": "code",
   "execution_count": 8,
   "id": "c48b2140",
   "metadata": {},
   "outputs": [
    {
     "name": "stdout",
     "output_type": "stream",
     "text": [
      "홍길동\n",
      "100\n"
     ]
    }
   ],
   "source": [
    "print('홍길동')\n",
    "print(100)"
   ]
  },
  {
   "cell_type": "code",
   "execution_count": 10,
   "id": "2b9b7ec6",
   "metadata": {},
   "outputs": [
    {
     "data": {
      "text/plain": [
       "100"
      ]
     },
     "execution_count": 10,
     "metadata": {},
     "output_type": "execute_result"
    }
   ],
   "source": [
    "# 셀의 제일 마지막에 값, 변수, 함수 등을 작성해 주면\n",
    "# 값을 출력해준다.\n",
    "'홍길동'\n",
    "100"
   ]
  },
  {
   "cell_type": "code",
   "execution_count": 11,
   "id": "22b03255",
   "metadata": {},
   "outputs": [
    {
     "name": "stdout",
     "output_type": "stream",
     "text": [
      "홍길동\n"
     ]
    },
    {
     "data": {
      "text/plain": [
       "'홍길동'"
      ]
     },
     "execution_count": 11,
     "metadata": {},
     "output_type": "execute_result"
    }
   ],
   "source": [
    "# 출력 방식에 따라 출력 결과가 다르게 나타날 수도 있다.\n",
    "print('홍길동')\n",
    "'홍길동'"
   ]
  },
  {
   "cell_type": "code",
   "execution_count": 12,
   "id": "d976c502",
   "metadata": {},
   "outputs": [
    {
     "data": {
      "text/plain": [
       "100"
      ]
     },
     "metadata": {},
     "output_type": "display_data"
    },
    {
     "data": {
      "text/plain": [
       "'홍길동'"
      ]
     },
     "metadata": {},
     "output_type": "display_data"
    }
   ],
   "source": [
    "# display를 사용하면 셀의 제일 마지막에 값을 작성하는 모습으로\n",
    "# 여러개를 출력할 수 있다.\n",
    "display(100)\n",
    "display('홍길동')"
   ]
  },
  {
   "cell_type": "code",
   "execution_count": null,
   "id": "bf1866f9",
   "metadata": {},
   "outputs": [],
   "source": []
  }
 ],
 "metadata": {
  "kernelspec": {
   "display_name": "Python 3",
   "language": "python",
   "name": "python3"
  },
  "language_info": {
   "codemirror_mode": {
    "name": "ipython",
    "version": 3
   },
   "file_extension": ".py",
   "mimetype": "text/x-python",
   "name": "python",
   "nbconvert_exporter": "python",
   "pygments_lexer": "ipython3",
   "version": "3.8.8"
  }
 },
 "nbformat": 4,
 "nbformat_minor": 5
}
