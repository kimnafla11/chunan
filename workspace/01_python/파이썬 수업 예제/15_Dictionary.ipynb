{
 "cells": [
  {
   "cell_type": "markdown",
   "id": "dabee299",
   "metadata": {},
   "source": [
    "### Dictionary\n",
    "- 데이터를 이름으로 관리하는 개념이다.\n",
    "- 순서에 대한 개념은 없다.\n",
    "- 데이터의 이름은 문자열이 아니어도 된다."
   ]
  },
  {
   "cell_type": "markdown",
   "id": "d01c7270",
   "metadata": {},
   "source": [
    "### 생성"
   ]
  },
  {
   "cell_type": "code",
   "execution_count": 1,
   "id": "334d9942",
   "metadata": {},
   "outputs": [
    {
     "name": "stdout",
     "output_type": "stream",
     "text": [
      "<class 'dict'>\n",
      "{}\n"
     ]
    }
   ],
   "source": [
    "d1 = dict()\n",
    "print(type(d1))\n",
    "print(d1)"
   ]
  },
  {
   "cell_type": "code",
   "execution_count": 2,
   "id": "d8afc015",
   "metadata": {},
   "outputs": [
    {
     "name": "stdout",
     "output_type": "stream",
     "text": [
      "<class 'dict'>\n",
      "{}\n"
     ]
    }
   ],
   "source": [
    "d2 = {}\n",
    "print(type(d2))\n",
    "print(d2)"
   ]
  },
  {
   "cell_type": "code",
   "execution_count": 3,
   "id": "15d823e3",
   "metadata": {},
   "outputs": [
    {
     "data": {
      "text/plain": [
       "{'값1': 100, '값2': 11.11, 1000: True, 2000: '안녕하세요'}"
      ]
     },
     "execution_count": 3,
     "metadata": {},
     "output_type": "execute_result"
    }
   ],
   "source": [
    "d3 = {\n",
    "    '값1' : 100,\n",
    "    '값2' : 11.11,\n",
    "    1000 : True,\n",
    "    2000 : '안녕하세요'\n",
    "}\n",
    "\n",
    "d3"
   ]
  },
  {
   "cell_type": "code",
   "execution_count": 4,
   "id": "68820dba",
   "metadata": {},
   "outputs": [
    {
     "name": "stdout",
     "output_type": "stream",
     "text": [
      "100\n",
      "True\n"
     ]
    }
   ],
   "source": [
    "# 값을 가지고 온다.\n",
    "a1 = d3['값1']\n",
    "a2 = d3[1000]\n",
    "\n",
    "print(a1)\n",
    "print(a2)"
   ]
  },
  {
   "cell_type": "code",
   "execution_count": 5,
   "id": "aa1d9a6e",
   "metadata": {},
   "outputs": [
    {
     "name": "stdout",
     "output_type": "stream",
     "text": [
      "11.11\n",
      "안녕하세요\n"
     ]
    }
   ],
   "source": [
    "a3 = d3.get('값2')\n",
    "a4 = d3.get(2000)\n",
    "\n",
    "print(a3)\n",
    "print(a4)"
   ]
  },
  {
   "cell_type": "code",
   "execution_count": 6,
   "id": "8f59cc23",
   "metadata": {},
   "outputs": [
    {
     "ename": "KeyError",
     "evalue": "'값100'",
     "output_type": "error",
     "traceback": [
      "\u001b[1;31m---------------------------------------------------------------------------\u001b[0m",
      "\u001b[1;31mKeyError\u001b[0m                                  Traceback (most recent call last)",
      "\u001b[1;32m<ipython-input-6-af847049432f>\u001b[0m in \u001b[0;36m<module>\u001b[1;34m\u001b[0m\n\u001b[0;32m      1\u001b[0m \u001b[1;31m# 없는 이름을 사용할 경우\u001b[0m\u001b[1;33m\u001b[0m\u001b[1;33m\u001b[0m\u001b[1;33m\u001b[0m\u001b[0m\n\u001b[1;32m----> 2\u001b[1;33m \u001b[0ma5\u001b[0m \u001b[1;33m=\u001b[0m \u001b[0md3\u001b[0m\u001b[1;33m[\u001b[0m\u001b[1;34m'값100'\u001b[0m\u001b[1;33m]\u001b[0m\u001b[1;33m\u001b[0m\u001b[1;33m\u001b[0m\u001b[0m\n\u001b[0m\u001b[0;32m      3\u001b[0m \u001b[0mprint\u001b[0m\u001b[1;33m(\u001b[0m\u001b[0ma5\u001b[0m\u001b[1;33m)\u001b[0m\u001b[1;33m\u001b[0m\u001b[1;33m\u001b[0m\u001b[0m\n",
      "\u001b[1;31mKeyError\u001b[0m: '값100'"
     ]
    }
   ],
   "source": [
    "# 없는 이름을 사용할 경우\n",
    "a5 = d3['값100']\n",
    "print(a5)"
   ]
  },
  {
   "cell_type": "code",
   "execution_count": 7,
   "id": "9738a195",
   "metadata": {},
   "outputs": [
    {
     "name": "stdout",
     "output_type": "stream",
     "text": [
      "None\n"
     ]
    }
   ],
   "source": [
    "a6 = d3.get('값100')\n",
    "print(a6)"
   ]
  },
  {
   "cell_type": "code",
   "execution_count": 8,
   "id": "9cf21d0a",
   "metadata": {},
   "outputs": [
    {
     "name": "stdout",
     "output_type": "stream",
     "text": [
      "{'값1': 100, '값2': 11.11, 1000: True, 2000: '안녕하세요'}\n",
      "{'값1': 1000, '값2': 11.11, 1000: True, 2000: '안녕하세요'}\n"
     ]
    }
   ],
   "source": [
    "# 값 변경\n",
    "print(d3)\n",
    "\n",
    "d3['값1'] = 1000\n",
    "\n",
    "print(d3)"
   ]
  },
  {
   "cell_type": "code",
   "execution_count": 9,
   "id": "9ea168e3",
   "metadata": {},
   "outputs": [
    {
     "name": "stdout",
     "output_type": "stream",
     "text": [
      "{'값1': 1000, '값2': 11.11, 1000: True, 2000: '안녕하세요'}\n",
      "{'값1': 1000, '값2': 11.11, 1000: True, 2000: '안녕하세요', '값100': 10000}\n"
     ]
    }
   ],
   "source": [
    "# 값 추가\n",
    "# 없는 이름으로 값을 넣어주면 추가된다.\n",
    "print(d3)\n",
    "\n",
    "d3['값100'] = 10000\n",
    "\n",
    "print(d3)"
   ]
  },
  {
   "cell_type": "code",
   "execution_count": 10,
   "id": "43abfa34",
   "metadata": {},
   "outputs": [
    {
     "name": "stdout",
     "output_type": "stream",
     "text": [
      "{'값1': 1000, '값2': 11.11, 1000: True, 2000: '안녕하세요', '값100': 10000}\n",
      "{'값1': 1000, '값2': 11.11, 1000: True, 2000: '안녕하세요'}\n"
     ]
    }
   ],
   "source": [
    "# 삭제\n",
    "print(d3)\n",
    "\n",
    "del d3['값100']\n",
    "\n",
    "print(d3)"
   ]
  },
  {
   "cell_type": "code",
   "execution_count": 15,
   "id": "4a2af67f",
   "metadata": {},
   "outputs": [
    {
     "data": {
      "text/plain": [
       "dict_keys(['값1', '값2', 1000, 2000])"
      ]
     },
     "execution_count": 15,
     "metadata": {},
     "output_type": "execute_result"
    }
   ],
   "source": [
    "# 딕셔너리의 데이터 이름들을 가져온다.\n",
    "a1 = d3.keys()\n",
    "a1"
   ]
  },
  {
   "cell_type": "code",
   "execution_count": 16,
   "id": "11227d5d",
   "metadata": {},
   "outputs": [
    {
     "data": {
      "text/plain": [
       "dict_values([1000, 11.11, True, '안녕하세요'])"
      ]
     },
     "execution_count": 16,
     "metadata": {},
     "output_type": "execute_result"
    }
   ],
   "source": [
    "# 값들만 가져온다.\n",
    "a2 = d3.values()\n",
    "a2"
   ]
  },
  {
   "cell_type": "code",
   "execution_count": 17,
   "id": "3c40735a",
   "metadata": {},
   "outputs": [
    {
     "data": {
      "text/plain": [
       "dict_items([('값1', 1000), ('값2', 11.11), (1000, True), (2000, '안녕하세요')])"
      ]
     },
     "execution_count": 17,
     "metadata": {},
     "output_type": "execute_result"
    }
   ],
   "source": [
    "# 이름과 값의 조합으로 가져온다.\n",
    "a3 = d3.items()\n",
    "a3"
   ]
  },
  {
   "cell_type": "code",
   "execution_count": 19,
   "id": "d47d4295",
   "metadata": {},
   "outputs": [
    {
     "name": "stdout",
     "output_type": "stream",
     "text": [
      "1000\n",
      "11.11\n",
      "True\n",
      "안녕하세요\n"
     ]
    }
   ],
   "source": [
    "# 딕셔너리를 for문으로 운영하면 이름이 나온다.\n",
    "for a1 in d3 :\n",
    "    print(d3[a1])"
   ]
  },
  {
   "cell_type": "code",
   "execution_count": null,
   "id": "350103bc",
   "metadata": {},
   "outputs": [],
   "source": []
  },
  {
   "cell_type": "code",
   "execution_count": null,
   "id": "97772a77",
   "metadata": {},
   "outputs": [],
   "source": []
  }
 ],
 "metadata": {
  "kernelspec": {
   "display_name": "Python 3",
   "language": "python",
   "name": "python3"
  },
  "language_info": {
   "codemirror_mode": {
    "name": "ipython",
    "version": 3
   },
   "file_extension": ".py",
   "mimetype": "text/x-python",
   "name": "python",
   "nbconvert_exporter": "python",
   "pygments_lexer": "ipython3",
   "version": "3.8.8"
  }
 },
 "nbformat": 4,
 "nbformat_minor": 5
}
