{
 "cells": [
  {
   "cell_type": "code",
   "execution_count": 1,
   "id": "1cc5134b",
   "metadata": {},
   "outputs": [
    {
     "name": "stdout",
     "output_type": "stream",
     "text": [
      "9\n",
      "9\n"
     ]
    }
   ],
   "source": [
    "# if, for, while 제어문 내에서 생성(선언)하는 경우\n",
    "for idx in range(10) :\n",
    "    a1 = idx\n",
    "    \n",
    "print(a1)\n",
    "print(idx)"
   ]
  },
  {
   "cell_type": "code",
   "execution_count": 2,
   "id": "255a61bc",
   "metadata": {},
   "outputs": [
    {
     "ename": "NameError",
     "evalue": "name 'a2' is not defined",
     "output_type": "error",
     "traceback": [
      "\u001b[1;31m---------------------------------------------------------------------------\u001b[0m",
      "\u001b[1;31mNameError\u001b[0m                                 Traceback (most recent call last)",
      "\u001b[1;32m<ipython-input-2-aecb3f4d751a>\u001b[0m in \u001b[0;36m<module>\u001b[1;34m\u001b[0m\n\u001b[0;32m      3\u001b[0m \u001b[1;33m\u001b[0m\u001b[0m\n\u001b[0;32m      4\u001b[0m \u001b[0mtest1\u001b[0m\u001b[1;33m(\u001b[0m\u001b[1;33m)\u001b[0m\u001b[1;33m\u001b[0m\u001b[1;33m\u001b[0m\u001b[0m\n\u001b[1;32m----> 5\u001b[1;33m \u001b[0mprint\u001b[0m\u001b[1;33m(\u001b[0m\u001b[0ma2\u001b[0m\u001b[1;33m)\u001b[0m\u001b[1;33m\u001b[0m\u001b[1;33m\u001b[0m\u001b[0m\n\u001b[0m",
      "\u001b[1;31mNameError\u001b[0m: name 'a2' is not defined"
     ]
    }
   ],
   "source": [
    "# 함수 내에서 선언한 변수는 함수 안에서만 사용이 가능하다.\n",
    "def test1() :\n",
    "    a2 = 100\n",
    "    \n",
    "test1()\n",
    "print(a2)"
   ]
  },
  {
   "cell_type": "markdown",
   "id": "aa1c78d5",
   "metadata": {},
   "source": [
    "### global 변수"
   ]
  },
  {
   "cell_type": "code",
   "execution_count": 5,
   "id": "6e056531",
   "metadata": {},
   "outputs": [
    {
     "name": "stdout",
     "output_type": "stream",
     "text": [
      "200\n",
      "200\n"
     ]
    }
   ],
   "source": [
    "a100 = 100\n",
    "\n",
    "def test2() :\n",
    "    # 함수 내에서의 a100은 함수 밖에서 선언한 변수임을\n",
    "    # 지정한다. \n",
    "    # 지정하게 되면 a100이 새롭게 생성되는 것이 아닌\n",
    "    # 함수 밖의 변수 a100을 직접 사용할 수 있게 된다.\n",
    "    global a100\n",
    "    a100 = 200\n",
    "    print(a100)\n",
    "    \n",
    "test2()\n",
    "print(a100)"
   ]
  },
  {
   "cell_type": "markdown",
   "id": "610a1543",
   "metadata": {},
   "source": [
    "### 객체의 변수"
   ]
  },
  {
   "cell_type": "code",
   "execution_count": 8,
   "id": "63251cbf",
   "metadata": {},
   "outputs": [],
   "source": [
    "class TestClass1 :\n",
    "    \n",
    "    def __init__(self) :\n",
    "        # 외부에서 자유롭게 접근 가능한 변수\n",
    "        self.a1 = 100\n",
    "        # 외부에서 자유롭게 접근 가능하지만 하지 말아주세요~~ 하는 변수\n",
    "        self._a2 = 200\n",
    "        # 외부에서의 접근이 차단된다.\n",
    "        self.__a3 = 300\n",
    "        \n",
    "    # __a3 의 값을 반환하는 함수\n",
    "    def getA3(self) :\n",
    "        return self.__a3\n",
    "    \n",
    "    # __a3에 값을 넣어주는 함수\n",
    "    def setA3(self, v3) :\n",
    "        if v3 > 0 :\n",
    "            self.__a3 = v3"
   ]
  },
  {
   "cell_type": "code",
   "execution_count": 9,
   "id": "74df2e08",
   "metadata": {},
   "outputs": [
    {
     "name": "stdout",
     "output_type": "stream",
     "text": [
      "100\n",
      "200\n"
     ]
    },
    {
     "ename": "AttributeError",
     "evalue": "'TestClass1' object has no attribute '__a3'",
     "output_type": "error",
     "traceback": [
      "\u001b[1;31m---------------------------------------------------------------------------\u001b[0m",
      "\u001b[1;31mAttributeError\u001b[0m                            Traceback (most recent call last)",
      "\u001b[1;32m<ipython-input-9-de6f3ec6ec93>\u001b[0m in \u001b[0;36m<module>\u001b[1;34m\u001b[0m\n\u001b[0;32m      2\u001b[0m \u001b[0mprint\u001b[0m\u001b[1;33m(\u001b[0m\u001b[0mt1\u001b[0m\u001b[1;33m.\u001b[0m\u001b[0ma1\u001b[0m\u001b[1;33m)\u001b[0m\u001b[1;33m\u001b[0m\u001b[1;33m\u001b[0m\u001b[0m\n\u001b[0;32m      3\u001b[0m \u001b[0mprint\u001b[0m\u001b[1;33m(\u001b[0m\u001b[0mt1\u001b[0m\u001b[1;33m.\u001b[0m\u001b[0m_a2\u001b[0m\u001b[1;33m)\u001b[0m\u001b[1;33m\u001b[0m\u001b[1;33m\u001b[0m\u001b[0m\n\u001b[1;32m----> 4\u001b[1;33m \u001b[0mprint\u001b[0m\u001b[1;33m(\u001b[0m\u001b[0mt1\u001b[0m\u001b[1;33m.\u001b[0m\u001b[0m__a3\u001b[0m\u001b[1;33m)\u001b[0m\u001b[1;33m\u001b[0m\u001b[1;33m\u001b[0m\u001b[0m\n\u001b[0m",
      "\u001b[1;31mAttributeError\u001b[0m: 'TestClass1' object has no attribute '__a3'"
     ]
    }
   ],
   "source": [
    "t1 = TestClass1()\n",
    "print(t1.a1)\n",
    "print(t1._a2)\n",
    "print(t1.__a3)"
   ]
  },
  {
   "cell_type": "code",
   "execution_count": 11,
   "id": "b89a10b6",
   "metadata": {},
   "outputs": [
    {
     "name": "stdout",
     "output_type": "stream",
     "text": [
      "5000\n",
      "5000\n"
     ]
    }
   ],
   "source": [
    "t1.setA3(5000)\n",
    "print(t1.getA3())\n",
    "\n",
    "t1.setA3(-5000)\n",
    "print(t1.getA3())"
   ]
  },
  {
   "cell_type": "code",
   "execution_count": null,
   "id": "5fe2bb48",
   "metadata": {},
   "outputs": [],
   "source": []
  }
 ],
 "metadata": {
  "kernelspec": {
   "display_name": "Python 3",
   "language": "python",
   "name": "python3"
  },
  "language_info": {
   "codemirror_mode": {
    "name": "ipython",
    "version": 3
   },
   "file_extension": ".py",
   "mimetype": "text/x-python",
   "name": "python",
   "nbconvert_exporter": "python",
   "pygments_lexer": "ipython3",
   "version": "3.8.8"
  }
 },
 "nbformat": 4,
 "nbformat_minor": 5
}
