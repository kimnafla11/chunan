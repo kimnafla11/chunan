{
 "cells": [
  {
   "cell_type": "markdown",
   "id": "cfacb230",
   "metadata": {},
   "source": [
    "### 상속\n",
    "- 클래스를 설계할 때 클래스들 마다 중복되는 부분이 있다면 하나의 클래스에 작성하고 그 부분을 물려받는 개념\n",
    "- 물려 주는 쪽은 부모클래스(Super Class), 물려 받는 쪽은 자식 클래스(Sub Class)라고 부른다."
   ]
  },
  {
   "cell_type": "code",
   "execution_count": 19,
   "id": "b293acba",
   "metadata": {},
   "outputs": [],
   "source": [
    "class SuperClass1 :\n",
    "    \n",
    "    # 클래스 변수\n",
    "    b1 = 100\n",
    "    b2 = 200\n",
    "    \n",
    "    def __init__(self) :\n",
    "        print('SuperClass1의 init')\n",
    "        print(f'SuperClass1의 self : {self}')\n",
    "        self.a1 = 100\n",
    "        self.a2 = 200\n",
    "        \n",
    "    def testMethod1() :\n",
    "        print(\"testMethod1\")\n",
    "        \n",
    "    def testMethod10(self) :\n",
    "        print(\"testMethod10\")\n",
    "        print(f'a1 : {self.a1}')\n",
    "        print(f'a2 : {self.a2}')"
   ]
  },
  {
   "cell_type": "code",
   "execution_count": 25,
   "id": "b867ed47",
   "metadata": {},
   "outputs": [],
   "source": [
    "# 클래스이름(부모클래스의이름)\n",
    "class SubClass1(SuperClass1) :\n",
    "    \n",
    "    b3 = 300\n",
    "    b4 = 400\n",
    "    \n",
    "    def __init__(self) :\n",
    "        # 부모 클래스에 접근하여 init을 호출해준다.\n",
    "        super().__init__()\n",
    "        \n",
    "        print('SubClass1의 init')\n",
    "        print(f'SubClass1의 self : {self}')\n",
    "        self.a3 = 300\n",
    "        self.a4 = 400\n",
    "        \n",
    "    def testMethod2() :\n",
    "        print(\"testMethod2\")\n",
    "        \n",
    "    def testMethod20(self) :\n",
    "        print(\"testMethod20\")\n",
    "        print(f'a3 : {self.a3}')\n",
    "        print(f'a4 : {self.a4}')"
   ]
  },
  {
   "cell_type": "code",
   "execution_count": 26,
   "id": "74f3aaa1",
   "metadata": {},
   "outputs": [
    {
     "name": "stdout",
     "output_type": "stream",
     "text": [
      "SuperClass1의 init\n",
      "SuperClass1의 self : <__main__.SubClass1 object at 0x0000023AC9225670>\n",
      "SubClass1의 init\n",
      "SubClass1의 self : <__main__.SubClass1 object at 0x0000023AC9225670>\n",
      "<__main__.SubClass1 object at 0x0000023AC9225670>\n",
      "100\n",
      "200\n",
      "300\n",
      "400\n",
      "testMethod1\n",
      "testMethod2\n",
      "testMethod10\n",
      "a1 : 100\n",
      "a2 : 200\n",
      "testMethod20\n",
      "a3 : 300\n",
      "a4 : 400\n"
     ]
    }
   ],
   "source": [
    "# SubClass1의 객체를 생성한다.\n",
    "s1 = SubClass1()\n",
    "print(s1)\n",
    "\n",
    "# 클래스 변수 사용\n",
    "# 부모클래스의 클래스 변수 사용 가능\n",
    "print(SubClass1.b1)\n",
    "print(SubClass1.b2)\n",
    "print(SubClass1.b3)\n",
    "print(SubClass1.b4)\n",
    "\n",
    "# 클래스 메서드 호출\n",
    "# 부모의 클래스 메서드 호출 가능\n",
    "SubClass1.testMethod1()\n",
    "SubClass1.testMethod2()\n",
    "\n",
    "# 객체를 통한 호출\n",
    "# 부모에 정의한 메서드 호출 가능\n",
    "s1.testMethod10()\n",
    "s1.testMethod20()"
   ]
  },
  {
   "cell_type": "code",
   "execution_count": null,
   "id": "8744b8f6",
   "metadata": {},
   "outputs": [],
   "source": []
  }
 ],
 "metadata": {
  "kernelspec": {
   "display_name": "Python 3",
   "language": "python",
   "name": "python3"
  },
  "language_info": {
   "codemirror_mode": {
    "name": "ipython",
    "version": 3
   },
   "file_extension": ".py",
   "mimetype": "text/x-python",
   "name": "python",
   "nbconvert_exporter": "python",
   "pygments_lexer": "ipython3",
   "version": "3.8.8"
  }
 },
 "nbformat": 4,
 "nbformat_minor": 5
}
