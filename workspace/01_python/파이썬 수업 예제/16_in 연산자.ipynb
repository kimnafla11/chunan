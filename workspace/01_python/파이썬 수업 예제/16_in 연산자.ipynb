{
 "cells": [
  {
   "cell_type": "markdown",
   "id": "7574b997",
   "metadata": {},
   "source": [
    "### in 연산자\n",
    "- 값이 있나 없나 확인\n",
    "- list, tuple, dictionary 등등 데이터를 관리하는 요소에 대한 검사를 수행할 수 있는 연산자\n",
    "- 순서를 가지고 관리하는 요소들은 값이 있는지 확인하는 용도\n",
    "- 이름을 가지고 관리하는 요소들은 이름이 있는지 확인하는 용도\n",
    "- True False 반환"
   ]
  },
  {
   "cell_type": "code",
   "execution_count": 2,
   "id": "d37ada7e",
   "metadata": {},
   "outputs": [],
   "source": [
    "a1 = [10, 20, 30, 40, 50] # 리스트\n",
    "a2 = 10, 20, 30, 40, 50 # 튜플\n",
    "a3 = {\n",
    "    'k1' : 100, \n",
    "    'k2' : 200,\n",
    "    'k3' : 300,\n",
    "} # 딕셔너리"
   ]
  },
  {
   "cell_type": "code",
   "execution_count": 3,
   "id": "d6229049",
   "metadata": {},
   "outputs": [
    {
     "name": "stdout",
     "output_type": "stream",
     "text": [
      "True\n",
      "False\n",
      "True\n",
      "False\n",
      "True\n",
      "False\n"
     ]
    }
   ],
   "source": [
    "print(30 in a1)\n",
    "print(100 in a1)\n",
    "\n",
    "print(30 in a2)\n",
    "print(100 in a2)\n",
    "\n",
    "print('k1' in a3) # a3딕셔너리에 k1키가 있는지 확인하는거\n",
    "print('k100' in a3)"
   ]
  }
 ],
 "metadata": {
  "kernelspec": {
   "display_name": "Python 3",
   "language": "python",
   "name": "python3"
  },
  "language_info": {
   "codemirror_mode": {
    "name": "ipython",
    "version": 3
   },
   "file_extension": ".py",
   "mimetype": "text/x-python",
   "name": "python",
   "nbconvert_exporter": "python",
   "pygments_lexer": "ipython3",
   "version": "3.8.8"
  }
 },
 "nbformat": 4,
 "nbformat_minor": 5
}
