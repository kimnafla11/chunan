{
 "cells": [
  {
   "cell_type": "markdown",
   "id": "2dd79a47",
   "metadata": {},
   "source": [
    "### 패키지\n",
    "- 모듈들을 모아 놓은 폴더 개념\n",
    "- 패키지.모듈명.변수명"
   ]
  },
  {
   "cell_type": "code",
   "execution_count": 1,
   "id": "47afecf8",
   "metadata": {
    "scrolled": true
   },
   "outputs": [
    {
     "name": "stdout",
     "output_type": "stream",
     "text": [
      "100\n",
      "module1_f2\n",
      "<pkg1.module1.Module1Class object at 0x0000021FD94439D0>\n"
     ]
    }
   ],
   "source": [
    "import pkg1.module1\n",
    "\n",
    "print(pkg1.module1.module1_a1)\n",
    "pkg1.module1.module1_f2()\n",
    "m1 = pkg1.module1.Module1Class()\n",
    "print(m1)"
   ]
  },
  {
   "cell_type": "code",
   "execution_count": 2,
   "id": "90d04487",
   "metadata": {},
   "outputs": [
    {
     "name": "stdout",
     "output_type": "stream",
     "text": [
      "100\n",
      "module2_f2\n",
      "<pkg2.module4.Module2Class object at 0x0000021FD9443A30>\n"
     ]
    }
   ],
   "source": [
    "# 패키지명 생략\n",
    "from pkg2 import module4\n",
    "\n",
    "print(module4.module2_a1)\n",
    "module4.module2_f2()\n",
    "m4 = module4.Module2Class()\n",
    "print(m4)"
   ]
  },
  {
   "cell_type": "code",
   "execution_count": 3,
   "id": "677250f3",
   "metadata": {},
   "outputs": [
    {
     "name": "stdout",
     "output_type": "stream",
     "text": [
      "100\n",
      "module2_f2\n",
      "<pkg3.module6.Module2Class object at 0x0000021FD9438CA0>\n"
     ]
    }
   ],
   "source": [
    "# 패키지명, 모듈명 생략\n",
    "from pkg3.module6 import module2_a1, module2_f2, Module2Class\n",
    "\n",
    "print(module2_a1)\n",
    "module2_f2()\n",
    "m6 = Module2Class()\n",
    "print(m6)"
   ]
  },
  {
   "cell_type": "markdown",
   "id": "c2025738",
   "metadata": {},
   "source": [
    "### *\n",
    "\n",
    "- 모든 것을 다 import 할 경우 사용한다."
   ]
  },
  {
   "cell_type": "code",
   "execution_count": 4,
   "id": "4d073654",
   "metadata": {},
   "outputs": [
    {
     "name": "stdout",
     "output_type": "stream",
     "text": [
      "100\n",
      "module4_f2\n",
      "<module4.Module4Class object at 0x0000021FD9443C70>\n"
     ]
    }
   ],
   "source": [
    "# 모듈에 있는 모든 것을 사용한다\n",
    "from module4 import *\n",
    "print(module4_a1)\n",
    "module4_f2()\n",
    "m100 = Module4Class()\n",
    "print(m100)"
   ]
  },
  {
   "cell_type": "code",
   "execution_count": 5,
   "id": "8ab53c99",
   "metadata": {
    "scrolled": true
   },
   "outputs": [
    {
     "name": "stdout",
     "output_type": "stream",
     "text": [
      "Hello World\n",
      "안녕하세요\n",
      "100\n"
     ]
    }
   ],
   "source": [
    "# 패키지에 있는 모든 모듈을 사용한다.\n",
    "# 패키지명을 생략하기 위해 * 를 사용하게 되면\n",
    "# 해당 패키지 폴더안에 있는 __init__.py 파일에 명시되어 있는\n",
    "# 모듈을 import 하게된다.\n",
    "from pkg4 import *\n",
    "\n",
    "print(module8.module2_a1)"
   ]
  },
  {
   "cell_type": "markdown",
   "id": "7c125279",
   "metadata": {},
   "source": [
    "- 다른 사람들이 만든 모듈이나 패키지를 사용할 경우 다음 명령어로 설치한다.\n",
    "- pip install 이름"
   ]
  },
  {
   "cell_type": "code",
   "execution_count": null,
   "id": "c4c43e4a",
   "metadata": {},
   "outputs": [],
   "source": []
  }
 ],
 "metadata": {
  "kernelspec": {
   "display_name": "Python 3",
   "language": "python",
   "name": "python3"
  },
  "language_info": {
   "codemirror_mode": {
    "name": "ipython",
    "version": 3
   },
   "file_extension": ".py",
   "mimetype": "text/x-python",
   "name": "python",
   "nbconvert_exporter": "python",
   "pygments_lexer": "ipython3",
   "version": "3.8.8"
  }
 },
 "nbformat": 4,
 "nbformat_minor": 5
}
