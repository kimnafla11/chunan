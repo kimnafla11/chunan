{
 "cells": [
  {
   "cell_type": "markdown",
   "id": "257c0af1",
   "metadata": {},
   "source": [
    "### 가변형 매개변수\n",
    "- 정의 : 함수를 호출할 때 전달하는 값의 개수나 형태에 따라 매개변수의 개수나 타입을 변경하는 것을 의미한다.\n",
    "- 파이썬은 튜플과 딕셔너리로 처리한다."
   ]
  },
  {
   "cell_type": "code",
   "execution_count": 1,
   "id": "b430c3b7",
   "metadata": {},
   "outputs": [],
   "source": [
    "# 리스트나 튜플을 받는 함수\n",
    "def test1(a1) :\n",
    "    print(type(a1))\n",
    "    print(a1)\n",
    "    \n",
    "    total = 0\n",
    "    \n",
    "    for a2 in a1 :\n",
    "        total = total + a2\n",
    "        \n",
    "    return total"
   ]
  },
  {
   "cell_type": "code",
   "execution_count": 2,
   "id": "74097f2f",
   "metadata": {},
   "outputs": [
    {
     "name": "stdout",
     "output_type": "stream",
     "text": [
      "<class 'list'>\n",
      "[10, 20, 30, 40, 50]\n",
      "150\n"
     ]
    }
   ],
   "source": [
    "b1 = [10, 20, 30, 40, 50]\n",
    "r1 = test1(b1)\n",
    "print(r1)"
   ]
  },
  {
   "cell_type": "code",
   "execution_count": 5,
   "id": "3efb8aa6",
   "metadata": {},
   "outputs": [],
   "source": [
    "# 가변형 매개변수\n",
    "# * : 함수 호출 시 전달되는 값들을 모아 튜플로 생성해서 받는다.\n",
    "def test2(*a1) :\n",
    "    print(type(a1))\n",
    "    print(a1)\n",
    "    \n",
    "    total = 0\n",
    "    \n",
    "    for a2 in a1 :\n",
    "        total = total + a2\n",
    "        \n",
    "    return total"
   ]
  },
  {
   "cell_type": "code",
   "execution_count": 6,
   "id": "0d9d1a0c",
   "metadata": {},
   "outputs": [
    {
     "ename": "TypeError",
     "evalue": "test2() takes 1 positional argument but 3 were given",
     "output_type": "error",
     "traceback": [
      "\u001b[1;31m---------------------------------------------------------------------------\u001b[0m",
      "\u001b[1;31mTypeError\u001b[0m                                 Traceback (most recent call last)",
      "\u001b[1;32m<ipython-input-6-3cbd6546b8be>\u001b[0m in \u001b[0;36m<module>\u001b[1;34m\u001b[0m\n\u001b[1;32m----> 1\u001b[1;33m \u001b[0mr1\u001b[0m \u001b[1;33m=\u001b[0m \u001b[0mtest2\u001b[0m\u001b[1;33m(\u001b[0m\u001b[1;36m10\u001b[0m\u001b[1;33m,\u001b[0m \u001b[1;36m20\u001b[0m\u001b[1;33m,\u001b[0m \u001b[1;36m30\u001b[0m\u001b[1;33m)\u001b[0m\u001b[1;33m\u001b[0m\u001b[1;33m\u001b[0m\u001b[0m\n\u001b[0m\u001b[0;32m      2\u001b[0m \u001b[0mprint\u001b[0m\u001b[1;33m(\u001b[0m\u001b[0mr1\u001b[0m\u001b[1;33m)\u001b[0m\u001b[1;33m\u001b[0m\u001b[1;33m\u001b[0m\u001b[0m\n\u001b[0;32m      3\u001b[0m \u001b[1;33m\u001b[0m\u001b[0m\n\u001b[0;32m      4\u001b[0m \u001b[0mr2\u001b[0m \u001b[1;33m=\u001b[0m \u001b[0mtest2\u001b[0m\u001b[1;33m(\u001b[0m\u001b[1;36m10\u001b[0m\u001b[1;33m,\u001b[0m \u001b[1;36m20\u001b[0m\u001b[1;33m,\u001b[0m \u001b[1;36m30\u001b[0m\u001b[1;33m,\u001b[0m \u001b[1;36m40\u001b[0m\u001b[1;33m,\u001b[0m \u001b[1;36m50\u001b[0m\u001b[1;33m)\u001b[0m\u001b[1;33m\u001b[0m\u001b[1;33m\u001b[0m\u001b[0m\n\u001b[0;32m      5\u001b[0m \u001b[0mprint\u001b[0m\u001b[1;33m(\u001b[0m\u001b[0mr2\u001b[0m\u001b[1;33m)\u001b[0m\u001b[1;33m\u001b[0m\u001b[1;33m\u001b[0m\u001b[0m\n",
      "\u001b[1;31mTypeError\u001b[0m: test2() takes 1 positional argument but 3 were given"
     ]
    }
   ],
   "source": [
    "r1 = test2(10, 20, 30)\n",
    "print(r1)\n",
    "\n",
    "r2 = test2(10, 20, 30, 40, 50)\n",
    "print(r2)"
   ]
  },
  {
   "cell_type": "code",
   "execution_count": 7,
   "id": "176898f8",
   "metadata": {},
   "outputs": [],
   "source": [
    "def test3(a1, a2, a3) :\n",
    "    print(a1)\n",
    "    print(a2)\n",
    "    print(a3)"
   ]
  },
  {
   "cell_type": "code",
   "execution_count": 8,
   "id": "1de66568",
   "metadata": {},
   "outputs": [
    {
     "name": "stdout",
     "output_type": "stream",
     "text": [
      "10\n",
      "20\n",
      "30\n"
     ]
    }
   ],
   "source": [
    "test3(10, 20, 30)"
   ]
  },
  {
   "cell_type": "code",
   "execution_count": 9,
   "id": "34699b84",
   "metadata": {},
   "outputs": [
    {
     "name": "stdout",
     "output_type": "stream",
     "text": [
      "10\n",
      "20\n",
      "30\n"
     ]
    }
   ],
   "source": [
    "test3(a3=30, a1=10, a2=20)"
   ]
  },
  {
   "cell_type": "code",
   "execution_count": 10,
   "id": "4ccff298",
   "metadata": {},
   "outputs": [
    {
     "ename": "TypeError",
     "evalue": "test3() got an unexpected keyword argument 'k1'",
     "output_type": "error",
     "traceback": [
      "\u001b[1;31m---------------------------------------------------------------------------\u001b[0m",
      "\u001b[1;31mTypeError\u001b[0m                                 Traceback (most recent call last)",
      "\u001b[1;32m<ipython-input-10-9c1b9d2debf5>\u001b[0m in \u001b[0;36m<module>\u001b[1;34m\u001b[0m\n\u001b[0;32m      1\u001b[0m \u001b[1;31m# 없는 이름 사용\u001b[0m\u001b[1;33m\u001b[0m\u001b[1;33m\u001b[0m\u001b[1;33m\u001b[0m\u001b[0m\n\u001b[1;32m----> 2\u001b[1;33m \u001b[0mtest3\u001b[0m\u001b[1;33m(\u001b[0m\u001b[0mk1\u001b[0m\u001b[1;33m=\u001b[0m\u001b[1;36m10\u001b[0m\u001b[1;33m,\u001b[0m \u001b[0mk2\u001b[0m\u001b[1;33m=\u001b[0m\u001b[1;36m20\u001b[0m\u001b[1;33m,\u001b[0m \u001b[0mk3\u001b[0m\u001b[1;33m=\u001b[0m\u001b[1;36m30\u001b[0m\u001b[1;33m)\u001b[0m\u001b[1;33m\u001b[0m\u001b[1;33m\u001b[0m\u001b[0m\n\u001b[0m",
      "\u001b[1;31mTypeError\u001b[0m: test3() got an unexpected keyword argument 'k1'"
     ]
    }
   ],
   "source": [
    "# 없는 이름 사용\n",
    "test3(k1=10, k2=20, k3=30)"
   ]
  },
  {
   "cell_type": "code",
   "execution_count": 11,
   "id": "3289b3b0",
   "metadata": {},
   "outputs": [],
   "source": [
    "def test4(**a1) :\n",
    "    print(type(a1))\n",
    "    print(a1)"
   ]
  },
  {
   "cell_type": "code",
   "execution_count": 12,
   "id": "a0501b5a",
   "metadata": {},
   "outputs": [
    {
     "name": "stdout",
     "output_type": "stream",
     "text": [
      "<class 'dict'>\n",
      "{'b1': 10, 'b2': 20, 'b3': 30}\n",
      "<class 'dict'>\n",
      "{'k1': 100, 'k2': 200, 'k3': 300}\n"
     ]
    }
   ],
   "source": [
    "test4(b1=10, b2=20, b3=30)\n",
    "test4(k1=100, k2=200, k3=300)"
   ]
  },
  {
   "cell_type": "code",
   "execution_count": 13,
   "id": "19c30bc5",
   "metadata": {},
   "outputs": [],
   "source": [
    "# 같이 사용할 경우\n",
    "# 일반변수, 가변형 매개변수 순으로 작성해준다.\n",
    "def test5(a1, a2, *a3, **a4) :\n",
    "    print(a1)\n",
    "    print(a2)\n",
    "    print(a3)\n",
    "    print(a4)"
   ]
  },
  {
   "cell_type": "code",
   "execution_count": 14,
   "id": "297ebfd7",
   "metadata": {},
   "outputs": [
    {
     "name": "stdout",
     "output_type": "stream",
     "text": [
      "100\n",
      "200\n",
      "(300, 400, 500)\n",
      "{'k1': 600, 'k2': 700, 'k3': 800}\n"
     ]
    }
   ],
   "source": [
    "test5(100, 200, 300, 400, 500, k1=600, k2=700, k3=800)"
   ]
  },
  {
   "cell_type": "markdown",
   "id": "63947fb1",
   "metadata": {},
   "source": [
    "- 함수 호출 시 전달하는 값에 *, ** 를 붙힐 수 있다.\n",
    "- 이 것은 unpack의 개념이다."
   ]
  },
  {
   "cell_type": "code",
   "execution_count": 15,
   "id": "55638c13",
   "metadata": {},
   "outputs": [
    {
     "name": "stdout",
     "output_type": "stream",
     "text": [
      "10\n",
      "20\n",
      "30\n"
     ]
    }
   ],
   "source": [
    "# unpack 개념을 다시 살펴봅시당~~\n",
    "a1 = [10, 20, 30]\n",
    "b1, b2, b3 = a1\n",
    "\n",
    "print(b1)\n",
    "print(b2)\n",
    "print(b3)"
   ]
  },
  {
   "cell_type": "code",
   "execution_count": 17,
   "id": "f9c6d7d9",
   "metadata": {},
   "outputs": [],
   "source": [
    "def test6(a1, a2, a3) :\n",
    "    print(a1)\n",
    "    print(a2)\n",
    "    print(a3)"
   ]
  },
  {
   "cell_type": "code",
   "execution_count": 18,
   "id": "4570200e",
   "metadata": {},
   "outputs": [
    {
     "ename": "TypeError",
     "evalue": "test6() argument after * must be an iterable, not int",
     "output_type": "error",
     "traceback": [
      "\u001b[1;31m---------------------------------------------------------------------------\u001b[0m",
      "\u001b[1;31mTypeError\u001b[0m                                 Traceback (most recent call last)",
      "\u001b[1;32m<ipython-input-18-2c7e58d4d9e5>\u001b[0m in \u001b[0;36m<module>\u001b[1;34m\u001b[0m\n\u001b[1;32m----> 1\u001b[1;33m \u001b[0mtest6\u001b[0m\u001b[1;33m(\u001b[0m\u001b[1;33m*\u001b[0m\u001b[1;36m100\u001b[0m\u001b[1;33m)\u001b[0m\u001b[1;33m\u001b[0m\u001b[1;33m\u001b[0m\u001b[0m\n\u001b[0m",
      "\u001b[1;31mTypeError\u001b[0m: test6() argument after * must be an iterable, not int"
     ]
    }
   ],
   "source": [
    "# 정수, 실수, 참거짓은 허용하지 않는다.\n",
    "# list, tuple, range 등과 같이 반복문을 운영할 수 있는 것들만\n",
    "# 가능하다.\n",
    "test6(*100)"
   ]
  },
  {
   "cell_type": "code",
   "execution_count": 23,
   "id": "2c696fba",
   "metadata": {},
   "outputs": [
    {
     "name": "stdout",
     "output_type": "stream",
     "text": [
      "10\n",
      "20\n",
      "30\n"
     ]
    }
   ],
   "source": [
    "t1 = 10, 20, 30\n",
    "# tuple, list 등이 가지고 있는 값을 다 추출해서\n",
    "# 호출하는 함수에 정의된 매개변수에 1:1 매칭해서 하나씩 담아준다.\n",
    "# 함수에 정의된 매개변수의 개수와 tuple, list 등이 관리하는 값의 개수는\n",
    "# 일치해야 한다.\n",
    "test6(*t1)"
   ]
  },
  {
   "cell_type": "code",
   "execution_count": 24,
   "id": "6a0f89b9",
   "metadata": {},
   "outputs": [
    {
     "name": "stdout",
     "output_type": "stream",
     "text": [
      "a\n",
      "b\n",
      "c\n"
     ]
    }
   ],
   "source": [
    "test6(*'abc')"
   ]
  },
  {
   "cell_type": "code",
   "execution_count": 27,
   "id": "77a4e4c0",
   "metadata": {},
   "outputs": [
    {
     "ename": "TypeError",
     "evalue": "test6() missing 1 required positional argument: 'a3'",
     "output_type": "error",
     "traceback": [
      "\u001b[1;31m---------------------------------------------------------------------------\u001b[0m",
      "\u001b[1;31mTypeError\u001b[0m                                 Traceback (most recent call last)",
      "\u001b[1;32m<ipython-input-27-73315ba04c44>\u001b[0m in \u001b[0;36m<module>\u001b[1;34m\u001b[0m\n\u001b[0;32m      8\u001b[0m }\n\u001b[0;32m      9\u001b[0m \u001b[1;33m\u001b[0m\u001b[0m\n\u001b[1;32m---> 10\u001b[1;33m \u001b[0mtest6\u001b[0m\u001b[1;33m(\u001b[0m\u001b[1;33m**\u001b[0m\u001b[0md10\u001b[0m\u001b[1;33m)\u001b[0m\u001b[1;33m\u001b[0m\u001b[1;33m\u001b[0m\u001b[0m\n\u001b[0m",
      "\u001b[1;31mTypeError\u001b[0m: test6() missing 1 required positional argument: 'a3'"
     ]
    }
   ],
   "source": [
    "# 딕셔너리 사용.\n",
    "# 딕셔너리의 데이터 이름과 일치하는 매개변수에\n",
    "# 값이 담긴다.\n",
    "\n",
    "# 함수의 모든 매개변수에 값이 담길 수 있도록 해야 한다.\n",
    "# 만약 매개변수에 없는 이름의 값이 있다면 오류가 발생한다.\n",
    "d10 = {\n",
    "    'a1' : 100,\n",
    "    'a2' : 200,\n",
    "    'a3' : 300,\n",
    "}\n",
    "\n",
    "test6(**d10)"
   ]
  },
  {
   "cell_type": "code",
   "execution_count": null,
   "id": "046c4ade",
   "metadata": {},
   "outputs": [],
   "source": []
  }
 ],
 "metadata": {
  "kernelspec": {
   "display_name": "Python 3",
   "language": "python",
   "name": "python3"
  },
  "language_info": {
   "codemirror_mode": {
    "name": "ipython",
    "version": 3
   },
   "file_extension": ".py",
   "mimetype": "text/x-python",
   "name": "python",
   "nbconvert_exporter": "python",
   "pygments_lexer": "ipython3",
   "version": "3.8.8"
  }
 },
 "nbformat": 4,
 "nbformat_minor": 5
}
