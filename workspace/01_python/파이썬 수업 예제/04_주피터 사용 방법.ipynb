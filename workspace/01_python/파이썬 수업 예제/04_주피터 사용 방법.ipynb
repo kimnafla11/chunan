{
 "cells": [
  {
   "cell_type": "markdown",
   "id": "39e2f0cb",
   "metadata": {},
   "source": [
    "### 셀\n",
    "- 설명이나 코드를 작성할 수 있는 칸 하나를 의미한다."
   ]
  },
  {
   "cell_type": "markdown",
   "id": "dca7fd05",
   "metadata": {},
   "source": [
    "### 셀 모드\n",
    "- command mode(esc) : 주피터에 있는 셀들을 관리할 수 있다.\n",
    "- edit mode(enter) : 현재 셀에 대해 편집 작업을 할 수 있다."
   ]
  },
  {
   "cell_type": "markdown",
   "id": "ee9bfb45",
   "metadata": {},
   "source": [
    "### 공통 단축키\n",
    "- shift + enter : 현재 셀을 실행한다. 실행 후 다음 셀로 이동한다.\n",
    "- ctrl + enter : 현재 셀을 실행한다. 실행 후 다음 셀로 이동하지 않는다."
   ]
  },
  {
   "cell_type": "markdown",
   "id": "33056d68",
   "metadata": {},
   "source": [
    "### command mode 단축키\n",
    "- 상하 방향키 : 셀 이동\n",
    "- a : 현재 셀의 상단에 셀을 추가\n",
    "- b : 현재 셀의 하단에 셀을 추가\n",
    "- dd : 현재 셀을 삭제한다.\n",
    "- m : 현재 셀을 markdown(설명작성)으로 변경한다.\n",
    "- y : 현재 셀을 코드 작성 타입으로 변경한다.\n",
    "- shift + 클릭 : 여러 셀을 선택한다.\n",
    "- shift + m : 선택된 셀들을 하나로 합친다.\n",
    "- z : 삭제한 셀을 복원한다."
   ]
  },
  {
   "cell_type": "markdown",
   "id": "7b675e3d",
   "metadata": {},
   "source": [
    "### edit mode 단축키\n",
    "- 상하 방향키 : 현재 셀 제일 위에 있는 경우 이전셀로 이동하고 현재 셀 제일 마지막에 있을 경우 다음 셀로 이동한다.\n",
    "- ctrl + shift + - : 현재 위치를 기준으로 셀을 나눈다."
   ]
  },
  {
   "cell_type": "markdown",
   "id": "dea43aaa",
   "metadata": {},
   "source": [
    "# 제목1\n",
    "## 제목2\n",
    "### 제목3\n",
    "#### 제목4\n",
    "##### 제목5"
   ]
  },
  {
   "cell_type": "markdown",
   "id": "b7d621f0",
   "metadata": {},
   "source": [
    "### 일부 HTML을 지원한다.\n",
    "\n",
    "동해물과 <span style='color:red'>백두산이</span> 마르도 닳도록"
   ]
  },
  {
   "cell_type": "markdown",
   "id": "c8a810fb",
   "metadata": {},
   "source": [
    "<img src='image/111.jpg'/>"
   ]
  },
  {
   "cell_type": "markdown",
   "id": "75f30cb9",
   "metadata": {},
   "source": [
    "![이미지](image/111.jpg)"
   ]
  },
  {
   "cell_type": "markdown",
   "id": "7fd98ae2",
   "metadata": {},
   "source": [
    "$a^2 + b^2 = c^2$"
   ]
  },
  {
   "cell_type": "markdown",
   "id": "b25218c7",
   "metadata": {},
   "source": [
    "https://datascienceschool.net/intro.html"
   ]
  },
  {
   "cell_type": "code",
   "execution_count": null,
   "id": "d6661cb7",
   "metadata": {},
   "outputs": [],
   "source": []
  }
 ],
 "metadata": {
  "kernelspec": {
   "display_name": "Python 3",
   "language": "python",
   "name": "python3"
  },
  "language_info": {
   "codemirror_mode": {
    "name": "ipython",
    "version": 3
   },
   "file_extension": ".py",
   "mimetype": "text/x-python",
   "name": "python",
   "nbconvert_exporter": "python",
   "pygments_lexer": "ipython3",
   "version": "3.8.8"
  }
 },
 "nbformat": 4,
 "nbformat_minor": 5
}
