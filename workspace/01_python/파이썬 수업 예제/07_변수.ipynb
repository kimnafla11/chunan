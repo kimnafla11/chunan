{
 "cells": [
  {
   "cell_type": "markdown",
   "id": "2d52a9ca",
   "metadata": {},
   "source": [
    "### 변수\n",
    "- 메모리(RAM)에 만들어지는 기억장소\n",
    "- 이름을 부여해 개발자가 자유롭게 사용할 수 있다.\n",
    "- 값은 하나만 저장이 가능하다.\n",
    "- 파이썬은 변수를 생성하고자 한다면 지금까지 사용하지 않는 이름을 통해 값을 저장하면 된다.\n",
    "- 기존에 사용한 이름을 통해 저장하면 덮어씌워진다."
   ]
  },
  {
   "cell_type": "markdown",
   "id": "f0cd4795",
   "metadata": {},
   "source": [
    "### 이름(식별자) 짓는 규칙\n",
    "- 첫 글자는 문자나 _(언더바)로 시작해야 한다.\n",
    "- 숫자로 시작할 수 없다.\n",
    "- 특수문자 대부분이 연산자 이므로 _ 를 제외하고는 사용할 수 없다.\n",
    "- 키워드(미리 용도가 정해져 있는 단어)는 사용할 수 없다.\n",
    "- 대소문자를 구분한다."
   ]
  },
  {
   "cell_type": "markdown",
   "id": "91f88467",
   "metadata": {},
   "source": [
    "### 권장\n",
    "- 변수 : 첫 글자를 소문자로 한다.\n",
    "- 함수 : 첫 글자를 소문자로 한다.\n",
    "- 클래스 : 첫 글자를 대문자로 한다.\n",
    "- 가급적 파스칼 표기 기법이나 카멜 표기 기법을 사용한다.\n",
    "- koreanpointavg : 이렇게 하지 마세요!!\n",
    "- 파스칼 표기 기법 : korean_point_avg\n",
    "- 카멜 표기 기법 : koreanPointAvg"
   ]
  },
  {
   "cell_type": "markdown",
   "id": "8d9b5265",
   "metadata": {},
   "source": [
    "### 변수 생성\n",
    "- 사용하지 않는 이름을 이용해 값을 저장하면 그 때 변수가 생성된다."
   ]
  },
  {
   "cell_type": "code",
   "execution_count": 1,
   "id": "249c95c3",
   "metadata": {},
   "outputs": [],
   "source": [
    "# = : 오른쪽의 값을 왼쪽의 변수에 저장하는 연산자(대입연산자)\n",
    "a1 = 100\n",
    "a2 = 11.11\n",
    "a3 = True\n",
    "a4 = False\n",
    "a5 = '문자열'"
   ]
  },
  {
   "cell_type": "markdown",
   "id": "44e190ff",
   "metadata": {},
   "source": [
    "### 변수 사용"
   ]
  },
  {
   "cell_type": "code",
   "execution_count": 2,
   "id": "f68e5e87",
   "metadata": {},
   "outputs": [
    {
     "name": "stdout",
     "output_type": "stream",
     "text": [
      "100\n",
      "11.11\n",
      "True\n",
      "False\n",
      "문자열\n"
     ]
    }
   ],
   "source": [
    "# 변수의 이름만 작성하면 변수에 저장되어 있는 값을 가져온다.\n",
    "# 존재하지 않는 변수의 이름을 사용하면 오류가 발생한다.\n",
    "print(a1)\n",
    "print(a2)\n",
    "print(a3)\n",
    "print(a4)\n",
    "print(a5)"
   ]
  },
  {
   "cell_type": "code",
   "execution_count": 3,
   "id": "25fd8589",
   "metadata": {},
   "outputs": [
    {
     "ename": "NameError",
     "evalue": "name 'a6' is not defined",
     "output_type": "error",
     "traceback": [
      "\u001b[1;31m---------------------------------------------------------------------------\u001b[0m",
      "\u001b[1;31mNameError\u001b[0m                                 Traceback (most recent call last)",
      "\u001b[1;32m<ipython-input-3-33bb125095a1>\u001b[0m in \u001b[0;36m<module>\u001b[1;34m\u001b[0m\n\u001b[0;32m      1\u001b[0m \u001b[1;31m# 존재하지 않는 변수 사용\u001b[0m\u001b[1;33m\u001b[0m\u001b[1;33m\u001b[0m\u001b[1;33m\u001b[0m\u001b[0m\n\u001b[1;32m----> 2\u001b[1;33m \u001b[0mprint\u001b[0m\u001b[1;33m(\u001b[0m\u001b[0ma6\u001b[0m\u001b[1;33m)\u001b[0m\u001b[1;33m\u001b[0m\u001b[1;33m\u001b[0m\u001b[0m\n\u001b[0m",
      "\u001b[1;31mNameError\u001b[0m: name 'a6' is not defined"
     ]
    }
   ],
   "source": [
    "# 존재하지 않는 변수 사용\n",
    "print(a6)"
   ]
  },
  {
   "cell_type": "markdown",
   "id": "336c2e0f",
   "metadata": {},
   "source": [
    "### 변수에 값을 다시 저장\n",
    "- 기존에 사용한 이름의 변수에 값을 넣어주면 덮어 씌워진다.\n",
    "- 변수는 하나의 값만 관리할 수 있다."
   ]
  },
  {
   "cell_type": "code",
   "execution_count": 4,
   "id": "f972bff2",
   "metadata": {},
   "outputs": [
    {
     "name": "stdout",
     "output_type": "stream",
     "text": [
      "100\n",
      "11.11\n"
     ]
    }
   ],
   "source": [
    "print(a1)\n",
    "print(a2)"
   ]
  },
  {
   "cell_type": "code",
   "execution_count": 5,
   "id": "0342fe2e",
   "metadata": {},
   "outputs": [
    {
     "name": "stdout",
     "output_type": "stream",
     "text": [
      "200\n",
      "22.22\n"
     ]
    }
   ],
   "source": [
    "a1 = 200\n",
    "a2 = 22.22\n",
    "\n",
    "print(a1)\n",
    "print(a2)"
   ]
  },
  {
   "cell_type": "markdown",
   "id": "fb155cff",
   "metadata": {},
   "source": [
    "### 변수의 타입\n",
    "- 다른 프로그래밍 언어는 변수에 저장할 값의 타입을 정해야 한다(데이터 타입)\n",
    "- 파이썬 등 몇몇 언어들은 값을 객체라는 타입으로 관리한다.\n",
    "- 이 때문에 파이썬은 하나의 변수에 정수, 실수 등 다양한 형태의 값을 저장할 수 있다."
   ]
  },
  {
   "cell_type": "code",
   "execution_count": 6,
   "id": "ceada184",
   "metadata": {},
   "outputs": [
    {
     "name": "stdout",
     "output_type": "stream",
     "text": [
      "100\n"
     ]
    }
   ],
   "source": [
    "a1 = 100\n",
    "print(a1)"
   ]
  },
  {
   "cell_type": "code",
   "execution_count": 7,
   "id": "71c34022",
   "metadata": {},
   "outputs": [
    {
     "name": "stdout",
     "output_type": "stream",
     "text": [
      "문자열\n"
     ]
    }
   ],
   "source": [
    "a1 = '문자열'\n",
    "print(a1)"
   ]
  },
  {
   "cell_type": "code",
   "execution_count": 8,
   "id": "a50a3932",
   "metadata": {},
   "outputs": [
    {
     "name": "stdout",
     "output_type": "stream",
     "text": [
      "<class 'str'>\n"
     ]
    }
   ],
   "source": [
    "# 위의 특징 때문에 변수에 어떠한 값이 저장되어 있는지 확실하지 않는\n",
    "# 경우가 발생할 수 있다.\n",
    "# 이 때, type을 사용한다.\n",
    "print(type(a1))"
   ]
  },
  {
   "cell_type": "code",
   "execution_count": 9,
   "id": "6d38dc53",
   "metadata": {},
   "outputs": [
    {
     "name": "stdout",
     "output_type": "stream",
     "text": [
      "<class 'int'>\n"
     ]
    }
   ],
   "source": [
    "a1 = 100\n",
    "print(type(a1))"
   ]
  },
  {
   "cell_type": "code",
   "execution_count": null,
   "id": "a1b5fc1e",
   "metadata": {},
   "outputs": [],
   "source": []
  }
 ],
 "metadata": {
  "kernelspec": {
   "display_name": "Python 3",
   "language": "python",
   "name": "python3"
  },
  "language_info": {
   "codemirror_mode": {
    "name": "ipython",
    "version": 3
   },
   "file_extension": ".py",
   "mimetype": "text/x-python",
   "name": "python",
   "nbconvert_exporter": "python",
   "pygments_lexer": "ipython3",
   "version": "3.8.8"
  }
 },
 "nbformat": 4,
 "nbformat_minor": 5
}
