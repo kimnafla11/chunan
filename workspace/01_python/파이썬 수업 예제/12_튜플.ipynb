{
 "cells": [
  {
   "cell_type": "markdown",
   "id": "9669703e",
   "metadata": {},
   "source": [
    "### Tuple\n",
    "- 순서(0 부터 1씩 증가)를 통해 다수의 기억장소를 관리하는 컬렉션\n",
    "- 생성시 관리할 값들을 모두 설정해줘야 하고 이후로는 수정이 불가능하다."
   ]
  },
  {
   "cell_type": "markdown",
   "id": "f256a71c",
   "metadata": {},
   "source": [
    "### Tuple 생성"
   ]
  },
  {
   "cell_type": "code",
   "execution_count": 1,
   "id": "7ca12514",
   "metadata": {},
   "outputs": [
    {
     "name": "stdout",
     "output_type": "stream",
     "text": [
      "<class 'tuple'>\n",
      "()\n"
     ]
    }
   ],
   "source": [
    "# tuple 함수를 사용한 생성\n",
    "# 아무런 값도 가지지 않는 튜플이 생성된다.\n",
    "t1 = tuple()\n",
    "print(type(t1))\n",
    "print(t1)"
   ]
  },
  {
   "cell_type": "code",
   "execution_count": 2,
   "id": "6cd4fae8",
   "metadata": {},
   "outputs": [
    {
     "name": "stdout",
     "output_type": "stream",
     "text": [
      "<class 'tuple'>\n",
      "()\n"
     ]
    }
   ],
   "source": [
    "# 기호를 통한 생성\n",
    "t2 = ()\n",
    "print(type(t2))\n",
    "print(t2)"
   ]
  },
  {
   "cell_type": "code",
   "execution_count": 3,
   "id": "bf2e93cd",
   "metadata": {},
   "outputs": [
    {
     "name": "stdout",
     "output_type": "stream",
     "text": [
      "<class 'tuple'>\n",
      "(10, 20, 30, 40, 50)\n"
     ]
    }
   ],
   "source": [
    "# 값을 지정하여 생성\n",
    "t3 = (10, 20, 30, 40, 50)\n",
    "print(type(t3))\n",
    "print(t3)"
   ]
  },
  {
   "cell_type": "code",
   "execution_count": 4,
   "id": "b895949c",
   "metadata": {},
   "outputs": [
    {
     "name": "stdout",
     "output_type": "stream",
     "text": [
      "<class 'tuple'>\n",
      "(10, 20, 30, 40, 50)\n"
     ]
    }
   ],
   "source": [
    "# 괄호 없이 값들만 나열해주면 튜플로 생성한다.\n",
    "t4 = 10, 20, 30, 40, 50\n",
    "print(type(t4))\n",
    "print(t4)"
   ]
  },
  {
   "cell_type": "code",
   "execution_count": 5,
   "id": "0ae30a3b",
   "metadata": {},
   "outputs": [],
   "source": [
    "def test1(a1, a2) :\n",
    "    r1 = a1 + a2\n",
    "    r2 = a1 - a2\n",
    "    r3 = a1 * a2\n",
    "    r4 = a1 // a2\n",
    "    # 변수들을 쉼표로 구분하여 나열해두었기 때문에\n",
    "    # 튜플로 생성되어 튜플이 반환된다.\n",
    "    return r1, r2, r3, r4"
   ]
  },
  {
   "cell_type": "code",
   "execution_count": 6,
   "id": "afecb18a",
   "metadata": {},
   "outputs": [
    {
     "name": "stdout",
     "output_type": "stream",
     "text": [
      "<class 'tuple'>\n",
      "(13, 7, 30, 3)\n"
     ]
    }
   ],
   "source": [
    "t5 = test1(10, 3)\n",
    "print(type(t5))\n",
    "print(t5)"
   ]
  },
  {
   "cell_type": "markdown",
   "id": "1dacc5e2",
   "metadata": {},
   "source": [
    "### 튜플이 관리하는 값에 접근한다(인덱싱)"
   ]
  },
  {
   "cell_type": "code",
   "execution_count": 7,
   "id": "1ee93c38",
   "metadata": {},
   "outputs": [
    {
     "data": {
      "text/plain": [
       "(10, 20, 30, 40, 50)"
      ]
     },
     "execution_count": 7,
     "metadata": {},
     "output_type": "execute_result"
    }
   ],
   "source": [
    "t1 = 10, 20, 30, 40, 50\n",
    "t1"
   ]
  },
  {
   "cell_type": "code",
   "execution_count": 8,
   "id": "b0c2fcc8",
   "metadata": {},
   "outputs": [
    {
     "name": "stdout",
     "output_type": "stream",
     "text": [
      "10\n",
      "20\n",
      "30\n"
     ]
    }
   ],
   "source": [
    "# 0 부터 1씩 증가되는 순서 값을 통해 값을 추출할 수 있다.\n",
    "# 왼쪽부터..\n",
    "print(t1[0])\n",
    "print(t1[1])\n",
    "print(t1[2])"
   ]
  },
  {
   "cell_type": "code",
   "execution_count": 9,
   "id": "a46d514e",
   "metadata": {},
   "outputs": [
    {
     "name": "stdout",
     "output_type": "stream",
     "text": [
      "50\n",
      "40\n",
      "30\n"
     ]
    }
   ],
   "source": [
    "# - 순서값 : 뒤에서 부터...\n",
    "print(t1[-1])\n",
    "print(t1[-2])\n",
    "print(t1[-3])"
   ]
  },
  {
   "cell_type": "code",
   "execution_count": 10,
   "id": "25debbfb",
   "metadata": {},
   "outputs": [
    {
     "name": "stdout",
     "output_type": "stream",
     "text": [
      "10\n",
      "20\n",
      "30\n",
      "40\n",
      "50\n"
     ]
    }
   ],
   "source": [
    "# unpack \n",
    "# 튜플이 관리하는 값의 개수 만큼 변수를 나열해 주면 1:1 대응해서\n",
    "# 하나씩 담기게 된다.\n",
    "a1, a2, a3, a4, a5 = t1\n",
    "print(a1)\n",
    "print(a2)\n",
    "print(a3)\n",
    "print(a4)\n",
    "print(a5)"
   ]
  },
  {
   "cell_type": "code",
   "execution_count": 12,
   "id": "11d72e63",
   "metadata": {},
   "outputs": [
    {
     "name": "stdout",
     "output_type": "stream",
     "text": [
      "30\n",
      "-10\n",
      "200\n",
      "0\n"
     ]
    }
   ],
   "source": [
    "a1, a2, a3, a4 = test1(10, 20)\n",
    "print(a1)\n",
    "print(a2)\n",
    "print(a3)\n",
    "print(a4)"
   ]
  },
  {
   "cell_type": "markdown",
   "id": "3d35fb23",
   "metadata": {},
   "source": [
    "### 일부를 발췌한다(슬라이싱)\n",
    "- 지정된 범위의 값들을 가진 새로운 튜플을 생성한다."
   ]
  },
  {
   "cell_type": "code",
   "execution_count": 13,
   "id": "e90749fa",
   "metadata": {},
   "outputs": [
    {
     "data": {
      "text/plain": [
       "(10, 20, 30, 40, 50, 60, 70, 80, 90, 100)"
      ]
     },
     "execution_count": 13,
     "metadata": {},
     "output_type": "execute_result"
    }
   ],
   "source": [
    "t1 = 10, 20, 30, 40, 50, 60, 70, 80, 90, 100\n",
    "t1"
   ]
  },
  {
   "cell_type": "code",
   "execution_count": 14,
   "id": "c154c3bb",
   "metadata": {},
   "outputs": [
    {
     "data": {
      "text/plain": [
       "(30, 40, 50, 60, 70)"
      ]
     },
     "execution_count": 14,
     "metadata": {},
     "output_type": "execute_result"
    }
   ],
   "source": [
    "# 순서 값 2 ~ 7 - 1 까지\n",
    "t2 = t1[2:7]\n",
    "t2"
   ]
  },
  {
   "cell_type": "code",
   "execution_count": 15,
   "id": "7730ea40",
   "metadata": {},
   "outputs": [
    {
     "data": {
      "text/plain": [
       "(10, 20, 30, 40, 50, 60, 70)"
      ]
     },
     "execution_count": 15,
     "metadata": {},
     "output_type": "execute_result"
    }
   ],
   "source": [
    "# 처음 부터 7 - 1 까지\n",
    "t3 = t1[:7]\n",
    "t3"
   ]
  },
  {
   "cell_type": "code",
   "execution_count": 16,
   "id": "8d5fe17d",
   "metadata": {},
   "outputs": [
    {
     "data": {
      "text/plain": [
       "(30, 40, 50, 60, 70, 80, 90, 100)"
      ]
     },
     "execution_count": 16,
     "metadata": {},
     "output_type": "execute_result"
    }
   ],
   "source": [
    "# 순서값 2 부터 끝까지\n",
    "t4 = t1[2:]\n",
    "t4"
   ]
  },
  {
   "cell_type": "code",
   "execution_count": null,
   "id": "0d13ce22",
   "metadata": {},
   "outputs": [],
   "source": []
  }
 ],
 "metadata": {
  "kernelspec": {
   "display_name": "Python 3 (ipykernel)",
   "language": "python",
   "name": "python3"
  },
  "language_info": {
   "codemirror_mode": {
    "name": "ipython",
    "version": 3
   },
   "file_extension": ".py",
   "mimetype": "text/x-python",
   "name": "python",
   "nbconvert_exporter": "python",
   "pygments_lexer": "ipython3",
   "version": "3.9.12"
  }
 },
 "nbformat": 4,
 "nbformat_minor": 5
}
