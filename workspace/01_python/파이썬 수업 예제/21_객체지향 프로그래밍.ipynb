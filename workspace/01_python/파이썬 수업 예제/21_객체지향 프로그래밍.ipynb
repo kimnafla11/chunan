{
 "cells": [
  {
   "cell_type": "markdown",
   "id": "bb0e789c",
   "metadata": {},
   "source": [
    "### 객체\n",
    "- 관리하고자 하는 요소에 대한 데이터와 기능을 관리하는 개념\n",
    "- 객체를 생성하기 위해 클래스라는 설계도를 사용한다."
   ]
  },
  {
   "cell_type": "code",
   "execution_count": 1,
   "id": "711304bd",
   "metadata": {},
   "outputs": [],
   "source": [
    "# 클래스 작성\n",
    "class TestClass1 :\n",
    "    pass"
   ]
  },
  {
   "cell_type": "code",
   "execution_count": 3,
   "id": "38662da8",
   "metadata": {},
   "outputs": [
    {
     "name": "stdout",
     "output_type": "stream",
     "text": [
      "<__main__.TestClass1 object at 0x0000021A124B36A0>\n",
      "<__main__.TestClass1 object at 0x0000021A124B39D0>\n"
     ]
    }
   ],
   "source": [
    "# 객체 생성\n",
    "t1 = TestClass1()\n",
    "t2 = TestClass1()\n",
    "\n",
    "print(t1)\n",
    "print(t2)"
   ]
  },
  {
   "cell_type": "code",
   "execution_count": 4,
   "id": "a93850f1",
   "metadata": {},
   "outputs": [
    {
     "name": "stdout",
     "output_type": "stream",
     "text": [
      "<__main__.TestClass1 object at 0x0000021A124B36A0>\n"
     ]
    }
   ],
   "source": [
    "t3 = t1\n",
    "print(t3)"
   ]
  },
  {
   "cell_type": "code",
   "execution_count": 5,
   "id": "361579f2",
   "metadata": {},
   "outputs": [
    {
     "name": "stdout",
     "output_type": "stream",
     "text": [
      "100\n"
     ]
    }
   ],
   "source": [
    "# 파이썬은 생성된 객체에 변수를 추가하는 것이 가능하다.\n",
    "# 객체에 없는 변수에 값을 넣어주면 추가된다.\n",
    "t1.a1 = 100\n",
    "print(t1.a1)"
   ]
  },
  {
   "cell_type": "code",
   "execution_count": 6,
   "id": "bf989716",
   "metadata": {},
   "outputs": [
    {
     "ename": "AttributeError",
     "evalue": "'TestClass1' object has no attribute 'a1'",
     "output_type": "error",
     "traceback": [
      "\u001b[1;31m---------------------------------------------------------------------------\u001b[0m",
      "\u001b[1;31mAttributeError\u001b[0m                            Traceback (most recent call last)",
      "\u001b[1;32m<ipython-input-6-7ee5d7e3a54b>\u001b[0m in \u001b[0;36m<module>\u001b[1;34m\u001b[0m\n\u001b[1;32m----> 1\u001b[1;33m \u001b[0mprint\u001b[0m\u001b[1;33m(\u001b[0m\u001b[0mt2\u001b[0m\u001b[1;33m.\u001b[0m\u001b[0ma1\u001b[0m\u001b[1;33m)\u001b[0m\u001b[1;33m\u001b[0m\u001b[1;33m\u001b[0m\u001b[0m\n\u001b[0m",
      "\u001b[1;31mAttributeError\u001b[0m: 'TestClass1' object has no attribute 'a1'"
     ]
    }
   ],
   "source": [
    "# 객체는 서로 독립적이기 때문에 t1변수를 통해 접근할 수 있는 \n",
    "# 객체에 변수를 추가했다고 해서\n",
    "# 다른 객체인 t2를 통해 접근할 수 있는 객체에 추가되지 않는다.\n",
    "# 즉, 같은 클래스를 통해 만든 객체라고 하더라도 그 구조가 동일하다고\n",
    "# 보장받을 수는 없다.\n",
    "print(t2.a1)"
   ]
  },
  {
   "cell_type": "markdown",
   "id": "8296c96f",
   "metadata": {},
   "source": [
    "### 객체의 맴버\n",
    "- 객체가 가지고 있는 구성 요소\n",
    "- 변수 : 맴버 변수\n",
    "- 함수 : 맴버 메서드"
   ]
  },
  {
   "cell_type": "code",
   "execution_count": 11,
   "id": "ab2ac7d2",
   "metadata": {},
   "outputs": [],
   "source": [
    "class TestClass2 :\n",
    "    \n",
    "    # 생성자 메서드\n",
    "    # 객체가 생성되면 자동으로 호출되는 메서드\n",
    "    # 파이썬에서는 메서드가 호출이 될 때 호출의 원인이 된 객체의\n",
    "    # 일련번호가 첫 번째 매개 변수로 들어온다.\n",
    "    # 이를 통해 해당 객체에 접근할 수 있다.\n",
    "    # 객체를 생성하면 아무것도 가지고 있지 않은 텅 비어있는\n",
    "    # 객체가 생성된다. 이에 __init__ 메서드의 역할은\n",
    "    # 생성된 비어있는 객체에 필요한 변수들을 추가하는 작업을 한다.\n",
    "    def __init__(self) :\n",
    "        print('init 호출')\n",
    "        print(f'self : {self}')\n",
    "        # 생성된 객체에 변수를 추가한다.\n",
    "        self.a1 = 100\n",
    "        self.a2 = 200"
   ]
  },
  {
   "cell_type": "code",
   "execution_count": 12,
   "id": "3b871c5d",
   "metadata": {},
   "outputs": [
    {
     "name": "stdout",
     "output_type": "stream",
     "text": [
      "init 호출\n",
      "self : <__main__.TestClass2 object at 0x0000021A124B38B0>\n",
      "t1 : <__main__.TestClass2 object at 0x0000021A124B38B0>\n"
     ]
    }
   ],
   "source": [
    "t1 = TestClass2()\n",
    "print(f't1 : {t1}')"
   ]
  },
  {
   "cell_type": "code",
   "execution_count": 13,
   "id": "6d96abc6",
   "metadata": {},
   "outputs": [
    {
     "name": "stdout",
     "output_type": "stream",
     "text": [
      "100\n",
      "200\n"
     ]
    }
   ],
   "source": [
    "print(t1.a1)\n",
    "print(t1.a2)"
   ]
  },
  {
   "cell_type": "code",
   "execution_count": 14,
   "id": "ea4ad777",
   "metadata": {},
   "outputs": [
    {
     "name": "stdout",
     "output_type": "stream",
     "text": [
      "init 호출\n",
      "self : <__main__.TestClass2 object at 0x0000021A124B3F70>\n",
      "100\n",
      "200\n"
     ]
    }
   ],
   "source": [
    "t2 = TestClass2()\n",
    "print(t2.a1)\n",
    "print(t2.a2)"
   ]
  },
  {
   "cell_type": "code",
   "execution_count": 15,
   "id": "f1719011",
   "metadata": {},
   "outputs": [],
   "source": [
    "class TestClass3 :\n",
    "    # 객체를 생성할 때 전달해주는 값은 init 메서드의\n",
    "    # 두 번째 매개변수 부터 담기게 된다.\n",
    "    def __init__(self, v1, v2) :\n",
    "        self.a1 = v1\n",
    "        self.a2 = v2"
   ]
  },
  {
   "cell_type": "code",
   "execution_count": 16,
   "id": "c9865d3a",
   "metadata": {},
   "outputs": [
    {
     "name": "stdout",
     "output_type": "stream",
     "text": [
      "100\n",
      "200\n",
      "300\n",
      "400\n"
     ]
    }
   ],
   "source": [
    "t3 = TestClass3(100, 200)\n",
    "t4 = TestClass3(300, 400)\n",
    "\n",
    "print(t3.a1)\n",
    "print(t3.a2)\n",
    "print(t4.a1)\n",
    "print(t4.a2)"
   ]
  },
  {
   "cell_type": "code",
   "execution_count": 17,
   "id": "1b62d412",
   "metadata": {},
   "outputs": [],
   "source": [
    "class TestClass4 :\n",
    "    \n",
    "    def __init__(self, kor1, eng1, math1) :\n",
    "        self.kor = kor1\n",
    "        self.eng = eng1\n",
    "        self.math = math1\n",
    "        \n",
    "    # 총점을 구하는 메서드\n",
    "    def getTotal(self) :\n",
    "        total = self.kor + self.eng + self.math\n",
    "        return total\n",
    "    \n",
    "    # 평균을 구하는 함수\n",
    "    def getAvg(self) :\n",
    "        total = self.kor + self.eng + self.math\n",
    "        avg1 = total // 3\n",
    "        return avg1"
   ]
  },
  {
   "cell_type": "code",
   "execution_count": 18,
   "id": "e10c9f88",
   "metadata": {},
   "outputs": [
    {
     "name": "stdout",
     "output_type": "stream",
     "text": [
      "total1 : 210\n",
      "avg1 : 70\n",
      "total2 : 255\n",
      "avg2 : 85\n"
     ]
    }
   ],
   "source": [
    "t1 = TestClass4(80, 70, 60)\n",
    "t2 = TestClass4(90, 75, 90)\n",
    "\n",
    "total1 = t1.getTotal()\n",
    "avg1 = t1.getAvg()\n",
    "\n",
    "total2 = t2.getTotal()\n",
    "avg2 = t2.getAvg()\n",
    "\n",
    "print(f'total1 : {total1}')\n",
    "print(f'avg1 : {avg1}')\n",
    "\n",
    "print(f'total2 : {total2}')\n",
    "print(f'avg2 : {avg2}')"
   ]
  },
  {
   "cell_type": "markdown",
   "id": "d18e8bf4",
   "metadata": {},
   "source": [
    "### 클래스 맴버\n",
    "- 객체가 아닌 클래스가 관리하는 맴버 변수와 메서드를 의미한다.\n",
    "- 객체가 아닌 클래스를 통해 접근한다."
   ]
  },
  {
   "cell_type": "code",
   "execution_count": 22,
   "id": "89fbd7b6",
   "metadata": {},
   "outputs": [],
   "source": [
    "class TestClass5 :\n",
    "    \n",
    "    # 클래스 맴버 변수\n",
    "    v3 = 100\n",
    "    v4 = 200\n",
    "    \n",
    "    def __init__(self, a1, a2) :\n",
    "        self.v1 = a1\n",
    "        self.v2 = a2\n",
    "        \n",
    "    def method1(self) :\n",
    "        print(f'self : {self}')"
   ]
  },
  {
   "cell_type": "code",
   "execution_count": 23,
   "id": "9689099b",
   "metadata": {},
   "outputs": [
    {
     "name": "stdout",
     "output_type": "stream",
     "text": [
      "100\n",
      "200\n",
      "self : <__main__.TestClass5 object at 0x0000021A138B7130>\n"
     ]
    }
   ],
   "source": [
    "t1 = TestClass5(100, 200)\n",
    "print(t1.v1)\n",
    "print(t1.v2)\n",
    "\n",
    "t1.method1()"
   ]
  },
  {
   "cell_type": "code",
   "execution_count": 24,
   "id": "be6a6a30",
   "metadata": {},
   "outputs": [
    {
     "name": "stdout",
     "output_type": "stream",
     "text": [
      "100\n",
      "200\n"
     ]
    }
   ],
   "source": [
    "# 객체를 통해 클래스 변수 사용\n",
    "print(t1.v3)\n",
    "print(t1.v4)"
   ]
  },
  {
   "cell_type": "code",
   "execution_count": 25,
   "id": "e0861200",
   "metadata": {},
   "outputs": [
    {
     "name": "stdout",
     "output_type": "stream",
     "text": [
      "100\n",
      "200\n"
     ]
    }
   ],
   "source": [
    "# 클래스 이름을 통한 접근\n",
    "print(TestClass5.v3)\n",
    "print(TestClass5.v4)"
   ]
  },
  {
   "cell_type": "code",
   "execution_count": 26,
   "id": "ab18054b",
   "metadata": {},
   "outputs": [
    {
     "name": "stdout",
     "output_type": "stream",
     "text": [
      "100\n",
      "200\n"
     ]
    }
   ],
   "source": [
    "t2 = TestClass5(1000, 2000)\n",
    "print(t2.v3)\n",
    "print(t2.v4)"
   ]
  },
  {
   "cell_type": "code",
   "execution_count": 27,
   "id": "0e3ed0f4",
   "metadata": {},
   "outputs": [
    {
     "name": "stdout",
     "output_type": "stream",
     "text": [
      "5000\n",
      "1000\n"
     ]
    }
   ],
   "source": [
    "# 객체의 맴버 변수의 값을 변경한다.\n",
    "t1.v1 = 5000\n",
    "print(t1.v1)\n",
    "print(t2.v1)"
   ]
  },
  {
   "cell_type": "code",
   "execution_count": 28,
   "id": "d0300738",
   "metadata": {},
   "outputs": [
    {
     "name": "stdout",
     "output_type": "stream",
     "text": [
      "50000\n",
      "50000\n",
      "50000\n"
     ]
    }
   ],
   "source": [
    "# 클래스 변수의 값을 변경한다.\n",
    "TestClass5.v3 = 50000\n",
    "print(TestClass5.v3)\n",
    "print(t1.v3)\n",
    "print(t2.v3)"
   ]
  },
  {
   "cell_type": "code",
   "execution_count": 29,
   "id": "bfdd9a9c",
   "metadata": {},
   "outputs": [
    {
     "name": "stdout",
     "output_type": "stream",
     "text": [
      "200\n",
      "60000\n",
      "200\n"
     ]
    }
   ],
   "source": [
    "# 이것은 클래스 변수 v4에 값을 설정하는 것이 아닌\n",
    "# t1 객체에 새로운 변수 v4를 추가하는 작업이 수행된다.\n",
    "t1.v4 = 60000\n",
    "print(TestClass5.v4)\n",
    "print(t1.v4)\n",
    "print(t2.v4)"
   ]
  },
  {
   "cell_type": "code",
   "execution_count": 30,
   "id": "daff9001",
   "metadata": {},
   "outputs": [
    {
     "name": "stdout",
     "output_type": "stream",
     "text": [
      "1000\n",
      "1000\n"
     ]
    }
   ],
   "source": [
    "# 같은 클래스를 통해 생성된 객체들에 변수를 일괄적으로 추가하는 작업에\n",
    "# 응용할 수 있다.\n",
    "# 클래스 변수 추가\n",
    "TestClass5.v100 = 1000\n",
    "\n",
    "print(t1.v100)\n",
    "print(t2.v100)"
   ]
  },
  {
   "cell_type": "code",
   "execution_count": 31,
   "id": "da82047e",
   "metadata": {},
   "outputs": [
    {
     "name": "stdout",
     "output_type": "stream",
     "text": [
      "2000\n",
      "1000\n"
     ]
    }
   ],
   "source": [
    "# 아래의 코드는 객체에 변수를 추가하는 작업이 이루어진다.\n",
    "t1.v100 = 2000\n",
    "print(t1.v100)\n",
    "print(t2.v100)"
   ]
  },
  {
   "cell_type": "code",
   "execution_count": 33,
   "id": "c5ac0fd6",
   "metadata": {},
   "outputs": [
    {
     "name": "stdout",
     "output_type": "stream",
     "text": [
      "self : 100\n"
     ]
    }
   ],
   "source": [
    "# 객체를 통해 호출하는 것이 아니므로 첫 번째 매개변수에\n",
    "# 아무것도 지정되지 않는다. 모든 매개변수의 값을 직접 넣어줘야한다.\n",
    "# 클래스에 정의되니 메서드의 첫 번째 매개변수 이름이 self 면\n",
    "# 객체를 통해 호출하고\n",
    "# 아니면 클래스를 통해 호출한다.\n",
    "TestClass5.method1(100)"
   ]
  },
  {
   "cell_type": "code",
   "execution_count": null,
   "id": "6e48ac3c",
   "metadata": {},
   "outputs": [],
   "source": []
  }
 ],
 "metadata": {
  "kernelspec": {
   "display_name": "Python 3",
   "language": "python",
   "name": "python3"
  },
  "language_info": {
   "codemirror_mode": {
    "name": "ipython",
    "version": 3
   },
   "file_extension": ".py",
   "mimetype": "text/x-python",
   "name": "python",
   "nbconvert_exporter": "python",
   "pygments_lexer": "ipython3",
   "version": "3.8.8"
  }
 },
 "nbformat": 4,
 "nbformat_minor": 5
}
