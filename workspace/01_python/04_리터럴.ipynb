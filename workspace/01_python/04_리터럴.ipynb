{
 "cells": [
  {
   "cell_type": "markdown",
   "id": "e4ca9e86",
   "metadata": {},
   "source": [
    "### 리터럴\n",
    "- 프로그래밍 언어에서 값을 작성하는 문법"
   ]
  },
  {
   "cell_type": "code",
   "execution_count": 2,
   "id": "fa11cc91",
   "metadata": {},
   "outputs": [
    {
     "name": "stdout",
     "output_type": "stream",
     "text": [
      "100\n",
      "12.34\n"
     ]
    }
   ],
   "source": [
    "# 정수\n",
    "print(100)\n",
    "\n",
    "# 실수\n",
    "print(12.34)"
   ]
  },
  {
   "cell_type": "code",
   "execution_count": 3,
   "id": "99c2184b",
   "metadata": {},
   "outputs": [
    {
     "name": "stdout",
     "output_type": "stream",
     "text": [
      "True\n",
      "False\n"
     ]
    }
   ],
   "source": [
    "# bool 타입\n",
    "\n",
    "# 참\n",
    "print(True)\n",
    "# 거짓\n",
    "print(False)"
   ]
  },
  {
   "cell_type": "code",
   "execution_count": 4,
   "id": "2f9cce73",
   "metadata": {},
   "outputs": [
    {
     "name": "stdout",
     "output_type": "stream",
     "text": [
      "문자열\n",
      "문자열\n"
     ]
    }
   ],
   "source": [
    "# 문자열\n",
    "print('문자열')\n",
    "print(\"문자열\")"
   ]
  },
  {
   "cell_type": "code",
   "execution_count": 5,
   "id": "17a3926f",
   "metadata": {},
   "outputs": [
    {
     "name": "stdout",
     "output_type": "stream",
     "text": [
      "(10+3j)\n",
      "31400000000.0\n"
     ]
    }
   ],
   "source": [
    "# 복소수\n",
    "print(10 + 3j)\n",
    "\n",
    "# 지수\n",
    "print(3.14e10) # e10 10의 10승"
   ]
  },
  {
   "cell_type": "code",
   "execution_count": 7,
   "id": "92a57869",
   "metadata": {},
   "outputs": [
    {
     "name": "stdout",
     "output_type": "stream",
     "text": [
      "2342314433\n"
     ]
    }
   ],
   "source": [
    "# 정수 표현 방법 \n",
    "# 많은 자릿수 표현 때 언더바\n",
    "print(2_342_314_433)"
   ]
  },
  {
   "cell_type": "code",
   "execution_count": 8,
   "id": "978465c5",
   "metadata": {},
   "outputs": [
    {
     "name": "stdout",
     "output_type": "stream",
     "text": [
      "None\n"
     ]
    }
   ],
   "source": [
    "# 아무것도 없다는 뜻\n",
    "print(None)"
   ]
  },
  {
   "cell_type": "markdown",
   "id": "e1f0c1cd",
   "metadata": {},
   "source": [
    "### Type\n",
    "- 값의 타입을 파악할 수 있당"
   ]
  },
  {
   "cell_type": "code",
   "execution_count": 11,
   "id": "d60dd0c2",
   "metadata": {},
   "outputs": [
    {
     "name": "stdout",
     "output_type": "stream",
     "text": [
      "<class 'int'>\n",
      "<class 'float'>\n",
      "<class 'bool'>\n",
      "<class 'bool'>\n",
      "<class 'str'>\n",
      "<class 'str'>\n",
      "<class 'complex'>\n",
      "<class 'float'>\n",
      "<class 'int'>\n",
      "<class 'NoneType'>\n"
     ]
    }
   ],
   "source": [
    "print(type(100))\n",
    "print(type(11.1))\n",
    "print(type(True))\n",
    "print(type(False))\n",
    "print(type('문자열'))\n",
    "print(type(\"문자열\"))\n",
    "print(type(10 + 3j))\n",
    "print(type(3.14e10))\n",
    "print(type(123_342_123))\n",
    "print(type(None))"
   ]
  }
 ],
 "metadata": {
  "kernelspec": {
   "display_name": "Python 3 (ipykernel)",
   "language": "python",
   "name": "python3"
  },
  "language_info": {
   "codemirror_mode": {
    "name": "ipython",
    "version": 3
   },
   "file_extension": ".py",
   "mimetype": "text/x-python",
   "name": "python",
   "nbconvert_exporter": "python",
   "pygments_lexer": "ipython3",
   "version": "3.9.12"
  }
 },
 "nbformat": 4,
 "nbformat_minor": 5
}
