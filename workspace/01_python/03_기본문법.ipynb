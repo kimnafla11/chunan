{
 "cells": [
  {
   "cell_type": "markdown",
   "id": "f56ec427",
   "metadata": {},
   "source": [
    "### 세미콜론\n",
    "- C나 Java 같은 언어는 세미콜론 반드시 필\n",
    "- python, javascript, go, kotlin 등은 선택사항"
   ]
  },
  {
   "cell_type": "code",
   "execution_count": 1,
   "id": "a44557fc",
   "metadata": {},
   "outputs": [
    {
     "name": "stdout",
     "output_type": "stream",
     "text": [
      "세미콜론 안찍음\n",
      "세미콜론 찍음\n"
     ]
    }
   ],
   "source": [
    "print('세미콜론 안찍음')\n",
    "print('세미콜론 찍음');"
   ]
  },
  {
   "cell_type": "code",
   "execution_count": 2,
   "id": "b081829b",
   "metadata": {},
   "outputs": [
    {
     "name": "stdout",
     "output_type": "stream",
     "text": [
      "문자열1\n",
      "문자열2\n"
     ]
    }
   ],
   "source": [
    "print('문자열1'); print('문자열2')"
   ]
  },
  {
   "cell_type": "markdown",
   "id": "0ea57a7d",
   "metadata": {},
   "source": [
    "### 주석 (#)\n",
    "- 코드는 위에서 아래로 한줄 한줄 실행됨\n",
    "- 주석은 무시하고 실행뎀\n",
    "- 설명, 실행하면 안되는 부분에 사용\n",
    "- 여러 줄 주석 설정 및 해제 : ctrl + / "
   ]
  },
  {
   "cell_type": "code",
   "execution_count": 6,
   "id": "94cad1f5",
   "metadata": {},
   "outputs": [
    {
     "name": "stdout",
     "output_type": "stream",
     "text": [
      "문자열2\n"
     ]
    }
   ],
   "source": [
    "# print('문자열1')\n",
    "print('문자열2')"
   ]
  },
  {
   "cell_type": "markdown",
   "id": "8aa3cf1d",
   "metadata": {},
   "source": [
    "### 문자열\n",
    "- 파이썬 작은 따옴표 ('), 큰 따옴표(\") 구별 X"
   ]
  },
  {
   "cell_type": "code",
   "execution_count": 7,
   "id": "54857f20",
   "metadata": {},
   "outputs": [
    {
     "name": "stdout",
     "output_type": "stream",
     "text": [
      "문자열\n",
      "문자열\n"
     ]
    }
   ],
   "source": [
    "print('문자열')\n",
    "print(\"문자열\")"
   ]
  },
  {
   "cell_type": "markdown",
   "id": "8d2f889e",
   "metadata": {},
   "source": [
    "### 출력\n",
    "- print를 사용하면 출력하고 줄 바꿈 (파이썬에서 제공하는 출력문)\n",
    "- 셀 마지막에 값을 작성하면 출력한다 (주피터에서 제공하는 출력문)\n",
    "- 데이터 프레임은 print로 출력하면 가독성 떨어짐"
   ]
  },
  {
   "cell_type": "code",
   "execution_count": 8,
   "id": "170c4dae",
   "metadata": {},
   "outputs": [
    {
     "name": "stdout",
     "output_type": "stream",
     "text": [
      "김나은\n",
      "100\n"
     ]
    }
   ],
   "source": [
    "print('김나은')\n",
    "print(100)"
   ]
  },
  {
   "cell_type": "code",
   "execution_count": 12,
   "id": "ea6157ea",
   "metadata": {},
   "outputs": [
    {
     "data": {
      "text/plain": [
       "100"
      ]
     },
     "execution_count": 12,
     "metadata": {},
     "output_type": "execute_result"
    }
   ],
   "source": [
    "# 셀 제일 마지막에 값, 변수, 함수 등을 작성하면 값 출력\n",
    "'김나은' # 마지막 거만 출력 되기 때문에 출력 안뎀\n",
    "100"
   ]
  },
  {
   "cell_type": "code",
   "execution_count": 13,
   "id": "e9b6eb38",
   "metadata": {},
   "outputs": [
    {
     "name": "stdout",
     "output_type": "stream",
     "text": [
      "추아연\n"
     ]
    },
    {
     "data": {
      "text/plain": [
       "'추아연'"
      ]
     },
     "execution_count": 13,
     "metadata": {},
     "output_type": "execute_result"
    }
   ],
   "source": [
    "# 출력 대상에 따라 다르게 출력 될 수 있다\n",
    "# 개취에 따라 골라서 사용\n",
    "print('추아연')\n",
    "'추아연'"
   ]
  },
  {
   "cell_type": "code",
   "execution_count": 14,
   "id": "996a4d88",
   "metadata": {},
   "outputs": [
    {
     "data": {
      "text/plain": [
       "100"
      ]
     },
     "metadata": {},
     "output_type": "display_data"
    },
    {
     "data": {
      "text/plain": [
       "'추아연'"
      ]
     },
     "metadata": {},
     "output_type": "display_data"
    }
   ],
   "source": [
    "# 셀의 마지막에 작성해서 출력하는 모습으로 여러개를 출력하려면\n",
    "# display를 사용 줄간격 넓음\n",
    "display(100)\n",
    "display('추아연')"
   ]
  }
 ],
 "metadata": {
  "kernelspec": {
   "display_name": "Python 3 (ipykernel)",
   "language": "python",
   "name": "python3"
  },
  "language_info": {
   "codemirror_mode": {
    "name": "ipython",
    "version": 3
   },
   "file_extension": ".py",
   "mimetype": "text/x-python",
   "name": "python",
   "nbconvert_exporter": "python",
   "pygments_lexer": "ipython3",
   "version": "3.9.12"
  }
 },
 "nbformat": 4,
 "nbformat_minor": 5
}
