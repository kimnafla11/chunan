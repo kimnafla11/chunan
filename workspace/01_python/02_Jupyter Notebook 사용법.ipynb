{
 "cells": [
  {
   "cell_type": "markdown",
   "id": "11b0b929",
   "metadata": {},
   "source": [
    "## 주피터노트북 사용법♡"
   ]
  },
  {
   "cell_type": "markdown",
   "id": "9116123c",
   "metadata": {},
   "source": [
    "- Help > Keyboard Shortcut : 주피터노트북 단축키 설명 \n",
    "- command mode (esc) : 셀들을 관리할 수 있당\n",
    "- edit mode (enter) : 셀 내에 입력할 수 있당\n",
    "- shift + tab : 함수 호출 할 때 매개변수 알려줌(머신러닝 함수 호출 할 때 파라미터 튜닝할 때 쓰인다노)"
   ]
  },
  {
   "cell_type": "markdown",
   "id": "6a09d6ed",
   "metadata": {},
   "source": [
    " - Markdown (command mode에서 m) : Markdown 문법을 이용해 설명을 작성할 수 있다 / 간단하게 문서를 이쁘게 만들어줌\n",
    " - Code (command mode에서 y) : 파이썬 코드 작성 ㄱㄴ"
   ]
  },
  {
   "cell_type": "markdown",
   "id": "71f47144",
   "metadata": {},
   "source": [
    "### 셀\n",
    "- 설명이나 코드를 작성할 수 있는 칸 1나를 의미"
   ]
  },
  {
   "cell_type": "markdown",
   "id": "b07cfc2c",
   "metadata": {},
   "source": [
    "### 공통 단축키\n",
    "- shift + enter : 현재 셀 실행 후 다음 셀로 이동\n",
    "- ctrl + enter : 현재 셀 실행 후 다음 셀 이동 ㄴ"
   ]
  },
  {
   "cell_type": "markdown",
   "id": "96cbded4",
   "metadata": {},
   "source": [
    "### Command mode(esc) 단축키\n",
    "- 상 하 방향키 : 셀 이동\n",
    "- a : 현재 셀 상단에 셀 추가\n",
    "- b : 현재 셀 하단에 셀 추가\n",
    "- x, dd : 현재 셀 삭제\n",
    "- z : 삭제한 셀 복원\n",
    "- m : Markdown type으로 변경\n",
    "- y : Code type으로 변경\n",
    "- shift 누른 채로 방향키 : 연속 셀 선택\n",
    "- shift + m 선택한 셀 병합"
   ]
  },
  {
   "cell_type": "markdown",
   "id": "07544d5b",
   "metadata": {},
   "source": [
    "### edit mode(enter) 단축키\n",
    "- 상하 방향키 : 셀의 가장 위나 아래에 있을 때 셀을 이동\n",
    "- ctrl + shift + - : 현 위치 기준으로 셀 나눔"
   ]
  },
  {
   "cell_type": "markdown",
   "id": "5ff36916",
   "metadata": {},
   "source": [
    "# 제목1\n",
    "## 제목2\n",
    "### 제목3\n",
    "#### 제목4\n",
    "##### 제목5"
   ]
  },
  {
   "cell_type": "markdown",
   "id": "0976e143",
   "metadata": {},
   "source": [
    "### 일부 HTML 지원함\n",
    "\n",
    "#### 요새들어 <span style = 'color:red'>잘나가는 </span>나 같은 여자"
   ]
  },
  {
   "cell_type": "markdown",
   "id": "e930771b",
   "metadata": {},
   "source": [
    "![이미지 파일이 없을 때 보여줄 문자열](image/bear.png)"
   ]
  },
  {
   "cell_type": "markdown",
   "id": "3d22083d",
   "metadata": {},
   "source": [
    "- 달러 표시로 수식 표현 가능\n",
    "$a^2 + b^2 = c^2$"
   ]
  },
  {
   "cell_type": "markdown",
   "id": "b3539f4d",
   "metadata": {},
   "source": [
    "### 참고 사이트\n",
    "- 데이터사이언스스쿨 : https://datascienceschool.net/intro.html\n",
    "- 튜토리얼스포인트 : https://www.tutorialspoint.com/tutorialslibrary.htm\n",
    "- 위키독스 : https://wikidocs.net/\n",
    "- 초보자를 위한 파이썬 300제 : https://wikidocs.net/book/922"
   ]
  }
 ],
 "metadata": {
  "kernelspec": {
   "display_name": "Python 3 (ipykernel)",
   "language": "python",
   "name": "python3"
  },
  "language_info": {
   "codemirror_mode": {
    "name": "ipython",
    "version": 3
   },
   "file_extension": ".py",
   "mimetype": "text/x-python",
   "name": "python",
   "nbconvert_exporter": "python",
   "pygments_lexer": "ipython3",
   "version": "3.9.12"
  }
 },
 "nbformat": 4,
 "nbformat_minor": 5
}
