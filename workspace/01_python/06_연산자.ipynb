{
 "cells": [
  {
   "cell_type": "markdown",
   "id": "5c7a4f00",
   "metadata": {},
   "source": [
    "### 연산자\n",
    "- 단항연산자 : ., [], +, - 등등\n",
    "- 산술연산자 : +, -, *, /, **, //, %\n",
    "- 대입연산자 : =, +=, -=, * =, /=, ** =, //=, %=\n",
    "- 비교연산자 : >, <, >=, <=, ==, !=\n",
    "- 논리연산자 : not, and, or"
   ]
  },
  {
   "cell_type": "markdown",
   "id": "ba62ec30",
   "metadata": {},
   "source": [
    "### 단항 연산자\n",
    "- 연산에 사용되는 값이 하나인 경우"
   ]
  },
  {
   "cell_type": "code",
   "execution_count": 1,
   "id": "4219527c",
   "metadata": {},
   "outputs": [
    {
     "name": "stdout",
     "output_type": "stream",
     "text": [
      "10\n",
      "-10\n"
     ]
    }
   ],
   "source": [
    "a1 = 10\n",
    "\n",
    "# 양수 -> 양수, 음수 -> 음수\n",
    "b1 = +a1\n",
    "print(b1)\n",
    "\n",
    "# 양수 -> 음수, 음수 -> 양수\n",
    "b2 = -a1\n",
    "print(b2)"
   ]
  },
  {
   "cell_type": "markdown",
   "id": "8321106f",
   "metadata": {},
   "source": [
    "### 산술 연산자\n",
    "- 산수에서 사용하는 산술 연산자"
   ]
  },
  {
   "cell_type": "code",
   "execution_count": 2,
   "id": "54e1adc7",
   "metadata": {},
   "outputs": [],
   "source": [
    "# 더하기\n",
    "a1 = 10 + 3\n",
    "\n",
    "# 빼기\n",
    "a2 = 10 - 3\n",
    "\n",
    "# 곱하기\n",
    "a3 = 10 * 3\n",
    "\n",
    "# 나누기(결과가 실수로 나옴)\n",
    "a4 = 10 / 3\n",
    "\n",
    "# 거듭제곱\n",
    "a5 = 10 ** 3\n",
    "\n",
    "# 몫(결과가 정수로 나옴)\n",
    "a6 = 10 // 3\n",
    "\n",
    "# 나머지\n",
    "a7 = 10 % 3"
   ]
  },
  {
   "cell_type": "code",
   "execution_count": 3,
   "id": "9c6262b5",
   "metadata": {},
   "outputs": [
    {
     "name": "stdout",
     "output_type": "stream",
     "text": [
      "13\n",
      "7\n",
      "30\n",
      "3.3333333333333335\n",
      "1000\n",
      "3\n",
      "1\n"
     ]
    }
   ],
   "source": [
    "print(a1)\n",
    "print(a2)\n",
    "print(a3)\n",
    "print(a4)\n",
    "print(a5)\n",
    "print(a6)\n",
    "print(a7)"
   ]
  },
  {
   "cell_type": "markdown",
   "id": "585fad4e",
   "metadata": {},
   "source": [
    "### 비교 연산자\n",
    "- True/False 반환"
   ]
  },
  {
   "cell_type": "code",
   "execution_count": 6,
   "id": "d5fc1197",
   "metadata": {},
   "outputs": [
    {
     "name": "stdout",
     "output_type": "stream",
     "text": [
      "False True True False False True\n"
     ]
    }
   ],
   "source": [
    "a1 = 10 < 2\n",
    "a2 = 10 > 2\n",
    "a3 = 10 >= 2\n",
    "a4 = 10 <=2\n",
    "a5 = 10 == 2\n",
    "a6 = 10 != 2\n",
    "\n",
    "print(a1, a2, a3, a4, a5, a6)"
   ]
  },
  {
   "cell_type": "markdown",
   "id": "30c6310d",
   "metadata": {},
   "source": [
    "### 논리 연산자\n",
    "- True나 False를 결과로 하는 두 수식의 결과를 통해 연산 수행\n",
    "- and : 둘 중 하나가 False 면 결과 False\n",
    "- or : 둘 중 하나가 True 면 결과 True\n",
    "- not : True를 False로, False를 True로 변환"
   ]
  },
  {
   "cell_type": "code",
   "execution_count": 7,
   "id": "11b0e7c6",
   "metadata": {},
   "outputs": [
    {
     "name": "stdout",
     "output_type": "stream",
     "text": [
      "True False False True True False\n"
     ]
    }
   ],
   "source": [
    "a1 = 10 > 2 and 10 > 3\n",
    "a2 = 10 > 2 and 10 > 20\n",
    "a3 = 10 < 2 or 10 < 3\n",
    "a4 = 10 < 2 or 10 < 20\n",
    "a5 = not 10 < 2\n",
    "a6 = not 10 > 2\n",
    "\n",
    "print(a1, a2, a3, a4, a5, a6)"
   ]
  },
  {
   "cell_type": "code",
   "execution_count": null,
   "id": "9640db7e",
   "metadata": {},
   "outputs": [],
   "source": [
    "\n"
   ]
  }
 ],
 "metadata": {
  "kernelspec": {
   "display_name": "Python 3 (ipykernel)",
   "language": "python",
   "name": "python3"
  },
  "language_info": {
   "codemirror_mode": {
    "name": "ipython",
    "version": 3
   },
   "file_extension": ".py",
   "mimetype": "text/x-python",
   "name": "python",
   "nbconvert_exporter": "python",
   "pygments_lexer": "ipython3",
   "version": "3.9.12"
  }
 },
 "nbformat": 4,
 "nbformat_minor": 5
}
