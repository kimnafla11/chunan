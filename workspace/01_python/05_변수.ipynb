{
 "cells": [
  {
   "cell_type": "markdown",
   "id": "4890c0de",
   "metadata": {},
   "source": [
    "### 이름(식별자)을 짓는 규칙\n",
    "- 첫 글자는 문자나 _(언더바)로 시작해야함\n",
    "- 숫자로 시작 불가\n",
    "- 특수문자 대부분이 연산자이므로 _ 를 제외하고 사용할 수 업당\n",
    "- 키워드(미리 용도가 정해져 있는 단어 ex. True,False,None)는 사용 불가\n",
    "- 대소구분"
   ]
  },
  {
   "cell_type": "markdown",
   "id": "495ba893",
   "metadata": {},
   "source": [
    "### 권장\n",
    "- 변수 : 첫 글자를 소문자로\n",
    "- 함수 : 첫 글자를 소문자로\n",
    "- 클래스 : 첫 글자를 대문자로\n",
    "- 가급적 파스칼 표기기법이나 카멜 표기 기법 사용\n",
    "- koreanpointavg : 이렇게 하지마세요\n",
    "- 파스칼 : korean_point_avg\n",
    "- 카멜표기 : koreanPointAvg\n",
    "- 변수명 지어주는 사이트 : https://www.curioustore.com/"
   ]
  },
  {
   "cell_type": "markdown",
   "id": "91b5615c",
   "metadata": {},
   "source": [
    "### 변수\n",
    "- 메모리(RAM)에 만들어지는 기억장소\n",
    "- 이름을 부여해 개발자가 자유롭게 사용할 수 있다\n",
    "- 값 하나만 저장 가능\n",
    "- 파이썬은 변수 생성하려면 지금까지 사용하지 않은 이름으로 값 저장\n",
    "- 기존에 사용한 이름을 통해 저장하면 덮어쓰기 됨"
   ]
  },
  {
   "cell_type": "markdown",
   "id": "95904893",
   "metadata": {},
   "source": [
    "### 변수 생성"
   ]
  },
  {
   "cell_type": "code",
   "execution_count": 1,
   "id": "7f1ae294",
   "metadata": {},
   "outputs": [],
   "source": [
    "# 한 번도 사용하지 않은 이름으로 저장하면 변수가 생성뎀\n",
    "# 대입 연산자 =  오른쪽 값을 왼속 변수에 저장\n",
    "a1 = 100\n",
    "a2 = 11.11\n",
    "a3 = True\n",
    "a4 = False\n",
    "a5 = \"문자열\""
   ]
  },
  {
   "cell_type": "markdown",
   "id": "389d5f6c",
   "metadata": {},
   "source": [
    "### 변수 사용"
   ]
  },
  {
   "cell_type": "code",
   "execution_count": 3,
   "id": "9345a453",
   "metadata": {},
   "outputs": [
    {
     "name": "stdout",
     "output_type": "stream",
     "text": [
      "100\n",
      "11.11\n",
      "True\n",
      "False\n",
      "문자열\n"
     ]
    }
   ],
   "source": [
    "# 변수의 이름만 작성하면 변수에 저장되어 있는 값을 가져온다.\n",
    "# 존재하지 않는 변수를 사용하면 오류 발생\n",
    "print(a1)\n",
    "print(a2)\n",
    "print(a3)\n",
    "print(a4)\n",
    "print(a5)"
   ]
  },
  {
   "cell_type": "code",
   "execution_count": 4,
   "id": "e5d94fa2",
   "metadata": {},
   "outputs": [
    {
     "ename": "NameError",
     "evalue": "name 'a6' is not defined",
     "output_type": "error",
     "traceback": [
      "\u001b[1;31m---------------------------------------------------------------------------\u001b[0m",
      "\u001b[1;31mNameError\u001b[0m                                 Traceback (most recent call last)",
      "Input \u001b[1;32mIn [4]\u001b[0m, in \u001b[0;36m<cell line: 2>\u001b[1;34m()\u001b[0m\n\u001b[0;32m      1\u001b[0m \u001b[38;5;66;03m# 존재하지 않는 변수\u001b[39;00m\n\u001b[1;32m----> 2\u001b[0m \u001b[38;5;28mprint\u001b[39m(\u001b[43ma6\u001b[49m)\n",
      "\u001b[1;31mNameError\u001b[0m: name 'a6' is not defined"
     ]
    }
   ],
   "source": [
    "# 존재하지 않는 변수\n",
    "print(a6)"
   ]
  },
  {
   "cell_type": "code",
   "execution_count": 5,
   "id": "7a4e9673",
   "metadata": {},
   "outputs": [
    {
     "name": "stdout",
     "output_type": "stream",
     "text": [
      "100\n",
      "200\n"
     ]
    }
   ],
   "source": [
    "# 사용했던 변수에 덮어쓰기\n",
    "print(a1)\n",
    "\n",
    "a1 = 200\n",
    "\n",
    "print(a1)"
   ]
  },
  {
   "cell_type": "markdown",
   "id": "196157d1",
   "metadata": {},
   "source": [
    "### 변수의 타입\n",
    "- 다른 프로그래밍 언어들 중에는 변수 타입을 지정해야한다.\n",
    "- 파이썬을 비롯한 몇몇 언어들은 모든 값을 '객체'라는 한 가지 타입으로 관리함\n",
    "- 그래서 변수에 어떤 타입의 값이 저장되어있는지 확인하기 어려움\n",
    "- 이 때 type 함수 사용함"
   ]
  },
  {
   "cell_type": "code",
   "execution_count": 7,
   "id": "0d039608",
   "metadata": {},
   "outputs": [
    {
     "name": "stdout",
     "output_type": "stream",
     "text": [
      "200\n",
      "<class 'int'>\n"
     ]
    }
   ],
   "source": [
    "print(a1)\n",
    "print(type(a1))"
   ]
  },
  {
   "cell_type": "code",
   "execution_count": 9,
   "id": "8919389b",
   "metadata": {},
   "outputs": [
    {
     "name": "stdout",
     "output_type": "stream",
     "text": [
      "<class 'str'>\n"
     ]
    }
   ],
   "source": [
    "a1 = '문자열'\n",
    "print(type(a1)) \n",
    "# class에 저장되어있지만 type은 str타입인거임"
   ]
  }
 ],
 "metadata": {
  "kernelspec": {
   "display_name": "Python 3 (ipykernel)",
   "language": "python",
   "name": "python3"
  },
  "language_info": {
   "codemirror_mode": {
    "name": "ipython",
    "version": 3
   },
   "file_extension": ".py",
   "mimetype": "text/x-python",
   "name": "python",
   "nbconvert_exporter": "python",
   "pygments_lexer": "ipython3",
   "version": "3.9.12"
  }
 },
 "nbformat": 4,
 "nbformat_minor": 5
}
